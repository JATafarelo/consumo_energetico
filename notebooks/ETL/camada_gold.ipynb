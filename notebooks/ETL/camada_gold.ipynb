{
 "cells": [
  {
   "cell_type": "markdown",
   "id": "5eb5a964",
   "metadata": {},
   "source": [
    "# O objetivo da camada gold é:\n",
    "\n",
    "- Contém dados preparados e otimizados para análise e consumo pelas áreas de negócio. \n",
    "- Os dados são agregados e formatados para uso em dashboards, relatórios e outras ferramentas de análise. \n",
    "- Esta camada normalmente possui tabelas já prontas para consultas, facilitando a tomada de decisões.\n",
    "- Apresenta dados analíticos e transacionais consolidados, prontos para serem utilizados pelos usuários finais.\n",
    "- Região Desconhecida deve ser tratada.\n",
    "- Criação de tabela consumo de energia com informações de cliente e clima. "
   ]
  },
  {
   "cell_type": "code",
   "execution_count": 1,
   "id": "159803df",
   "metadata": {
    "execution": {
     "iopub.execute_input": "2025-07-30T16:38:28.928793Z",
     "iopub.status.busy": "2025-07-30T16:38:28.928793Z",
     "iopub.status.idle": "2025-07-30T16:38:29.293059Z",
     "shell.execute_reply": "2025-07-30T16:38:29.293059Z"
    }
   },
   "outputs": [],
   "source": [
    "import pandas as pd\n",
    "import duckdb"
   ]
  },
  {
   "cell_type": "markdown",
   "id": "f99eedab",
   "metadata": {},
   "source": [
    "# Extração\n",
    "\n",
    "- Tabela Consumo Geral"
   ]
  },
  {
   "cell_type": "code",
   "execution_count": 2,
   "id": "2245a43d",
   "metadata": {
    "execution": {
     "iopub.execute_input": "2025-07-30T16:38:29.293059Z",
     "iopub.status.busy": "2025-07-30T16:38:29.293059Z",
     "iopub.status.idle": "2025-07-30T16:38:29.325424Z",
     "shell.execute_reply": "2025-07-30T16:38:29.325424Z"
    }
   },
   "outputs": [],
   "source": [
    "# Caminho do banco\n",
    "db_path = \"../../data/duckdb/database.duckdb\"\n",
    "\n",
    "# Conexão com o banco DuckDB\n",
    "con = duckdb.connect(db_path)\n",
    "\n",
    "# Carrega os dados da camada bronze\n",
    "clientes_df = con.execute(\"SELECT * FROM silver.clientes\").df()\n",
    "consumo_df = con.execute(\"SELECT * FROM silver.consumo\").df()\n",
    "clima_df = con.execute(\"SELECT * FROM silver.clima\").df()"
   ]
  },
  {
   "cell_type": "code",
   "execution_count": 3,
   "id": "0a111fbc",
   "metadata": {
    "execution": {
     "iopub.execute_input": "2025-07-30T16:38:29.325424Z",
     "iopub.status.busy": "2025-07-30T16:38:29.325424Z",
     "iopub.status.idle": "2025-07-30T16:38:29.338320Z",
     "shell.execute_reply": "2025-07-30T16:38:29.338320Z"
    }
   },
   "outputs": [
    {
     "data": {
      "text/plain": [
       "<duckdb.duckdb.DuckDBPyConnection at 0x1d8509bf2b0>"
      ]
     },
     "execution_count": 3,
     "metadata": {},
     "output_type": "execute_result"
    }
   ],
   "source": [
    "# Cria schema 'silver' se não existir\n",
    "con.execute(\"CREATE SCHEMA IF NOT EXISTS gold\")"
   ]
  },
  {
   "cell_type": "markdown",
   "id": "55b1a181",
   "metadata": {},
   "source": [
    "# Transformação"
   ]
  },
  {
   "cell_type": "code",
   "execution_count": 4,
   "id": "d9e30736",
   "metadata": {
    "execution": {
     "iopub.execute_input": "2025-07-30T16:38:29.341355Z",
     "iopub.status.busy": "2025-07-30T16:38:29.341355Z",
     "iopub.status.idle": "2025-07-30T16:38:29.352710Z",
     "shell.execute_reply": "2025-07-30T16:38:29.352710Z"
    }
   },
   "outputs": [],
   "source": [
    "cliente_consumo_df = pd.merge(consumo_df, clientes_df, on='client_id', how='inner')\n",
    "\n",
    "\n",
    "clientes_df = cliente_consumo_df[cliente_consumo_df['region'] != 'Desconhecida']"
   ]
  },
  {
   "cell_type": "code",
   "execution_count": 5,
   "id": "af634920",
   "metadata": {
    "execution": {
     "iopub.execute_input": "2025-07-30T16:38:29.354720Z",
     "iopub.status.busy": "2025-07-30T16:38:29.354720Z",
     "iopub.status.idle": "2025-07-30T16:38:29.369883Z",
     "shell.execute_reply": "2025-07-30T16:38:29.369883Z"
    }
   },
   "outputs": [],
   "source": [
    "consumo_geral = (\n",
    "    cliente_consumo_df\n",
    "    .merge(\n",
    "        clima_df,\n",
    "        on=['region', 'date'], \n",
    "        how='inner'\n",
    "    )\n",
    ")\n",
    "\n",
    "consumo_geral = consumo_geral.sort_values(by=['region', 'date'])\n"
   ]
  },
  {
   "cell_type": "markdown",
   "id": "8ff4a37d",
   "metadata": {},
   "source": [
    "# Carregamento"
   ]
  },
  {
   "cell_type": "code",
   "execution_count": 6,
   "id": "ed2ed04d",
   "metadata": {
    "execution": {
     "iopub.execute_input": "2025-07-30T16:38:29.369883Z",
     "iopub.status.busy": "2025-07-30T16:38:29.369883Z",
     "iopub.status.idle": "2025-07-30T16:38:29.377104Z",
     "shell.execute_reply": "2025-07-30T16:38:29.377104Z"
    }
   },
   "outputs": [],
   "source": [
    "consumo_geral = consumo_geral[['date', 'client_id', 'region', 'temperature', 'humidity', 'consumption_kwh']]"
   ]
  },
  {
   "cell_type": "code",
   "execution_count": 7,
   "id": "6dbff36d",
   "metadata": {
    "execution": {
     "iopub.execute_input": "2025-07-30T16:38:29.378851Z",
     "iopub.status.busy": "2025-07-30T16:38:29.378851Z",
     "iopub.status.idle": "2025-07-30T16:38:29.387705Z",
     "shell.execute_reply": "2025-07-30T16:38:29.387705Z"
    }
   },
   "outputs": [
    {
     "data": {
      "text/plain": [
       "<duckdb.duckdb.DuckDBPyConnection at 0x1d8509bf2b0>"
      ]
     },
     "execution_count": 7,
     "metadata": {},
     "output_type": "execute_result"
    }
   ],
   "source": [
    "# Cria tabelas dentro do schema gold\n",
    "con.execute(\"\"\"\n",
    "CREATE TABLE IF NOT EXISTS gold.consumo_geral (\n",
    "    date DATE,\n",
    "    client_id VARCHAR,\n",
    "    region VARCHAR,\n",
    "    temperature DOUBLE,\n",
    "    humidity DOUBLE,\n",
    "    consumption_kwh DOUBLE\n",
    ")\n",
    "\"\"\")"
   ]
  },
  {
   "cell_type": "code",
   "execution_count": 8,
   "id": "32195056",
   "metadata": {
    "execution": {
     "iopub.execute_input": "2025-07-30T16:38:29.387705Z",
     "iopub.status.busy": "2025-07-30T16:38:29.387705Z",
     "iopub.status.idle": "2025-07-30T16:38:29.395004Z",
     "shell.execute_reply": "2025-07-30T16:38:29.395004Z"
    }
   },
   "outputs": [
    {
     "data": {
      "text/plain": [
       "<duckdb.duckdb.DuckDBPyConnection at 0x1d8509bf2b0>"
      ]
     },
     "execution_count": 8,
     "metadata": {},
     "output_type": "execute_result"
    }
   ],
   "source": [
    "# Limpa dados se as tabelas já existirem\n",
    "con.execute(\"DELETE FROM gold.consumo_geral\")"
   ]
  },
  {
   "cell_type": "code",
   "execution_count": 9,
   "id": "4ee06aa1",
   "metadata": {
    "execution": {
     "iopub.execute_input": "2025-07-30T16:38:29.395004Z",
     "iopub.status.busy": "2025-07-30T16:38:29.395004Z",
     "iopub.status.idle": "2025-07-30T16:38:29.405970Z",
     "shell.execute_reply": "2025-07-30T16:38:29.405970Z"
    }
   },
   "outputs": [
    {
     "data": {
      "text/plain": [
       "<duckdb.duckdb.DuckDBPyConnection at 0x1d8509bf2b0>"
      ]
     },
     "execution_count": 9,
     "metadata": {},
     "output_type": "execute_result"
    }
   ],
   "source": [
    "# Registra como tabelas temporárias\n",
    "con.register(\"consumo_geral\", consumo_geral)"
   ]
  },
  {
   "cell_type": "code",
   "execution_count": 10,
   "id": "0c44de01",
   "metadata": {
    "execution": {
     "iopub.execute_input": "2025-07-30T16:38:29.405970Z",
     "iopub.status.busy": "2025-07-30T16:38:29.405970Z",
     "iopub.status.idle": "2025-07-30T16:38:29.426658Z",
     "shell.execute_reply": "2025-07-30T16:38:29.426658Z"
    }
   },
   "outputs": [
    {
     "data": {
      "text/plain": [
       "<duckdb.duckdb.DuckDBPyConnection at 0x1d8509bf2b0>"
      ]
     },
     "execution_count": 10,
     "metadata": {},
     "output_type": "execute_result"
    }
   ],
   "source": [
    "# Insere os dados nas tabelas gold\n",
    "con.execute(\"INSERT INTO gold.consumo_geral SELECT * FROM consumo_geral\")"
   ]
  },
  {
   "cell_type": "code",
   "execution_count": 11,
   "id": "a5a95c0e",
   "metadata": {
    "execution": {
     "iopub.execute_input": "2025-07-30T16:38:29.426658Z",
     "iopub.status.busy": "2025-07-30T16:38:29.426658Z",
     "iopub.status.idle": "2025-07-30T16:38:29.451127Z",
     "shell.execute_reply": "2025-07-30T16:38:29.451127Z"
    }
   },
   "outputs": [
    {
     "name": "stdout",
     "output_type": "stream",
     "text": [
      "✔ Dados inseridos com sucesso na camada gold do DuckDB.\n"
     ]
    }
   ],
   "source": [
    "con.close()\n",
    "print(\"✔ Dados inseridos com sucesso na camada gold do DuckDB.\")"
   ]
  },
  {
   "cell_type": "code",
   "execution_count": null,
   "id": "6657100d",
   "metadata": {},
   "outputs": [],
   "source": []
  }
 ],
 "metadata": {
  "kernelspec": {
   "display_name": "venv (3.11.9)",
   "language": "python",
   "name": "python3"
  },
  "language_info": {
   "codemirror_mode": {
    "name": "ipython",
    "version": 3
   },
   "file_extension": ".py",
   "mimetype": "text/x-python",
   "name": "python",
   "nbconvert_exporter": "python",
   "pygments_lexer": "ipython3",
   "version": "3.11.9"
  }
 },
 "nbformat": 4,
 "nbformat_minor": 5
}
