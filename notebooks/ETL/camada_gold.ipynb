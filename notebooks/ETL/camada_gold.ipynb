{
 "cells": [
  {
   "cell_type": "markdown",
   "id": "5eb5a964",
   "metadata": {},
   "source": [
    "# O objetivo da camada gold é:\n",
    "\n",
    "- Contém dados preparados e otimizados para análise e consumo pelas áreas de negócio. \n",
    "- Os dados são agregados e formatados para uso em dashboards, relatórios e outras ferramentas de análise. \n",
    "- Esta camada normalmente possui tabelas já prontas para consultas, facilitando a tomada de decisões.\n",
    "- Apresenta dados analíticos e transacionais consolidados, prontos para serem utilizados pelos usuários finais.\n",
    "- Região Desconhecida deve ser tratada.\n",
    "- Criação de tabela consumo de energia com informações de cliente e clima. "
   ]
  },
  {
   "cell_type": "code",
   "execution_count": 3,
   "id": "159803df",
   "metadata": {},
   "outputs": [],
   "source": [
    "import pandas as pd\n",
    "import duckdb\n",
    "\n",
    "import mlflow\n",
    "from mlflow.tracking import MlflowClient"
   ]
  },
  {
   "cell_type": "markdown",
   "id": "f99eedab",
   "metadata": {},
   "source": [
    "# Extração\n",
    "\n",
    "- Tabela Consumo\n",
    "- Tabela Clima\n",
    "- Tabela Clientes"
   ]
  },
  {
   "cell_type": "code",
   "execution_count": 4,
   "id": "2245a43d",
   "metadata": {},
   "outputs": [],
   "source": [
    "# Caminho do banco\n",
    "db_path = \"../../data/duckdb/database.duckdb\"\n",
    "\n",
    "# Conexão com o banco DuckDB\n",
    "con = duckdb.connect(db_path)\n",
    "\n",
    "# Carrega os dados da camada bronze\n",
    "clientes_df = con.execute(\"SELECT * FROM silver.clientes\").df()\n",
    "consumo_df = con.execute(\"SELECT * FROM silver.consumo\").df()\n",
    "clima_df = con.execute(\"SELECT * FROM silver.clima\").df()"
   ]
  },
  {
   "cell_type": "code",
   "execution_count": 5,
   "id": "0a111fbc",
   "metadata": {},
   "outputs": [
    {
     "data": {
      "text/plain": [
       "<duckdb.duckdb.DuckDBPyConnection at 0x230c7be73f0>"
      ]
     },
     "execution_count": 5,
     "metadata": {},
     "output_type": "execute_result"
    }
   ],
   "source": [
    "# Cria schema 'silver' se não existir\n",
    "con.execute(\"CREATE SCHEMA IF NOT EXISTS gold\")"
   ]
  },
  {
   "cell_type": "markdown",
   "id": "55b1a181",
   "metadata": {},
   "source": [
    "# Transformação"
   ]
  },
  {
   "cell_type": "code",
   "execution_count": 6,
   "id": "d9e30736",
   "metadata": {},
   "outputs": [],
   "source": [
    "cliente_consumo_df = pd.merge(consumo_df, clientes_df, on='client_id', how='inner')\n",
    "\n",
    "clientes_desconhecidos_df = cliente_consumo_df[cliente_consumo_df['region'] == 'Desconhecida'].copy()\n",
    "clientes_desconhecidos_df = clientes_desconhecidos_df.drop('region', axis=1)\n",
    "\n",
    "\n",
    "clientes_conhecidos_df = cliente_consumo_df[cliente_consumo_df['region'] != 'Desconhecida']"
   ]
  },
  {
   "cell_type": "code",
   "execution_count": 7,
   "id": "3de46806",
   "metadata": {},
   "outputs": [
    {
     "name": "stdout",
     "output_type": "stream",
     "text": [
      "Modelo não atingiu a métrica mínima de F1-score: 0.2553823836744729. Dados de clientes desconhecidos serão excluídos.\n"
     ]
    }
   ],
   "source": [
    "# Define o caminho onde os dados da run serão armazenados\n",
    "mlflow.set_tracking_uri(\"../../mlruns\")\n",
    "\n",
    "# Inicializa o cliente MLflow\n",
    "client = MlflowClient()\n",
    "\n",
    "# Nome do experimento\n",
    "experiment_name = \"modelo_classificacao_pipeline\"\n",
    "experiment = client.get_experiment_by_name(experiment_name)\n",
    "\n",
    "if experiment is None:\n",
    "    %run ../region_classificador/train.ipynb\n",
    "    %run ../region_classificador/predict.ipynb\n",
    "\n",
    "# Lista os runs do experimento\n",
    "runs = client.search_runs(experiment_ids=[experiment.experiment_id], order_by=[\"start_time DESC\"])\n",
    "\n",
    "# Seleciona o run mais recente\n",
    "latest_run = runs[0]\n",
    "run_id = latest_run.info.run_id\n",
    "\n",
    "# Recupera as métricas\n",
    "metrics = latest_run.data.metrics\n",
    "\n",
    "# Exibe F1-score\n",
    "f1_score = metrics.get(\"f1_score\")\n",
    "\n",
    "# Se o modelo não atingir a métrica mínima de F1-score, não executa a classificação e os dados são excluídos\n",
    "if f1_score >= 0.8:\n",
    "    classificador_output_df = con.execute(\"SELECT * FROM output.region_classificador\").df()\n",
    "    clientes_desconhecidos_df = clientes_desconhecidos_df.merge(\n",
    "        classificador_output_df[['client_id', 'region']],\n",
    "        on='client_id',\n",
    "        how='inner'\n",
    "    )\n",
    "\n",
    "    clientes_df = pd.concat([clientes_conhecidos_df, clientes_desconhecidos_df])\n",
    "else:\n",
    "    print(f\"Modelo não atingiu a métrica mínima de F1-score: {f1_score}. Dados de clientes desconhecidos serão excluídos.\")\n",
    "    clientes_df = clientes_conhecidos_df\n"
   ]
  },
  {
   "cell_type": "code",
   "execution_count": 8,
   "id": "af634920",
   "metadata": {},
   "outputs": [],
   "source": [
    "consumo_geral = (\n",
    "    cliente_consumo_df\n",
    "    .merge(\n",
    "        clima_df,\n",
    "        on=['region', 'date'], \n",
    "        how='inner'\n",
    "    )\n",
    ")\n",
    "\n",
    "consumo_geral = consumo_geral.sort_values(by=['region', 'date'])\n"
   ]
  },
  {
   "cell_type": "markdown",
   "id": "8ff4a37d",
   "metadata": {},
   "source": [
    "# Carregamento"
   ]
  },
  {
   "cell_type": "code",
   "execution_count": 9,
   "id": "ed2ed04d",
   "metadata": {},
   "outputs": [],
   "source": [
    "consumo_geral = consumo_geral[['date', 'client_id', 'region', 'temperature', 'humidity', 'consumption_kwh']]"
   ]
  },
  {
   "cell_type": "code",
   "execution_count": 10,
   "id": "6dbff36d",
   "metadata": {},
   "outputs": [
    {
     "data": {
      "text/plain": [
       "<duckdb.duckdb.DuckDBPyConnection at 0x230c7be73f0>"
      ]
     },
     "execution_count": 10,
     "metadata": {},
     "output_type": "execute_result"
    }
   ],
   "source": [
    "# Cria tabelas dentro do schema gold\n",
    "con.execute(\"\"\"\n",
    "CREATE TABLE IF NOT EXISTS gold.consumo_geral (\n",
    "    date DATE,\n",
    "    client_id VARCHAR,\n",
    "    region VARCHAR,\n",
    "    temperature DOUBLE,\n",
    "    humidity DOUBLE,\n",
    "    consumption_kwh DOUBLE\n",
    ")\n",
    "\"\"\")"
   ]
  },
  {
   "cell_type": "code",
   "execution_count": 11,
   "id": "32195056",
   "metadata": {},
   "outputs": [
    {
     "data": {
      "text/plain": [
       "<duckdb.duckdb.DuckDBPyConnection at 0x230c7be73f0>"
      ]
     },
     "execution_count": 11,
     "metadata": {},
     "output_type": "execute_result"
    }
   ],
   "source": [
    "# Limpa dados se as tabelas já existirem\n",
    "con.execute(\"DELETE FROM gold.consumo_geral\")"
   ]
  },
  {
   "cell_type": "code",
   "execution_count": 12,
   "id": "4ee06aa1",
   "metadata": {},
   "outputs": [
    {
     "data": {
      "text/plain": [
       "<duckdb.duckdb.DuckDBPyConnection at 0x230c7be73f0>"
      ]
     },
     "execution_count": 12,
     "metadata": {},
     "output_type": "execute_result"
    }
   ],
   "source": [
    "# Registra como tabelas temporárias\n",
    "con.register(\"consumo_geral\", consumo_geral)"
   ]
  },
  {
   "cell_type": "code",
   "execution_count": 13,
   "id": "0c44de01",
   "metadata": {},
   "outputs": [
    {
     "data": {
      "text/plain": [
       "<duckdb.duckdb.DuckDBPyConnection at 0x230c7be73f0>"
      ]
     },
     "execution_count": 13,
     "metadata": {},
     "output_type": "execute_result"
    }
   ],
   "source": [
    "# Insere os dados nas tabelas gold\n",
    "con.execute(\"INSERT INTO gold.consumo_geral SELECT * FROM consumo_geral\")"
   ]
  },
  {
   "cell_type": "code",
   "execution_count": 14,
   "id": "a5a95c0e",
   "metadata": {},
   "outputs": [
    {
     "name": "stdout",
     "output_type": "stream",
     "text": [
      "✔ Dados inseridos com sucesso na camada gold do DuckDB.\n"
     ]
    }
   ],
   "source": [
    "con.close()\n",
    "print(\"✔ Dados inseridos com sucesso na camada gold do DuckDB.\")"
   ]
  },
  {
   "cell_type": "code",
   "execution_count": null,
   "id": "6657100d",
   "metadata": {},
   "outputs": [],
   "source": []
  }
 ],
 "metadata": {
  "kernelspec": {
   "display_name": "venv",
   "language": "python",
   "name": "python3"
  },
  "language_info": {
   "codemirror_mode": {
    "name": "ipython",
    "version": 3
   },
   "file_extension": ".py",
   "mimetype": "text/x-python",
   "name": "python",
   "nbconvert_exporter": "python",
   "pygments_lexer": "ipython3",
   "version": "3.10.0"
  }
 },
 "nbformat": 4,
 "nbformat_minor": 5
}
