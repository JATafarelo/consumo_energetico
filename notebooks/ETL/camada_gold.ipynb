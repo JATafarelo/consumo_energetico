{
 "cells": [
  {
   "cell_type": "markdown",
   "id": "5eb5a964",
   "metadata": {},
   "source": [
    "# O objetivo da camada gold é:\n",
    "\n",
    "- Contém dados preparados e otimizados para análise e consumo pelas áreas de negócio. \n",
    "- Os dados são agregados e formatados para uso em dashboards, relatórios e outras ferramentas de análise. \n",
    "- Esta camada normalmente possui tabelas já prontas para consultas, facilitando a tomada de decisões.\n",
    "- Apresenta dados analíticos e transacionais consolidados, prontos para serem utilizados pelos usuários finais.\n",
    "- Região Desconhecida deve ser tratada.\n",
    "- Criação de tabela consumo de energia com informações de cliente e clima. "
   ]
  },
  {
   "cell_type": "code",
   "execution_count": 1,
   "id": "159803df",
   "metadata": {
    "execution": {
     "iopub.execute_input": "2025-07-29T23:41:18.826200Z",
     "iopub.status.busy": "2025-07-29T23:41:18.826200Z",
     "iopub.status.idle": "2025-07-29T23:41:47.485211Z",
     "shell.execute_reply": "2025-07-29T23:41:47.482671Z"
    }
   },
   "outputs": [],
   "source": [
    "import pandas as pd\n",
    "import duckdb\n",
    "\n",
    "import mlflow\n",
    "from mlflow.tracking import MlflowClient"
   ]
  },
  {
   "cell_type": "markdown",
   "id": "f99eedab",
   "metadata": {},
   "source": [
    "# Extração\n",
    "\n",
    "- Tabela Consumo\n",
    "- Tabela Clima\n",
    "- Tabela Clientes"
   ]
  },
  {
   "cell_type": "code",
   "execution_count": 2,
   "id": "2245a43d",
   "metadata": {
    "execution": {
     "iopub.execute_input": "2025-07-29T23:41:47.494749Z",
     "iopub.status.busy": "2025-07-29T23:41:47.493209Z",
     "iopub.status.idle": "2025-07-29T23:41:47.681110Z",
     "shell.execute_reply": "2025-07-29T23:41:47.679362Z"
    }
   },
   "outputs": [],
   "source": [
    "# Caminho do banco\n",
    "db_path = \"../../data/duckdb/database.duckdb\"\n",
    "\n",
    "# Conexão com o banco DuckDB\n",
    "con = duckdb.connect(db_path)\n",
    "\n",
    "# Carrega os dados da camada bronze\n",
    "clientes_df = con.execute(\"SELECT * FROM silver.clientes\").df()\n",
    "consumo_df = con.execute(\"SELECT * FROM silver.consumo\").df()\n",
    "clima_df = con.execute(\"SELECT * FROM silver.clima\").df()"
   ]
  },
  {
   "cell_type": "code",
   "execution_count": 3,
   "id": "0a111fbc",
   "metadata": {
    "execution": {
     "iopub.execute_input": "2025-07-29T23:41:47.686271Z",
     "iopub.status.busy": "2025-07-29T23:41:47.686271Z",
     "iopub.status.idle": "2025-07-29T23:41:47.714333Z",
     "shell.execute_reply": "2025-07-29T23:41:47.712808Z"
    }
   },
   "outputs": [
    {
     "data": {
      "text/plain": [
       "<duckdb.duckdb.DuckDBPyConnection at 0x22b46426530>"
      ]
     },
     "execution_count": 3,
     "metadata": {},
     "output_type": "execute_result"
    }
   ],
   "source": [
    "# Cria schema 'silver' se não existir\n",
    "con.execute(\"CREATE SCHEMA IF NOT EXISTS gold\")"
   ]
  },
  {
   "cell_type": "markdown",
   "id": "55b1a181",
   "metadata": {},
   "source": [
    "# Transformação"
   ]
  },
  {
   "cell_type": "code",
   "execution_count": 4,
   "id": "d9e30736",
   "metadata": {
    "execution": {
     "iopub.execute_input": "2025-07-29T23:41:47.721048Z",
     "iopub.status.busy": "2025-07-29T23:41:47.718974Z",
     "iopub.status.idle": "2025-07-29T23:41:47.758949Z",
     "shell.execute_reply": "2025-07-29T23:41:47.758403Z"
    }
   },
   "outputs": [],
   "source": [
    "cliente_consumo_df = pd.merge(consumo_df, clientes_df, on='client_id', how='inner')\n",
    "\n",
    "\n",
    "clientes_df = cliente_consumo_df[cliente_consumo_df['region'] != 'Desconhecida']"
   ]
  },
  {
   "cell_type": "code",
   "execution_count": 5,
   "id": "af634920",
   "metadata": {
    "execution": {
     "iopub.execute_input": "2025-07-29T23:41:47.764704Z",
     "iopub.status.busy": "2025-07-29T23:41:47.764704Z",
     "iopub.status.idle": "2025-07-29T23:41:47.807974Z",
     "shell.execute_reply": "2025-07-29T23:41:47.805950Z"
    }
   },
   "outputs": [],
   "source": [
    "consumo_geral = (\n",
    "    cliente_consumo_df\n",
    "    .merge(\n",
    "        clima_df,\n",
    "        on=['region', 'date'], \n",
    "        how='inner'\n",
    "    )\n",
    ")\n",
    "\n",
    "consumo_geral = consumo_geral.sort_values(by=['region', 'date'])\n"
   ]
  },
  {
   "cell_type": "markdown",
   "id": "8ff4a37d",
   "metadata": {},
   "source": [
    "# Carregamento"
   ]
  },
  {
   "cell_type": "code",
   "execution_count": 6,
   "id": "ed2ed04d",
   "metadata": {
    "execution": {
     "iopub.execute_input": "2025-07-29T23:41:47.813853Z",
     "iopub.status.busy": "2025-07-29T23:41:47.813853Z",
     "iopub.status.idle": "2025-07-29T23:41:47.826534Z",
     "shell.execute_reply": "2025-07-29T23:41:47.824495Z"
    }
   },
   "outputs": [],
   "source": [
    "consumo_geral = consumo_geral[['date', 'client_id', 'region', 'temperature', 'humidity', 'consumption_kwh']]"
   ]
  },
  {
   "cell_type": "code",
   "execution_count": 7,
   "id": "6dbff36d",
   "metadata": {
    "execution": {
     "iopub.execute_input": "2025-07-29T23:41:47.834768Z",
     "iopub.status.busy": "2025-07-29T23:41:47.831514Z",
     "iopub.status.idle": "2025-07-29T23:41:47.849062Z",
     "shell.execute_reply": "2025-07-29T23:41:47.849062Z"
    }
   },
   "outputs": [
    {
     "data": {
      "text/plain": [
       "<duckdb.duckdb.DuckDBPyConnection at 0x22b46426530>"
      ]
     },
     "execution_count": 7,
     "metadata": {},
     "output_type": "execute_result"
    }
   ],
   "source": [
    "# Cria tabelas dentro do schema gold\n",
    "con.execute(\"\"\"\n",
    "CREATE TABLE IF NOT EXISTS gold.consumo_geral (\n",
    "    date DATE,\n",
    "    client_id VARCHAR,\n",
    "    region VARCHAR,\n",
    "    temperature DOUBLE,\n",
    "    humidity DOUBLE,\n",
    "    consumption_kwh DOUBLE\n",
    ")\n",
    "\"\"\")"
   ]
  },
  {
   "cell_type": "code",
   "execution_count": 8,
   "id": "32195056",
   "metadata": {
    "execution": {
     "iopub.execute_input": "2025-07-29T23:41:47.854520Z",
     "iopub.status.busy": "2025-07-29T23:41:47.854520Z",
     "iopub.status.idle": "2025-07-29T23:41:47.865547Z",
     "shell.execute_reply": "2025-07-29T23:41:47.865547Z"
    }
   },
   "outputs": [
    {
     "data": {
      "text/plain": [
       "<duckdb.duckdb.DuckDBPyConnection at 0x22b46426530>"
      ]
     },
     "execution_count": 8,
     "metadata": {},
     "output_type": "execute_result"
    }
   ],
   "source": [
    "# Limpa dados se as tabelas já existirem\n",
    "con.execute(\"DELETE FROM gold.consumo_geral\")"
   ]
  },
  {
   "cell_type": "code",
   "execution_count": 9,
   "id": "4ee06aa1",
   "metadata": {
    "execution": {
     "iopub.execute_input": "2025-07-29T23:41:47.875262Z",
     "iopub.status.busy": "2025-07-29T23:41:47.869111Z",
     "iopub.status.idle": "2025-07-29T23:41:47.912663Z",
     "shell.execute_reply": "2025-07-29T23:41:47.910313Z"
    }
   },
   "outputs": [
    {
     "data": {
      "text/plain": [
       "<duckdb.duckdb.DuckDBPyConnection at 0x22b46426530>"
      ]
     },
     "execution_count": 9,
     "metadata": {},
     "output_type": "execute_result"
    }
   ],
   "source": [
    "# Registra como tabelas temporárias\n",
    "con.register(\"consumo_geral\", consumo_geral)"
   ]
  },
  {
   "cell_type": "code",
   "execution_count": 10,
   "id": "0c44de01",
   "metadata": {
    "execution": {
     "iopub.execute_input": "2025-07-29T23:41:47.916340Z",
     "iopub.status.busy": "2025-07-29T23:41:47.916340Z",
     "iopub.status.idle": "2025-07-29T23:41:47.967331Z",
     "shell.execute_reply": "2025-07-29T23:41:47.966770Z"
    }
   },
   "outputs": [
    {
     "data": {
      "text/plain": [
       "<duckdb.duckdb.DuckDBPyConnection at 0x22b46426530>"
      ]
     },
     "execution_count": 10,
     "metadata": {},
     "output_type": "execute_result"
    }
   ],
   "source": [
    "# Insere os dados nas tabelas gold\n",
    "con.execute(\"INSERT INTO gold.consumo_geral SELECT * FROM consumo_geral\")"
   ]
  },
  {
   "cell_type": "code",
   "execution_count": 11,
   "id": "a5a95c0e",
   "metadata": {
    "execution": {
     "iopub.execute_input": "2025-07-29T23:41:47.974901Z",
     "iopub.status.busy": "2025-07-29T23:41:47.974901Z",
     "iopub.status.idle": "2025-07-29T23:41:48.056824Z",
     "shell.execute_reply": "2025-07-29T23:41:48.056824Z"
    }
   },
   "outputs": [
    {
     "name": "stdout",
     "output_type": "stream",
     "text": [
      "✔ Dados inseridos com sucesso na camada gold do DuckDB.\n"
     ]
    }
   ],
   "source": [
    "con.close()\n",
    "print(\"✔ Dados inseridos com sucesso na camada gold do DuckDB.\")"
   ]
  },
  {
   "cell_type": "code",
   "execution_count": null,
   "id": "6657100d",
   "metadata": {},
   "outputs": [],
   "source": []
  }
 ],
 "metadata": {
  "kernelspec": {
   "display_name": "venv (3.11.9)",
   "language": "python",
   "name": "python3"
  },
  "language_info": {
   "codemirror_mode": {
    "name": "ipython",
    "version": 3
   },
   "file_extension": ".py",
   "mimetype": "text/x-python",
   "name": "python",
   "nbconvert_exporter": "python",
   "pygments_lexer": "ipython3",
   "version": "3.11.9"
  }
 },
 "nbformat": 4,
 "nbformat_minor": 5
}
