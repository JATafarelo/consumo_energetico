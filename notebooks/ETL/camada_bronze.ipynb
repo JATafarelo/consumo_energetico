{
 "cells": [
  {
   "cell_type": "markdown",
   "id": "5eb5a964",
   "metadata": {},
   "source": [
    "# O objetivo da camada bronze é:\n",
    "\n",
    "- Armazena dados brutos das fontes sem modificações. \n",
    "- É repositório confiável para todos os dados ingeridos, permitindo auditoria e reprocessamento. \n",
    "- É importante garantir que a estrutura da camada Bronze reflita fielmente a estrutura da fonte de dados"
   ]
  },
  {
   "cell_type": "code",
   "execution_count": 1,
   "id": "159803df",
   "metadata": {},
   "outputs": [],
   "source": [
    "import pandas as pd\n",
    "import duckdb"
   ]
  },
  {
   "cell_type": "markdown",
   "id": "f99eedab",
   "metadata": {},
   "source": [
    "# Extração\n",
    "\n",
    "- Tabela Consumo\n",
    "- Tabela Clima\n",
    "- Tabela Clientes"
   ]
  },
  {
   "cell_type": "code",
   "execution_count": 2,
   "id": "2245a43d",
   "metadata": {},
   "outputs": [],
   "source": [
    "# Caminho do banco\n",
    "db_path = \"../../data/duckdb/database.duckdb\"\n",
    "\n",
    "# Conexão com o banco DuckDB\n",
    "con = duckdb.connect(db_path)\n",
    "\n",
    "folder_data = '../../data/dados_brutos'\n",
    "clima_df = pd.read_csv(f'{folder_data}/clima.csv',parse_dates=['date'])\n",
    "consumo_df = pd.read_csv(f'{folder_data}/consumo.csv',parse_dates=['date'])\n",
    "clientes_df = pd.read_csv(f'{folder_data}/clientes.csv')"
   ]
  },
  {
   "cell_type": "code",
   "execution_count": 3,
   "id": "0a111fbc",
   "metadata": {},
   "outputs": [
    {
     "data": {
      "text/plain": [
       "<duckdb.duckdb.DuckDBPyConnection at 0x1e31102fdb0>"
      ]
     },
     "execution_count": 3,
     "metadata": {},
     "output_type": "execute_result"
    }
   ],
   "source": [
    "# Cria schema 'bronze' se não existir\n",
    "con.execute(\"CREATE SCHEMA IF NOT EXISTS bronze\")\n",
    "\n",
    "# Cria schema 'outputs' se não existir\n",
    "con.execute(\"CREATE SCHEMA IF NOT EXISTS output\")"
   ]
  },
  {
   "cell_type": "markdown",
   "id": "3db666e7",
   "metadata": {},
   "source": [
    "# Carregamento"
   ]
  },
  {
   "cell_type": "code",
   "execution_count": 4,
   "id": "6dbff36d",
   "metadata": {},
   "outputs": [
    {
     "data": {
      "text/plain": [
       "<duckdb.duckdb.DuckDBPyConnection at 0x1e31102fdb0>"
      ]
     },
     "execution_count": 4,
     "metadata": {},
     "output_type": "execute_result"
    }
   ],
   "source": [
    "# Cria tabelas dentro do schema bronze\n",
    "con.execute(\"\"\"\n",
    "CREATE TABLE IF NOT EXISTS bronze.clientes (\n",
    "    client_id VARCHAR,\n",
    "    region VARCHAR\n",
    ")\n",
    "\"\"\")\n",
    "\n",
    "con.execute(\"\"\"\n",
    "CREATE TABLE IF NOT EXISTS bronze.consumo (\n",
    "    client_id VARCHAR,\n",
    "    date DATE,\n",
    "    consumption_kwh DOUBLE\n",
    ")\n",
    "\"\"\")\n",
    "\n",
    "con.execute(\"\"\"\n",
    "CREATE TABLE IF NOT EXISTS bronze.clima (\n",
    "    region VARCHAR,\n",
    "    date DATE,\n",
    "    temperature DOUBLE,\n",
    "    humidity DOUBLE\n",
    ")\n",
    "\"\"\")"
   ]
  },
  {
   "cell_type": "code",
   "execution_count": 5,
   "id": "32195056",
   "metadata": {},
   "outputs": [
    {
     "data": {
      "text/plain": [
       "<duckdb.duckdb.DuckDBPyConnection at 0x1e31102fdb0>"
      ]
     },
     "execution_count": 5,
     "metadata": {},
     "output_type": "execute_result"
    }
   ],
   "source": [
    "# Limpa dados se as tabelas já existirem\n",
    "con.execute(\"DELETE FROM bronze.clientes\")\n",
    "con.execute(\"DELETE FROM bronze.consumo\")\n",
    "con.execute(\"DELETE FROM bronze.clima\")"
   ]
  },
  {
   "cell_type": "code",
   "execution_count": 6,
   "id": "4ee06aa1",
   "metadata": {},
   "outputs": [
    {
     "data": {
      "text/plain": [
       "<duckdb.duckdb.DuckDBPyConnection at 0x1e31102fdb0>"
      ]
     },
     "execution_count": 6,
     "metadata": {},
     "output_type": "execute_result"
    }
   ],
   "source": [
    "# Registra como tabelas temporárias\n",
    "con.register(\"clientes_df\", clientes_df)\n",
    "con.register(\"consumo_df\", consumo_df)\n",
    "con.register(\"clima_df\", clima_df)"
   ]
  },
  {
   "cell_type": "code",
   "execution_count": 7,
   "id": "0c44de01",
   "metadata": {},
   "outputs": [
    {
     "data": {
      "text/plain": [
       "<duckdb.duckdb.DuckDBPyConnection at 0x1e31102fdb0>"
      ]
     },
     "execution_count": 7,
     "metadata": {},
     "output_type": "execute_result"
    }
   ],
   "source": [
    "# Insere os dados nas tabelas bronze\n",
    "con.execute(\"INSERT INTO bronze.clientes SELECT * FROM clientes_df\")\n",
    "con.execute(\"INSERT INTO bronze.consumo SELECT * FROM consumo_df\")\n",
    "con.execute(\"INSERT INTO bronze.clima SELECT * FROM clima_df\")"
   ]
  },
  {
   "cell_type": "code",
   "execution_count": 8,
   "id": "a5a95c0e",
   "metadata": {},
   "outputs": [
    {
     "name": "stdout",
     "output_type": "stream",
     "text": [
      "✔ Dados inseridos com sucesso na camada bronze do DuckDB.\n"
     ]
    }
   ],
   "source": [
    "con.close()\n",
    "print(\"✔ Dados inseridos com sucesso na camada bronze do DuckDB.\")"
   ]
  },
  {
   "cell_type": "code",
   "execution_count": null,
   "id": "1ce8daab",
   "metadata": {},
   "outputs": [],
   "source": []
  }
 ],
 "metadata": {
  "kernelspec": {
   "display_name": "venv",
   "language": "python",
   "name": "python3"
  },
  "language_info": {
   "codemirror_mode": {
    "name": "ipython",
    "version": 3
   },
   "file_extension": ".py",
   "mimetype": "text/x-python",
   "name": "python",
   "nbconvert_exporter": "python",
   "pygments_lexer": "ipython3",
   "version": "3.10.0"
  }
 },
 "nbformat": 4,
 "nbformat_minor": 5
}
