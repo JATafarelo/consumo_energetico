{
 "cells": [
  {
   "cell_type": "markdown",
   "id": "5eb5a964",
   "metadata": {},
   "source": [
    "# O objetivo da camada silver é:\n",
    "\n",
    "- Receber dados da camada Bronze após um pré-processamento inicial, como limpeza, transformação e validação. \n",
    "- Pode ser considerada a \"fonte da verdade\" para um data lake, contendo a versão mais atualizada de um dado. \n",
    "- É um ponto de acesso mais orientado para o negócio, com dados refinados para uso em análises profundas.\n",
    "- Dados ausentes de clima serão tratados."
   ]
  },
  {
   "cell_type": "code",
   "execution_count": 1,
   "id": "159803df",
   "metadata": {
    "execution": {
     "iopub.execute_input": "2025-07-29T23:41:11.393623Z",
     "iopub.status.busy": "2025-07-29T23:41:11.393623Z",
     "iopub.status.idle": "2025-07-29T23:41:12.610077Z",
     "shell.execute_reply": "2025-07-29T23:41:12.610077Z"
    }
   },
   "outputs": [],
   "source": [
    "import pandas as pd\n",
    "import duckdb"
   ]
  },
  {
   "cell_type": "markdown",
   "id": "f99eedab",
   "metadata": {},
   "source": [
    "# Extração\n",
    "\n",
    "- Tabela Consumo\n",
    "- Tabela Clima\n",
    "- Tabela Clientes"
   ]
  },
  {
   "cell_type": "code",
   "execution_count": 2,
   "id": "2245a43d",
   "metadata": {
    "execution": {
     "iopub.execute_input": "2025-07-29T23:41:12.614153Z",
     "iopub.status.busy": "2025-07-29T23:41:12.614153Z",
     "iopub.status.idle": "2025-07-29T23:41:12.671320Z",
     "shell.execute_reply": "2025-07-29T23:41:12.671320Z"
    }
   },
   "outputs": [],
   "source": [
    "# Caminho do banco\n",
    "db_path = \"../../data/duckdb/database.duckdb\"\n",
    "\n",
    "# Conexão com o banco DuckDB\n",
    "con = duckdb.connect(db_path)\n",
    "\n",
    "# Carrega os dados da camada bronze\n",
    "clientes_df = con.execute(\"SELECT * FROM bronze.clientes\").df()\n",
    "consumo_df = con.execute(\"SELECT * FROM bronze.consumo\").df()\n",
    "clima_df = con.execute(\"SELECT * FROM bronze.clima ORDER BY region, date\").df()"
   ]
  },
  {
   "cell_type": "code",
   "execution_count": 3,
   "id": "0a111fbc",
   "metadata": {
    "execution": {
     "iopub.execute_input": "2025-07-29T23:41:12.672606Z",
     "iopub.status.busy": "2025-07-29T23:41:12.672606Z",
     "iopub.status.idle": "2025-07-29T23:41:12.689862Z",
     "shell.execute_reply": "2025-07-29T23:41:12.689862Z"
    }
   },
   "outputs": [
    {
     "data": {
      "text/plain": [
       "<duckdb.duckdb.DuckDBPyConnection at 0x13a512960b0>"
      ]
     },
     "execution_count": 3,
     "metadata": {},
     "output_type": "execute_result"
    }
   ],
   "source": [
    "# Cria schema 'silver' se não existir\n",
    "con.execute(\"CREATE SCHEMA IF NOT EXISTS silver\")"
   ]
  },
  {
   "cell_type": "markdown",
   "id": "55b1a181",
   "metadata": {},
   "source": [
    "# Transformação"
   ]
  },
  {
   "cell_type": "code",
   "execution_count": 4,
   "id": "39a38375",
   "metadata": {
    "execution": {
     "iopub.execute_input": "2025-07-29T23:41:12.694780Z",
     "iopub.status.busy": "2025-07-29T23:41:12.694780Z",
     "iopub.status.idle": "2025-07-29T23:41:12.719915Z",
     "shell.execute_reply": "2025-07-29T23:41:12.719915Z"
    }
   },
   "outputs": [
    {
     "name": "stdout",
     "output_type": "stream",
     "text": [
      "region         0\n",
      "date           0\n",
      "temperature    0\n",
      "humidity       0\n",
      "dtype: int64\n"
     ]
    }
   ],
   "source": [
    "# Interpolação dos valores nulos de temperature por região\n",
    "concat_df = []\n",
    "for region in clima_df['region'].drop_duplicates():\n",
    "    df_region = clima_df[clima_df['region'] == region].copy()\n",
    "    df_region = df_region.set_index('date')\n",
    "    df_region['temperature'] = df_region['temperature'].interpolate(method='time')\n",
    "    df_region['region'] = region\n",
    "    df_region = df_region.reset_index()\n",
    "    df_region['temperature'] = df_region['temperature'].bfill()\n",
    "    concat_df.append(df_region)\n",
    "\n",
    "clima_df = pd.concat(concat_df)\n",
    "\n",
    "clima_df = clima_df[['region', 'date', 'temperature', 'humidity']]\n",
    "\n",
    "print(clima_df.isna().sum())\n"
   ]
  },
  {
   "cell_type": "markdown",
   "id": "8ff4a37d",
   "metadata": {},
   "source": [
    "# Carregamento"
   ]
  },
  {
   "cell_type": "code",
   "execution_count": 5,
   "id": "6dbff36d",
   "metadata": {
    "execution": {
     "iopub.execute_input": "2025-07-29T23:41:12.722063Z",
     "iopub.status.busy": "2025-07-29T23:41:12.722063Z",
     "iopub.status.idle": "2025-07-29T23:41:12.738928Z",
     "shell.execute_reply": "2025-07-29T23:41:12.737912Z"
    }
   },
   "outputs": [
    {
     "data": {
      "text/plain": [
       "<duckdb.duckdb.DuckDBPyConnection at 0x13a512960b0>"
      ]
     },
     "execution_count": 5,
     "metadata": {},
     "output_type": "execute_result"
    }
   ],
   "source": [
    "# 🔸 Cria tabelas dentro do schema silver\n",
    "con.execute(\"\"\"\n",
    "CREATE TABLE IF NOT EXISTS silver.clientes (\n",
    "    client_id VARCHAR,\n",
    "    region VARCHAR\n",
    ")\n",
    "\"\"\")\n",
    "\n",
    "con.execute(\"\"\"\n",
    "CREATE TABLE IF NOT EXISTS silver.consumo (\n",
    "    client_id VARCHAR,\n",
    "    date DATE,\n",
    "    consumption_kwh DOUBLE\n",
    ")\n",
    "\"\"\")\n",
    "\n",
    "con.execute(\"\"\"\n",
    "CREATE TABLE IF NOT EXISTS silver.clima (\n",
    "    region VARCHAR,\n",
    "    date DATE,\n",
    "    temperature DOUBLE,\n",
    "    humidity DOUBLE\n",
    ")\n",
    "\"\"\")"
   ]
  },
  {
   "cell_type": "code",
   "execution_count": 6,
   "id": "32195056",
   "metadata": {
    "execution": {
     "iopub.execute_input": "2025-07-29T23:41:12.741716Z",
     "iopub.status.busy": "2025-07-29T23:41:12.741716Z",
     "iopub.status.idle": "2025-07-29T23:41:12.749480Z",
     "shell.execute_reply": "2025-07-29T23:41:12.749480Z"
    }
   },
   "outputs": [
    {
     "data": {
      "text/plain": [
       "<duckdb.duckdb.DuckDBPyConnection at 0x13a512960b0>"
      ]
     },
     "execution_count": 6,
     "metadata": {},
     "output_type": "execute_result"
    }
   ],
   "source": [
    "# Limpa dados se as tabelas já existirem\n",
    "con.execute(\"DELETE FROM silver.clientes\")\n",
    "con.execute(\"DELETE FROM silver.consumo\")\n",
    "con.execute(\"DELETE FROM silver.clima\")"
   ]
  },
  {
   "cell_type": "code",
   "execution_count": 7,
   "id": "4ee06aa1",
   "metadata": {
    "execution": {
     "iopub.execute_input": "2025-07-29T23:41:12.753292Z",
     "iopub.status.busy": "2025-07-29T23:41:12.753292Z",
     "iopub.status.idle": "2025-07-29T23:41:12.765278Z",
     "shell.execute_reply": "2025-07-29T23:41:12.765278Z"
    }
   },
   "outputs": [
    {
     "data": {
      "text/plain": [
       "<duckdb.duckdb.DuckDBPyConnection at 0x13a512960b0>"
      ]
     },
     "execution_count": 7,
     "metadata": {},
     "output_type": "execute_result"
    }
   ],
   "source": [
    "# Registra como tabelas temporárias\n",
    "con.register(\"clientes_df\", clientes_df)\n",
    "con.register(\"consumo_df\", consumo_df)\n",
    "con.register(\"clima_df\", clima_df)"
   ]
  },
  {
   "cell_type": "code",
   "execution_count": 8,
   "id": "0c44de01",
   "metadata": {
    "execution": {
     "iopub.execute_input": "2025-07-29T23:41:12.767316Z",
     "iopub.status.busy": "2025-07-29T23:41:12.767316Z",
     "iopub.status.idle": "2025-07-29T23:41:12.793048Z",
     "shell.execute_reply": "2025-07-29T23:41:12.793048Z"
    }
   },
   "outputs": [
    {
     "data": {
      "text/plain": [
       "<duckdb.duckdb.DuckDBPyConnection at 0x13a512960b0>"
      ]
     },
     "execution_count": 8,
     "metadata": {},
     "output_type": "execute_result"
    }
   ],
   "source": [
    "# Insere os dados nas tabelas silver\n",
    "con.execute(\"INSERT INTO silver.clientes SELECT * FROM clientes_df\")\n",
    "con.execute(\"INSERT INTO silver.consumo SELECT * FROM consumo_df\")\n",
    "con.execute(\"INSERT INTO silver.clima SELECT * FROM clima_df\")"
   ]
  },
  {
   "cell_type": "code",
   "execution_count": 9,
   "id": "a5a95c0e",
   "metadata": {
    "execution": {
     "iopub.execute_input": "2025-07-29T23:41:12.793048Z",
     "iopub.status.busy": "2025-07-29T23:41:12.793048Z",
     "iopub.status.idle": "2025-07-29T23:41:12.824320Z",
     "shell.execute_reply": "2025-07-29T23:41:12.824320Z"
    }
   },
   "outputs": [
    {
     "name": "stdout",
     "output_type": "stream",
     "text": [
      "✔ Dados inseridos com sucesso na camada silver do DuckDB.\n"
     ]
    }
   ],
   "source": [
    "con.close()\n",
    "print(\"✔ Dados inseridos com sucesso na camada silver do DuckDB.\")"
   ]
  }
 ],
 "metadata": {
  "kernelspec": {
   "display_name": "venv (3.11.9)",
   "language": "python",
   "name": "python3"
  },
  "language_info": {
   "codemirror_mode": {
    "name": "ipython",
    "version": 3
   },
   "file_extension": ".py",
   "mimetype": "text/x-python",
   "name": "python",
   "nbconvert_exporter": "python",
   "pygments_lexer": "ipython3",
   "version": "3.11.9"
  }
 },
 "nbformat": 4,
 "nbformat_minor": 5
}
