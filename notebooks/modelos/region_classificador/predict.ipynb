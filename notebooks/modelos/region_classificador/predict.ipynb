{
 "cells": [
  {
   "cell_type": "code",
   "execution_count": 8,
   "id": "9fd51e6d",
   "metadata": {},
   "outputs": [],
   "source": [
    "import pandas as pd\n",
    "import numpy as np\n",
    "import duckdb\n",
    "\n",
    "from sklearn.base import BaseEstimator, TransformerMixin\n",
    "from sklearn.linear_model import LinearRegression\n",
    "from sklearn.preprocessing import StandardScaler, LabelEncoder\n",
    "from sklearn.pipeline import Pipeline\n",
    "from sklearn.metrics import accuracy_score, precision_score, recall_score, f1_score, confusion_matrix, roc_auc_score,make_scorer, f1_score\n",
    "from sklearn.model_selection import GridSearchCV, StratifiedKFold,cross_val_predict\n",
    "from sklearn.ensemble import RandomForestClassifier\n",
    "from sklearn.svm import SVC\n",
    "from sklearn.preprocessing import LabelEncoder\n",
    "\n",
    "import xgboost as xgb\n",
    "import lightgbm as lgb\n",
    "\n",
    "import mlflow\n",
    "import mlflow.sklearn\n",
    "\n",
    "import joblib\n",
    "import os\n",
    "import shutil\n"
   ]
  },
  {
   "cell_type": "markdown",
   "id": "24550ab3",
   "metadata": {},
   "source": [
    "# Carregamento dos dados"
   ]
  },
  {
   "cell_type": "code",
   "execution_count": null,
   "id": "5da62581",
   "metadata": {},
   "outputs": [
    {
     "data": {
      "text/html": [
       "<div>\n",
       "<style scoped>\n",
       "    .dataframe tbody tr th:only-of-type {\n",
       "        vertical-align: middle;\n",
       "    }\n",
       "\n",
       "    .dataframe tbody tr th {\n",
       "        vertical-align: top;\n",
       "    }\n",
       "\n",
       "    .dataframe thead th {\n",
       "        text-align: right;\n",
       "    }\n",
       "</style>\n",
       "<table border=\"1\" class=\"dataframe\">\n",
       "  <thead>\n",
       "    <tr style=\"text-align: right;\">\n",
       "      <th></th>\n",
       "      <th>client_id</th>\n",
       "      <th>date</th>\n",
       "      <th>consumption_kwh</th>\n",
       "      <th>region</th>\n",
       "    </tr>\n",
       "  </thead>\n",
       "  <tbody>\n",
       "    <tr>\n",
       "      <th>0</th>\n",
       "      <td>C0000</td>\n",
       "      <td>2023-01-01</td>\n",
       "      <td>18.64</td>\n",
       "      <td>Norte</td>\n",
       "    </tr>\n",
       "    <tr>\n",
       "      <th>1</th>\n",
       "      <td>C0000</td>\n",
       "      <td>2023-01-02</td>\n",
       "      <td>16.63</td>\n",
       "      <td>Norte</td>\n",
       "    </tr>\n",
       "    <tr>\n",
       "      <th>2</th>\n",
       "      <td>C0000</td>\n",
       "      <td>2023-01-03</td>\n",
       "      <td>18.11</td>\n",
       "      <td>Norte</td>\n",
       "    </tr>\n",
       "    <tr>\n",
       "      <th>3</th>\n",
       "      <td>C0000</td>\n",
       "      <td>2023-01-04</td>\n",
       "      <td>18.25</td>\n",
       "      <td>Norte</td>\n",
       "    </tr>\n",
       "    <tr>\n",
       "      <th>4</th>\n",
       "      <td>C0000</td>\n",
       "      <td>2023-01-05</td>\n",
       "      <td>19.81</td>\n",
       "      <td>Norte</td>\n",
       "    </tr>\n",
       "    <tr>\n",
       "      <th>5</th>\n",
       "      <td>C0000</td>\n",
       "      <td>2023-01-06</td>\n",
       "      <td>15.87</td>\n",
       "      <td>Norte</td>\n",
       "    </tr>\n",
       "    <tr>\n",
       "      <th>6</th>\n",
       "      <td>C0000</td>\n",
       "      <td>2023-01-07</td>\n",
       "      <td>20.30</td>\n",
       "      <td>Norte</td>\n",
       "    </tr>\n",
       "    <tr>\n",
       "      <th>7</th>\n",
       "      <td>C0000</td>\n",
       "      <td>2023-01-08</td>\n",
       "      <td>19.35</td>\n",
       "      <td>Norte</td>\n",
       "    </tr>\n",
       "    <tr>\n",
       "      <th>8</th>\n",
       "      <td>C0000</td>\n",
       "      <td>2023-01-09</td>\n",
       "      <td>18.30</td>\n",
       "      <td>Norte</td>\n",
       "    </tr>\n",
       "    <tr>\n",
       "      <th>9</th>\n",
       "      <td>C0000</td>\n",
       "      <td>2023-01-10</td>\n",
       "      <td>13.34</td>\n",
       "      <td>Norte</td>\n",
       "    </tr>\n",
       "  </tbody>\n",
       "</table>\n",
       "</div>"
      ],
      "text/plain": [
       "  client_id       date  consumption_kwh region\n",
       "0     C0000 2023-01-01            18.64  Norte\n",
       "1     C0000 2023-01-02            16.63  Norte\n",
       "2     C0000 2023-01-03            18.11  Norte\n",
       "3     C0000 2023-01-04            18.25  Norte\n",
       "4     C0000 2023-01-05            19.81  Norte\n",
       "5     C0000 2023-01-06            15.87  Norte\n",
       "6     C0000 2023-01-07            20.30  Norte\n",
       "7     C0000 2023-01-08            19.35  Norte\n",
       "8     C0000 2023-01-09            18.30  Norte\n",
       "9     C0000 2023-01-10            13.34  Norte"
      ]
     },
     "metadata": {},
     "output_type": "display_data"
    }
   ],
   "source": [
    "# Caminho do banco\n",
    "db_path = \"../../data/duckdb/database.duckdb\"\n",
    "\n",
    "# Conexão com o banco DuckDB\n",
    "con = duckdb.connect(db_path)\n",
    "\n",
    "# Carrega os dados da camada bronze\n",
    "clientes_df = con.execute(\"SELECT * FROM silver.clientes\").df()\n",
    "consumo_df = con.execute(\"SELECT * FROM silver.consumo\").df()\n",
    "\n",
    "df = consumo_df.merge(clientes_df, on='client_id', how='inner')"
   ]
  },
  {
   "cell_type": "markdown",
   "id": "c599633c",
   "metadata": {},
   "source": [
    "# Feature Engineering"
   ]
  },
  {
   "cell_type": "code",
   "execution_count": 10,
   "id": "3122349b",
   "metadata": {},
   "outputs": [],
   "source": [
    "# Feature engineering por client_id\n",
    "class TemporalFeatureExtractor(BaseEstimator, TransformerMixin):\n",
    "    def __init__(self):\n",
    "        pass\n",
    "\n",
    "    # é necessário implementar os métodos fit para que o objeto possa ser usado em um pipeline\n",
    "    def fit(self, X, y=None):\n",
    "        return self\n",
    "\n",
    "    # o método transform define como os dados serão transformados\n",
    "    def transform(self, X):\n",
    "\n",
    "        if not isinstance(X, pd.DataFrame):\n",
    "            raise ValueError(\"Input must be a pandas DataFrame\")\n",
    "        \n",
    "        df = X.copy()\n",
    "\n",
    "        # Garantir que a coluna 'date' esteja no formato datetime\n",
    "        df[\"date\"] = pd.to_datetime(df[\"date\"])\n",
    "        \n",
    "        def _compute(group):\n",
    "            # Garantir a série temporal ordenada\n",
    "            ts = group.sort_values(\"date\")\n",
    "            \n",
    "\n",
    "            vals = ts[\"consumption_kwh\"].values\n",
    "            times = ts[\"date\"].astype(np.int64).values.reshape(-1, 1)\n",
    "            \n",
    "            # Calcular estatísticas básicas\n",
    "            stats = {\n",
    "                \"mean\": vals.mean(),\n",
    "                \"median\": np.median(vals),\n",
    "                \"std\": vals.std(ddof=0),\n",
    "                \"max\": vals.max(),\n",
    "                \"min\": vals.min(),\n",
    "            }\n",
    "            \n",
    "            # A regressão linear modelará a relação entre tempo e consumo de energia. O objetivo é entender como o consumo está evoluindo ao longo do tempo.\n",
    "            lr = LinearRegression().fit(times, vals)\n",
    "\n",
    "            # O slope (coeficiente angular da reta) é a taxa de variação do consumo em relação ao tempo:\n",
    "            # slope > 0 → tendência de crescimento\n",
    "            # slope < 0 → tendência de queda\n",
    "            # slope = 0 → consumo constante ao longo do tempo\n",
    "            \n",
    "            stats[\"slope\"] = lr.coef_[0]\n",
    "            \n",
    "            return pd.Series(stats)\n",
    "        \n",
    "        features = df.groupby(\"client_id\").apply(_compute).reset_index()\n",
    "        return features"
   ]
  },
  {
   "cell_type": "code",
   "execution_count": 11,
   "id": "e4a9b50f",
   "metadata": {},
   "outputs": [
    {
     "name": "stderr",
     "output_type": "stream",
     "text": [
      "C:\\Users\\jataf\\AppData\\Local\\Temp\\ipykernel_35976\\3221286679.py:50: FutureWarning: DataFrameGroupBy.apply operated on the grouping columns. This behavior is deprecated, and in a future version of pandas the grouping columns will be excluded from the operation. Either pass `include_groups=False` to exclude the groupings or explicitly select the grouping columns after groupby to silence this warning.\n",
      "  features = df.groupby(\"client_id\").apply(_compute).reset_index()\n"
     ]
    }
   ],
   "source": [
    "# Extrair features\n",
    "fe = TemporalFeatureExtractor()\n",
    "feat_df = fe.transform(df)\n",
    "\n",
    "feat_df = feat_df.merge(clientes_df[[\"client_id\", \"region\"]], on=\"client_id\", how=\"inner\")"
   ]
  },
  {
   "cell_type": "markdown",
   "id": "b99d8d1c",
   "metadata": {},
   "source": [
    "# Divisão de dados para inferência"
   ]
  },
  {
   "cell_type": "code",
   "execution_count": 12,
   "id": "9feb7b35",
   "metadata": {},
   "outputs": [],
   "source": [
    "previsao_df = feat_df[feat_df['region'] == 'Desconhecida']\n",
    "\n",
    "X_pred = previsao_df.drop(columns=['client_id', 'region'])"
   ]
  },
  {
   "cell_type": "markdown",
   "id": "cd0eed42",
   "metadata": {},
   "source": [
    "# Inferência"
   ]
  },
  {
   "cell_type": "code",
   "execution_count": 17,
   "id": "531a7157",
   "metadata": {},
   "outputs": [],
   "source": [
    "local_path = \"../../models/region_classificacao/local_model\"\n",
    "\n",
    "# Carregando modelo\n",
    "model = mlflow.sklearn.load_model(local_path)\n",
    "# Carregando o label encoder\n",
    "le_carregado = joblib.load(\"../../models/region_classificacao/label_encoder_classificador/label_encoder.pkl\")"
   ]
  },
  {
   "cell_type": "code",
   "execution_count": 18,
   "id": "d1c3d11a",
   "metadata": {},
   "outputs": [
    {
     "name": "stdout",
     "output_type": "stream",
     "text": [
      "   client_id  region\n",
      "15     C0015  Centro\n",
      "50     C0050   Norte\n",
      "58     C0058     Sul\n",
      "77     C0077   Norte\n",
      "92     C0092   Norte\n"
     ]
    }
   ],
   "source": [
    "# Predição\n",
    "y_pred = model.predict(X_pred)\n",
    "\n",
    "y_pred = le_carregado.inverse_transform(y_pred)\n",
    "\n",
    "# Resultado final\n",
    "output_df = pd.DataFrame({\n",
    "    \"client_id\": previsao_df[\"client_id\"],\n",
    "    \"region\": y_pred\n",
    "})\n",
    "\n",
    "print(output_df.head())"
   ]
  },
  {
   "cell_type": "markdown",
   "id": "d4b3bbe8",
   "metadata": {},
   "source": [
    "# Salvar Resultados"
   ]
  },
  {
   "cell_type": "code",
   "execution_count": 19,
   "id": "b23f1c67",
   "metadata": {},
   "outputs": [
    {
     "data": {
      "text/plain": [
       "<duckdb.duckdb.DuckDBPyConnection at 0x22d8c5dbb70>"
      ]
     },
     "execution_count": 19,
     "metadata": {},
     "output_type": "execute_result"
    }
   ],
   "source": [
    "# Cria tabelas dentro do schema output\n",
    "con.execute(\"\"\"\n",
    "CREATE TABLE IF NOT EXISTS output.region_classificador (\n",
    "    client_id VARCHAR,\n",
    "    region VARCHAR\n",
    ")\n",
    "\"\"\")"
   ]
  },
  {
   "cell_type": "code",
   "execution_count": 20,
   "id": "bad07527",
   "metadata": {},
   "outputs": [
    {
     "data": {
      "text/plain": [
       "<duckdb.duckdb.DuckDBPyConnection at 0x22d8c5dbb70>"
      ]
     },
     "execution_count": 20,
     "metadata": {},
     "output_type": "execute_result"
    }
   ],
   "source": [
    "# Limpa dados se as tabelas já existirem\n",
    "con.execute(\"DELETE FROM output.region_classificador\")"
   ]
  },
  {
   "cell_type": "code",
   "execution_count": 21,
   "id": "7325ecd3",
   "metadata": {},
   "outputs": [
    {
     "data": {
      "text/plain": [
       "<duckdb.duckdb.DuckDBPyConnection at 0x22d8c5dbb70>"
      ]
     },
     "execution_count": 21,
     "metadata": {},
     "output_type": "execute_result"
    }
   ],
   "source": [
    "# Registra como tabelas temporárias\n",
    "con.register(\"output_df\", output_df)"
   ]
  },
  {
   "cell_type": "code",
   "execution_count": 22,
   "id": "c8325cbc",
   "metadata": {},
   "outputs": [
    {
     "data": {
      "text/plain": [
       "<duckdb.duckdb.DuckDBPyConnection at 0x22d8c5dbb70>"
      ]
     },
     "execution_count": 22,
     "metadata": {},
     "output_type": "execute_result"
    }
   ],
   "source": [
    "# Insere os dados nas tabelas output\n",
    "con.execute(\"INSERT INTO output.region_classificador SELECT * FROM output.region_classificador\")"
   ]
  },
  {
   "cell_type": "code",
   "execution_count": null,
   "id": "fb4ace94",
   "metadata": {},
   "outputs": [],
   "source": []
  }
 ],
 "metadata": {
  "kernelspec": {
   "display_name": "venv",
   "language": "python",
   "name": "python3"
  },
  "language_info": {
   "codemirror_mode": {
    "name": "ipython",
    "version": 3
   },
   "file_extension": ".py",
   "mimetype": "text/x-python",
   "name": "python",
   "nbconvert_exporter": "python",
   "pygments_lexer": "ipython3",
   "version": "3.10.0"
  }
 },
 "nbformat": 4,
 "nbformat_minor": 5
}
