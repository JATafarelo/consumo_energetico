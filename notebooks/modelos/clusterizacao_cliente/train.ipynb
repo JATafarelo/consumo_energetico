{
 "cells": [
  {
   "cell_type": "code",
   "execution_count": 7,
   "id": "dc8ae76c",
   "metadata": {},
   "outputs": [],
   "source": [
    "import pandas as pd\n",
    "import numpy as np\n",
    "import duckdb\n",
    "\n",
    "from sklearn.cluster import KMeans\n",
    "from sklearn.metrics import silhouette_score\n",
    "\n",
    "from sklearn.decomposition import PCA\n",
    "\n",
    "import matplotlib.pyplot as plt\n",
    "\n",
    "import mlflow\n",
    "from mlflow.models import infer_signature\n",
    "from mlflow.tracking import MlflowClient"
   ]
  },
  {
   "cell_type": "code",
   "execution_count": 8,
   "id": "c69cd239",
   "metadata": {},
   "outputs": [],
   "source": [
    "# Caminho do banco\n",
    "db_path = \"../../../data/duckdb/database.duckdb\"\n",
    "\n",
    "# Conexão com o banco DuckDB\n",
    "con = duckdb.connect(db_path)\n",
    "\n",
    "# Define raiz do projeto (ajuste conforme seu ambiente)\n",
    "mlflow.set_tracking_uri(uri=\"http://127.0.0.1:8080\")\n",
    "\n",
    "# Carrega os dados de feature engineering\n",
    "input_df = con.execute(\"SELECT * FROM feature.clusterizacao_cliente\").df()\n",
    "\n",
    "input_df = input_df.drop('client_id', axis=1).to_numpy()"
   ]
  },
  {
   "cell_type": "markdown",
   "id": "5a730b2a",
   "metadata": {},
   "source": [
    "# Treinamento de Modelo"
   ]
  },
  {
   "cell_type": "code",
   "execution_count": null,
   "id": "0a94849a",
   "metadata": {},
   "outputs": [
    {
     "name": "stderr",
     "output_type": "stream",
     "text": [
      "2025/07/27 19:50:00 WARNING mlflow.models.model: `artifact_path` is deprecated. Please use `name` instead.\n"
     ]
    }
   ],
   "source": [
    "# Define experimento\n",
    "mlflow.set_experiment(\"clusterizacao_cliente\")\n",
    "\n",
    "model_name = \"clusterizacao_cliente\"\n",
    "\n",
    "with mlflow.start_run() as run:\n",
    "\n",
    "    # Treinamento do modelo KMeans\n",
    "    kmeans = KMeans(n_clusters=5, random_state=42)\n",
    "    kmeans.fit(input_df)\n",
    "    labels = kmeans.labels_\n",
    "    silhouette = silhouette_score(input_df, labels)\n",
    "\n",
    "    # Log no MLflow\n",
    "    mlflow.log_param('n_clusters', 5)\n",
    "    mlflow.log_metric(\"silhouette_score\", silhouette)\n",
    "\n",
    "    # Inferir a assinatura do modelo\n",
    "    signature = infer_signature(input_df, labels)\n",
    "\n",
    "    # Log do modelo com registro direto\n",
    "    model_info = mlflow.sklearn.log_model(\n",
    "        sk_model=kmeans,\n",
    "        artifact_path=\"model\",\n",
    "        signature=signature,\n",
    "        input_example=input_df[:5],  # usar amostra pequena\n",
    "        registered_model_name=model_name\n",
    "    )\n",
    "\n",
    "    \n",
    "client = MlflowClient()\n",
    "\n",
    "latest_versions = client.get_latest_versions(name=model_name, stages=[\"None\"])\n",
    "mv = latest_versions[0] if latest_versions else None\n",
    "new_version = mv.version\n",
    "\n",
    "# Tenta recuperar Champion atual\n",
    "try:\n",
    "    champion_mv = client.get_model_version_by_alias(model_name, 'champion')\n",
    "    champion_version = champion_mv.version\n",
    "    # Recupera métrica do champion pela run\n",
    "    champion_metrics = client.get_run(champion_mv.run_id).data.metrics\n",
    "    champion_score = champion_metrics.get(\"silhouette_score\", -1)\n",
    "    print(f\"Champion atual: versão {champion_version}, silhouette_score={champion_score:.4f}\")\n",
    "except mlflow.exceptions.MlflowException:\n",
    "    champion_version = None\n",
    "    champion_score = -1\n",
    "\n",
    "# Recupera métrica do novo modelo pela run\n",
    "new_metrics = client.get_run(mv.run_id).data.metrics\n",
    "new_score = new_metrics.get(\"silhouette_score\", -1)\n",
    "\n",
    "# Comparação e decisão\n",
    "if champion_score == -1:\n",
    "    # Não há champion ainda\n",
    "    client.set_registered_model_alias(model_name, \"champion\", new_version)\n",
    "    print(f\"Modelo versão {new_version} definido como Champion (primeiro modelo).\")\n",
    "elif new_score > champion_score:\n",
    "    # Novo modelo é melhor\n",
    "    client.set_registered_model_alias(model_name, \"champion\", new_version)\n",
    "    print(f\"Novo modelo versão {new_version} promovido como Champion (score {new_score:.4f} > {champion_score:.4f}).\")\n",
    "else:\n",
    "    print(f\"Novo modelo versão {new_version} descartado (score {new_score:.4f} <= {champion_score:.4f}).\")\n",
    "\n",
    "\n",
    "# Champion: modelo atualmente em produção (Production no MLflow).\n",
    "\n",
    "# Challenger: novo modelo treinado que pretende substituir o Champion, mas precisa provar ser melhor (por meio de métricas, testes, etc.).\n",
    "# Tenta recuperar modelo champion atual\n"
   ]
  }
 ],
 "metadata": {
  "kernelspec": {
   "display_name": "venv",
   "language": "python",
   "name": "python3"
  },
  "language_info": {
   "codemirror_mode": {
    "name": "ipython",
    "version": 3
   },
   "file_extension": ".py",
   "mimetype": "text/x-python",
   "name": "python",
   "nbconvert_exporter": "python",
   "pygments_lexer": "ipython3",
   "version": "3.10.0"
  }
 },
 "nbformat": 4,
 "nbformat_minor": 5
}
