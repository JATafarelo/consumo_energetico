{
 "cells": [
  {
   "cell_type": "code",
   "execution_count": 1,
   "id": "dc8ae76c",
   "metadata": {},
   "outputs": [],
   "source": [
    "import pandas as pd\n",
    "import duckdb\n",
    "\n",
    "from sklearn.preprocessing import StandardScaler"
   ]
  },
  {
   "cell_type": "code",
   "execution_count": 2,
   "id": "c69cd239",
   "metadata": {},
   "outputs": [],
   "source": [
    "# Caminho do banco\n",
    "db_path = \"../../../data/duckdb/database.duckdb\"\n",
    "\n",
    "# Conexão com o banco DuckDB\n",
    "con = duckdb.connect(db_path)\n",
    "\n",
    "# Carrega os dados da camada bronze\n",
    "df = con.execute(\"SELECT * FROM gold.consumo_geral\").df()"
   ]
  },
  {
   "cell_type": "markdown",
   "id": "18d3d1b8",
   "metadata": {},
   "source": [
    "# Feature Engineering"
   ]
  },
  {
   "cell_type": "code",
   "execution_count": 3,
   "id": "ec3175ba",
   "metadata": {},
   "outputs": [
    {
     "data": {
      "text/html": [
       "<div>\n",
       "<style scoped>\n",
       "    .dataframe tbody tr th:only-of-type {\n",
       "        vertical-align: middle;\n",
       "    }\n",
       "\n",
       "    .dataframe tbody tr th {\n",
       "        vertical-align: top;\n",
       "    }\n",
       "\n",
       "    .dataframe thead th {\n",
       "        text-align: right;\n",
       "    }\n",
       "</style>\n",
       "<table border=\"1\" class=\"dataframe\">\n",
       "  <thead>\n",
       "    <tr style=\"text-align: right;\">\n",
       "      <th></th>\n",
       "      <th>client_id</th>\n",
       "      <th>mean_consumption</th>\n",
       "      <th>mean_temperature</th>\n",
       "      <th>mean_humidity</th>\n",
       "      <th>region</th>\n",
       "    </tr>\n",
       "  </thead>\n",
       "  <tbody>\n",
       "    <tr>\n",
       "      <th>0</th>\n",
       "      <td>C0000</td>\n",
       "      <td>16.252611</td>\n",
       "      <td>24.993203</td>\n",
       "      <td>60.174688</td>\n",
       "      <td>Norte</td>\n",
       "    </tr>\n",
       "    <tr>\n",
       "      <th>1</th>\n",
       "      <td>C0001</td>\n",
       "      <td>18.926167</td>\n",
       "      <td>24.993203</td>\n",
       "      <td>60.174688</td>\n",
       "      <td>Norte</td>\n",
       "    </tr>\n",
       "    <tr>\n",
       "      <th>2</th>\n",
       "      <td>C0002</td>\n",
       "      <td>18.624611</td>\n",
       "      <td>25.067315</td>\n",
       "      <td>59.734148</td>\n",
       "      <td>Sul</td>\n",
       "    </tr>\n",
       "    <tr>\n",
       "      <th>3</th>\n",
       "      <td>C0003</td>\n",
       "      <td>15.284000</td>\n",
       "      <td>24.993203</td>\n",
       "      <td>60.174688</td>\n",
       "      <td>Norte</td>\n",
       "    </tr>\n",
       "    <tr>\n",
       "      <th>4</th>\n",
       "      <td>C0004</td>\n",
       "      <td>14.446500</td>\n",
       "      <td>25.179830</td>\n",
       "      <td>60.064383</td>\n",
       "      <td>Oeste</td>\n",
       "    </tr>\n",
       "  </tbody>\n",
       "</table>\n",
       "</div>"
      ],
      "text/plain": [
       "  client_id  mean_consumption  mean_temperature  mean_humidity region\n",
       "0     C0000         16.252611         24.993203      60.174688  Norte\n",
       "1     C0001         18.926167         24.993203      60.174688  Norte\n",
       "2     C0002         18.624611         25.067315      59.734148    Sul\n",
       "3     C0003         15.284000         24.993203      60.174688  Norte\n",
       "4     C0004         14.446500         25.179830      60.064383  Oeste"
      ]
     },
     "execution_count": 3,
     "metadata": {},
     "output_type": "execute_result"
    }
   ],
   "source": [
    "# Agrupa por cliente e extrai features relevantes\n",
    "input_df = df.groupby('client_id').agg({\n",
    "    'consumption_kwh': ['mean'],\n",
    "    'temperature': 'mean',\n",
    "    'humidity': 'mean',\n",
    "    'region': 'first'\n",
    "}).reset_index()\n",
    "\n",
    "input_df.columns = ['client_id', 'mean_consumption', 'mean_temperature', 'mean_humidity', 'region']\n",
    "\n",
    "input_df.head()"
   ]
  },
  {
   "cell_type": "code",
   "execution_count": 4,
   "id": "994d18a6",
   "metadata": {},
   "outputs": [],
   "source": [
    "# One-hot encoding da coluna de região (sem prefixo)\n",
    "input_df = pd.get_dummies(input_df, columns=['region'], prefix='', prefix_sep='')"
   ]
  },
  {
   "cell_type": "code",
   "execution_count": 5,
   "id": "3df491be",
   "metadata": {},
   "outputs": [],
   "source": [
    "# Normaliza os dados (exceto client_id)\n",
    "features = input_df.drop(columns=['client_id'])\n",
    "scaler = StandardScaler()\n",
    "features_scaled  = scaler.fit_transform(features)\n",
    "\n",
    "# Concatena novamente com client_id\n",
    "input_df = pd.concat(\n",
    "    [input_df[['client_id']].reset_index(drop=True), pd.DataFrame(features_scaled, columns=features.columns)],\n",
    "    axis=1\n",
    ")"
   ]
  },
  {
   "cell_type": "markdown",
   "id": "85b8b739",
   "metadata": {},
   "source": [
    "# Salvar dados de Feature"
   ]
  },
  {
   "cell_type": "code",
   "execution_count": 12,
   "id": "8d27a1b8",
   "metadata": {},
   "outputs": [
    {
     "data": {
      "text/plain": [
       "<duckdb.duckdb.DuckDBPyConnection at 0x183d594cbf0>"
      ]
     },
     "execution_count": 12,
     "metadata": {},
     "output_type": "execute_result"
    }
   ],
   "source": [
    "con.execute(\"\"\"\n",
    "CREATE TABLE IF NOT EXISTS feature.clusterizacao_cliente (\n",
    "    client_id VARCHAR,\n",
    "    mean_consumption DOUBLE,\n",
    "    mean_temperature DOUBLE,\n",
    "    mean_humidity DOUBLE,\n",
    "    Centro DOUBLE,\n",
    "    Leste DOUBLE,\n",
    "    Norte DOUBLE,\n",
    "    Oeste DOUBLE,\n",
    "    Sul DOUBLE\n",
    ")\n",
    "\"\"\")"
   ]
  },
  {
   "cell_type": "code",
   "execution_count": 13,
   "id": "15be3583",
   "metadata": {},
   "outputs": [
    {
     "data": {
      "text/plain": [
       "<duckdb.duckdb.DuckDBPyConnection at 0x183d594cbf0>"
      ]
     },
     "execution_count": 13,
     "metadata": {},
     "output_type": "execute_result"
    }
   ],
   "source": [
    "# Limpa dados se as tabelas já existirem\n",
    "con.execute(\"DELETE FROM feature.clusterizacao_cliente\")"
   ]
  },
  {
   "cell_type": "code",
   "execution_count": 14,
   "id": "0e8ef4ef",
   "metadata": {},
   "outputs": [
    {
     "data": {
      "text/plain": [
       "<duckdb.duckdb.DuckDBPyConnection at 0x183d594cbf0>"
      ]
     },
     "execution_count": 14,
     "metadata": {},
     "output_type": "execute_result"
    }
   ],
   "source": [
    "# Registra como tabelas temporárias\n",
    "con.register(\"input_df\", input_df)"
   ]
  },
  {
   "cell_type": "code",
   "execution_count": 15,
   "id": "610e579d",
   "metadata": {},
   "outputs": [
    {
     "data": {
      "text/plain": [
       "<duckdb.duckdb.DuckDBPyConnection at 0x183d594cbf0>"
      ]
     },
     "execution_count": 15,
     "metadata": {},
     "output_type": "execute_result"
    }
   ],
   "source": [
    "# Insere os dados nas tabelas gold\n",
    "con.execute(\"INSERT INTO feature.clusterizacao_cliente SELECT * FROM input_df\")"
   ]
  },
  {
   "cell_type": "code",
   "execution_count": 16,
   "id": "70874c72",
   "metadata": {},
   "outputs": [],
   "source": [
    "con.close()"
   ]
  }
 ],
 "metadata": {
  "kernelspec": {
   "display_name": "venv",
   "language": "python",
   "name": "python3"
  },
  "language_info": {
   "codemirror_mode": {
    "name": "ipython",
    "version": 3
   },
   "file_extension": ".py",
   "mimetype": "text/x-python",
   "name": "python",
   "nbconvert_exporter": "python",
   "pygments_lexer": "ipython3",
   "version": "3.10.0"
  }
 },
 "nbformat": 4,
 "nbformat_minor": 5
}
