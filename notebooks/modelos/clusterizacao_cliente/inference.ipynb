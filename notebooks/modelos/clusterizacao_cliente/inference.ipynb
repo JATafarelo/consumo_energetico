{
 "cells": [
  {
   "cell_type": "code",
   "execution_count": 1,
   "id": "8cb33de9",
   "metadata": {},
   "outputs": [],
   "source": [
    "import pandas as pd\n",
    "import duckdb\n",
    "\n",
    "import mlflow"
   ]
  },
  {
   "cell_type": "code",
   "execution_count": 2,
   "id": "c14d33e3",
   "metadata": {},
   "outputs": [
    {
     "ename": "UnicodeDecodeError",
     "evalue": "'utf-8' codec can't decode byte 0xe1 in position 192: invalid continuation byte",
     "output_type": "error",
     "traceback": [
      "\u001b[31m---------------------------------------------------------------------------\u001b[39m",
      "\u001b[31mUnicodeDecodeError\u001b[39m                        Traceback (most recent call last)",
      "\u001b[36mCell\u001b[39m\u001b[36m \u001b[39m\u001b[32mIn[2]\u001b[39m\u001b[32m, line 5\u001b[39m\n\u001b[32m      2\u001b[39m db_path = \u001b[33m\"\u001b[39m\u001b[33m../../../data/duckdb/database.duckdb\u001b[39m\u001b[33m\"\u001b[39m\n\u001b[32m      4\u001b[39m \u001b[38;5;66;03m# Conexão com o banco DuckDB\u001b[39;00m\n\u001b[32m----> \u001b[39m\u001b[32m5\u001b[39m con = \u001b[43mduckdb\u001b[49m\u001b[43m.\u001b[49m\u001b[43mconnect\u001b[49m\u001b[43m(\u001b[49m\u001b[43mdb_path\u001b[49m\u001b[43m)\u001b[49m\n\u001b[32m      7\u001b[39m \u001b[38;5;66;03m# Define raiz do projeto (ajuste conforme seu ambiente)\u001b[39;00m\n\u001b[32m      8\u001b[39m mlflow.set_tracking_uri(uri=\u001b[33m\"\u001b[39m\u001b[33mhttp://127.0.0.1:8080\u001b[39m\u001b[33m\"\u001b[39m)\n",
      "\u001b[31mUnicodeDecodeError\u001b[39m: 'utf-8' codec can't decode byte 0xe1 in position 192: invalid continuation byte"
     ]
    }
   ],
   "source": [
    "# Caminho do banco\n",
    "db_path = \"../../../data/duckdb/database.duckdb\"\n",
    "\n",
    "# Conexão com o banco DuckDB\n",
    "con = duckdb.connect(db_path)\n",
    "\n",
    "# Define raiz do projeto (ajuste conforme seu ambiente)\n",
    "mlflow.set_tracking_uri(uri=\"http://127.0.0.1:8080\")\n",
    "\n",
    "# Carrega os dados de feature engineering\n",
    "df = con.execute(\"SELECT * FROM feature.clusterizacao_cliente\").df()\n",
    "\n",
    "inference_df = df.drop('client_id', axis=1).to_numpy()"
   ]
  },
  {
   "cell_type": "markdown",
   "id": "81dba69b",
   "metadata": {},
   "source": [
    "# Inferência"
   ]
  },
  {
   "cell_type": "code",
   "execution_count": null,
   "id": "77e151a2",
   "metadata": {},
   "outputs": [],
   "source": [
    "# Define experimento\n",
    "mlflow.set_experiment(\"clusterizacao_cliente\")\n",
    "\n",
    "model_name = \"clusterizacao_cliente\"\n",
    "\n",
    "champion_model = mlflow.pyfunc.load_model(f\"models:/{model_name}@champion\")"
   ]
  },
  {
   "cell_type": "code",
   "execution_count": null,
   "id": "50acd09a",
   "metadata": {},
   "outputs": [],
   "source": [
    "y_pred = champion_model.predict(inference_df)"
   ]
  },
  {
   "cell_type": "code",
   "execution_count": null,
   "id": "61597b0c",
   "metadata": {},
   "outputs": [],
   "source": [
    "df['cluster'] = y_pred\n",
    "\n",
    "df = df[['client_id', 'cluster']]"
   ]
  },
  {
   "cell_type": "code",
   "execution_count": null,
   "id": "e53c7d66",
   "metadata": {},
   "outputs": [],
   "source": [
    "df.info()"
   ]
  },
  {
   "cell_type": "markdown",
   "id": "373e2370",
   "metadata": {},
   "source": [
    "# Salvar resultados"
   ]
  },
  {
   "cell_type": "code",
   "execution_count": null,
   "id": "2f4e757a",
   "metadata": {},
   "outputs": [
    {
     "data": {
      "text/plain": [
       "<duckdb.duckdb.DuckDBPyConnection at 0x27f4e56c130>"
      ]
     },
     "execution_count": 6,
     "metadata": {},
     "output_type": "execute_result"
    }
   ],
   "source": [
    "con.execute(\"\"\"\n",
    "CREATE TABLE output.clusterizacao_cliente (\n",
    "    client_id VARCHAR,\n",
    "    cluster INTEGER\n",
    ")\n",
    "\"\"\")"
   ]
  },
  {
   "cell_type": "code",
   "execution_count": 7,
   "id": "52aebe5c",
   "metadata": {},
   "outputs": [
    {
     "data": {
      "text/plain": [
       "<duckdb.duckdb.DuckDBPyConnection at 0x27f4e56c130>"
      ]
     },
     "execution_count": 7,
     "metadata": {},
     "output_type": "execute_result"
    }
   ],
   "source": [
    "# Limpa dados se as tabelas já existirem\n",
    "con.execute(\"DELETE FROM output.clusterizacao_cliente\")"
   ]
  },
  {
   "cell_type": "code",
   "execution_count": 8,
   "id": "fa521b78",
   "metadata": {},
   "outputs": [
    {
     "data": {
      "text/plain": [
       "<duckdb.duckdb.DuckDBPyConnection at 0x27f4e56c130>"
      ]
     },
     "execution_count": 8,
     "metadata": {},
     "output_type": "execute_result"
    }
   ],
   "source": [
    "# Registra como tabelas temporárias\n",
    "con.register(\"df\", df)"
   ]
  },
  {
   "cell_type": "code",
   "execution_count": 9,
   "id": "90cda590",
   "metadata": {},
   "outputs": [
    {
     "data": {
      "text/plain": [
       "<duckdb.duckdb.DuckDBPyConnection at 0x27f4e56c130>"
      ]
     },
     "execution_count": 9,
     "metadata": {},
     "output_type": "execute_result"
    }
   ],
   "source": [
    "# Insere os dados nas tabelas gold\n",
    "con.execute(\"INSERT INTO output.clusterizacao_cliente SELECT * FROM df\")"
   ]
  },
  {
   "cell_type": "code",
   "execution_count": 10,
   "id": "f2dcbc61",
   "metadata": {},
   "outputs": [],
   "source": [
    "con.close()"
   ]
  }
 ],
 "metadata": {
  "kernelspec": {
   "display_name": "venv (3.11.9)",
   "language": "python",
   "name": "python3"
  },
  "language_info": {
   "codemirror_mode": {
    "name": "ipython",
    "version": 3
   },
   "file_extension": ".py",
   "mimetype": "text/x-python",
   "name": "python",
   "nbconvert_exporter": "python",
   "pygments_lexer": "ipython3",
   "version": "3.11.9"
  }
 },
 "nbformat": 4,
 "nbformat_minor": 5
}
