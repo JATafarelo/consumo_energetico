{
 "cells": [
  {
   "cell_type": "code",
   "execution_count": 1,
   "id": "dc8ae76c",
   "metadata": {
    "execution": {
     "iopub.execute_input": "2025-07-30T16:38:33.216219Z",
     "iopub.status.busy": "2025-07-30T16:38:33.216219Z",
     "iopub.status.idle": "2025-07-30T16:38:46.188169Z",
     "shell.execute_reply": "2025-07-30T16:38:46.188169Z"
    }
   },
   "outputs": [],
   "source": [
    "import pandas as pd\n",
    "import duckdb\n",
    "\n",
    "from sklearn.preprocessing import StandardScaler"
   ]
  },
  {
   "cell_type": "code",
   "execution_count": 2,
   "id": "c69cd239",
   "metadata": {
    "execution": {
     "iopub.execute_input": "2025-07-30T16:38:46.188169Z",
     "iopub.status.busy": "2025-07-30T16:38:46.188169Z",
     "iopub.status.idle": "2025-07-30T16:38:46.221917Z",
     "shell.execute_reply": "2025-07-30T16:38:46.221917Z"
    }
   },
   "outputs": [],
   "source": [
    "# Caminho do banco\n",
    "db_path = \"../../data/duckdb/database.duckdb\"\n",
    "\n",
    "# Conexão com o banco DuckDB\n",
    "con = duckdb.connect(db_path)\n",
    "\n",
    "# Carrega os dados da camada bronze\n",
    "df = con.execute(\"SELECT * FROM gold.consumo_geral\").df()"
   ]
  },
  {
   "cell_type": "markdown",
   "id": "18d3d1b8",
   "metadata": {},
   "source": [
    "# Feature Engineering"
   ]
  },
  {
   "cell_type": "code",
   "execution_count": 3,
   "id": "ec3175ba",
   "metadata": {
    "execution": {
     "iopub.execute_input": "2025-07-30T16:38:46.224260Z",
     "iopub.status.busy": "2025-07-30T16:38:46.224260Z",
     "iopub.status.idle": "2025-07-30T16:38:46.277603Z",
     "shell.execute_reply": "2025-07-30T16:38:46.277603Z"
    }
   },
   "outputs": [
    {
     "data": {
      "text/html": [
       "<div>\n",
       "<style scoped>\n",
       "    .dataframe tbody tr th:only-of-type {\n",
       "        vertical-align: middle;\n",
       "    }\n",
       "\n",
       "    .dataframe tbody tr th {\n",
       "        vertical-align: top;\n",
       "    }\n",
       "\n",
       "    .dataframe thead th {\n",
       "        text-align: right;\n",
       "    }\n",
       "</style>\n",
       "<table border=\"1\" class=\"dataframe\">\n",
       "  <thead>\n",
       "    <tr style=\"text-align: right;\">\n",
       "      <th></th>\n",
       "      <th>client_id</th>\n",
       "      <th>mean_consumption</th>\n",
       "      <th>mean_temperature</th>\n",
       "      <th>mean_humidity</th>\n",
       "    </tr>\n",
       "  </thead>\n",
       "  <tbody>\n",
       "    <tr>\n",
       "      <th>0</th>\n",
       "      <td>C0000</td>\n",
       "      <td>16.252611</td>\n",
       "      <td>24.993203</td>\n",
       "      <td>60.174688</td>\n",
       "    </tr>\n",
       "    <tr>\n",
       "      <th>1</th>\n",
       "      <td>C0001</td>\n",
       "      <td>18.926167</td>\n",
       "      <td>24.993203</td>\n",
       "      <td>60.174688</td>\n",
       "    </tr>\n",
       "    <tr>\n",
       "      <th>2</th>\n",
       "      <td>C0002</td>\n",
       "      <td>18.624611</td>\n",
       "      <td>25.067315</td>\n",
       "      <td>59.734148</td>\n",
       "    </tr>\n",
       "    <tr>\n",
       "      <th>3</th>\n",
       "      <td>C0003</td>\n",
       "      <td>15.284000</td>\n",
       "      <td>24.993203</td>\n",
       "      <td>60.174688</td>\n",
       "    </tr>\n",
       "    <tr>\n",
       "      <th>4</th>\n",
       "      <td>C0004</td>\n",
       "      <td>14.446500</td>\n",
       "      <td>25.179830</td>\n",
       "      <td>60.064383</td>\n",
       "    </tr>\n",
       "  </tbody>\n",
       "</table>\n",
       "</div>"
      ],
      "text/plain": [
       "  client_id  mean_consumption  mean_temperature  mean_humidity\n",
       "0     C0000         16.252611         24.993203      60.174688\n",
       "1     C0001         18.926167         24.993203      60.174688\n",
       "2     C0002         18.624611         25.067315      59.734148\n",
       "3     C0003         15.284000         24.993203      60.174688\n",
       "4     C0004         14.446500         25.179830      60.064383"
      ]
     },
     "execution_count": 3,
     "metadata": {},
     "output_type": "execute_result"
    }
   ],
   "source": [
    "# Agrupa por cliente e extrai features relevantes\n",
    "input_df = df.groupby('client_id').agg({\n",
    "    'consumption_kwh': ['mean'],\n",
    "    'temperature': 'mean',\n",
    "    'humidity': 'mean'\n",
    "}).reset_index()\n",
    "\n",
    "input_df.columns = ['client_id', 'mean_consumption', 'mean_temperature', 'mean_humidity']\n",
    "\n",
    "input_df.head()"
   ]
  },
  {
   "cell_type": "code",
   "execution_count": 4,
   "id": "3df491be",
   "metadata": {
    "execution": {
     "iopub.execute_input": "2025-07-30T16:38:46.277603Z",
     "iopub.status.busy": "2025-07-30T16:38:46.277603Z",
     "iopub.status.idle": "2025-07-30T16:38:46.287947Z",
     "shell.execute_reply": "2025-07-30T16:38:46.287947Z"
    }
   },
   "outputs": [],
   "source": [
    "# Normaliza os dados (exceto client_id)\n",
    "features = input_df.drop(columns=['client_id'])\n",
    "scaler = StandardScaler()\n",
    "features_scaled  = scaler.fit_transform(features)\n",
    "\n",
    "# Concatena novamente com client_id\n",
    "input_df = pd.concat(\n",
    "    [input_df[['client_id']].reset_index(drop=True), pd.DataFrame(features_scaled, columns=features.columns)],\n",
    "    axis=1\n",
    ")"
   ]
  },
  {
   "cell_type": "markdown",
   "id": "85b8b739",
   "metadata": {},
   "source": [
    "# Salvar dados de Feature"
   ]
  },
  {
   "cell_type": "code",
   "execution_count": 5,
   "id": "8d27a1b8",
   "metadata": {
    "execution": {
     "iopub.execute_input": "2025-07-30T16:38:46.287947Z",
     "iopub.status.busy": "2025-07-30T16:38:46.287947Z",
     "iopub.status.idle": "2025-07-30T16:38:46.300670Z",
     "shell.execute_reply": "2025-07-30T16:38:46.300670Z"
    }
   },
   "outputs": [
    {
     "data": {
      "text/plain": [
       "<duckdb.duckdb.DuckDBPyConnection at 0x1aac70cc730>"
      ]
     },
     "execution_count": 5,
     "metadata": {},
     "output_type": "execute_result"
    }
   ],
   "source": [
    "con.execute(\"\"\"\n",
    "CREATE OR REPLACE TABLE feature.clusterizacao_cliente (\n",
    "    client_id VARCHAR,\n",
    "    mean_consumption DOUBLE,\n",
    "    mean_temperature DOUBLE,\n",
    "    mean_humidity DOUBLE\n",
    ")\n",
    "\"\"\")"
   ]
  },
  {
   "cell_type": "code",
   "execution_count": 6,
   "id": "15be3583",
   "metadata": {
    "execution": {
     "iopub.execute_input": "2025-07-30T16:38:46.300670Z",
     "iopub.status.busy": "2025-07-30T16:38:46.300670Z",
     "iopub.status.idle": "2025-07-30T16:38:46.306795Z",
     "shell.execute_reply": "2025-07-30T16:38:46.306795Z"
    }
   },
   "outputs": [
    {
     "data": {
      "text/plain": [
       "<duckdb.duckdb.DuckDBPyConnection at 0x1aac70cc730>"
      ]
     },
     "execution_count": 6,
     "metadata": {},
     "output_type": "execute_result"
    }
   ],
   "source": [
    "# Limpa dados se as tabelas já existirem\n",
    "con.execute(\"DELETE FROM feature.clusterizacao_cliente\")"
   ]
  },
  {
   "cell_type": "code",
   "execution_count": 7,
   "id": "0e8ef4ef",
   "metadata": {
    "execution": {
     "iopub.execute_input": "2025-07-30T16:38:46.307799Z",
     "iopub.status.busy": "2025-07-30T16:38:46.307799Z",
     "iopub.status.idle": "2025-07-30T16:38:46.314562Z",
     "shell.execute_reply": "2025-07-30T16:38:46.314562Z"
    }
   },
   "outputs": [
    {
     "data": {
      "text/plain": [
       "<duckdb.duckdb.DuckDBPyConnection at 0x1aac70cc730>"
      ]
     },
     "execution_count": 7,
     "metadata": {},
     "output_type": "execute_result"
    }
   ],
   "source": [
    "# Registra como tabelas temporárias\n",
    "con.register(\"input_df\", input_df)"
   ]
  },
  {
   "cell_type": "code",
   "execution_count": 8,
   "id": "610e579d",
   "metadata": {
    "execution": {
     "iopub.execute_input": "2025-07-30T16:38:46.314562Z",
     "iopub.status.busy": "2025-07-30T16:38:46.314562Z",
     "iopub.status.idle": "2025-07-30T16:38:46.322209Z",
     "shell.execute_reply": "2025-07-30T16:38:46.322209Z"
    }
   },
   "outputs": [
    {
     "data": {
      "text/plain": [
       "<duckdb.duckdb.DuckDBPyConnection at 0x1aac70cc730>"
      ]
     },
     "execution_count": 8,
     "metadata": {},
     "output_type": "execute_result"
    }
   ],
   "source": [
    "# Insere os dados nas tabelas gold\n",
    "con.execute(\"INSERT INTO feature.clusterizacao_cliente SELECT * FROM input_df\")"
   ]
  },
  {
   "cell_type": "code",
   "execution_count": 9,
   "id": "70874c72",
   "metadata": {
    "execution": {
     "iopub.execute_input": "2025-07-30T16:38:46.323740Z",
     "iopub.status.busy": "2025-07-30T16:38:46.323740Z",
     "iopub.status.idle": "2025-07-30T16:38:46.341741Z",
     "shell.execute_reply": "2025-07-30T16:38:46.341741Z"
    }
   },
   "outputs": [],
   "source": [
    "con.close()"
   ]
  }
 ],
 "metadata": {
  "kernelspec": {
   "display_name": "venv (3.11.9)",
   "language": "python",
   "name": "python3"
  },
  "language_info": {
   "codemirror_mode": {
    "name": "ipython",
    "version": 3
   },
   "file_extension": ".py",
   "mimetype": "text/x-python",
   "name": "python",
   "nbconvert_exporter": "python",
   "pygments_lexer": "ipython3",
   "version": "3.11.9"
  }
 },
 "nbformat": 4,
 "nbformat_minor": 5
}
