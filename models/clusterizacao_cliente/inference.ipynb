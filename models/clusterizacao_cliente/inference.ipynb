{
 "cells": [
  {
   "cell_type": "code",
   "execution_count": 1,
   "id": "8cb33de9",
   "metadata": {
    "execution": {
     "iopub.execute_input": "2025-07-30T16:39:11.260997Z",
     "iopub.status.busy": "2025-07-30T16:39:11.260997Z",
     "iopub.status.idle": "2025-07-30T16:39:12.496744Z",
     "shell.execute_reply": "2025-07-30T16:39:12.496744Z"
    }
   },
   "outputs": [],
   "source": [
    "import pandas as pd\n",
    "import duckdb\n",
    "\n",
    "import mlflow"
   ]
  },
  {
   "cell_type": "code",
   "execution_count": 2,
   "id": "c14d33e3",
   "metadata": {
    "execution": {
     "iopub.execute_input": "2025-07-30T16:39:12.496744Z",
     "iopub.status.busy": "2025-07-30T16:39:12.496744Z",
     "iopub.status.idle": "2025-07-30T16:39:12.519654Z",
     "shell.execute_reply": "2025-07-30T16:39:12.519654Z"
    }
   },
   "outputs": [],
   "source": [
    "# Caminho do banco\n",
    "db_path = \"../../data/duckdb/database.duckdb\"\n",
    "\n",
    "# Conexão com o banco DuckDB\n",
    "con = duckdb.connect(db_path)\n",
    "\n",
    "# Define raiz do projeto (ajuste conforme seu ambiente)\n",
    "mlflow.set_tracking_uri(uri=\"http://127.0.0.1:8080\")\n",
    "\n",
    "# Carrega os dados de feature engineering\n",
    "df = con.execute(\"SELECT * FROM feature.clusterizacao_cliente\").df()\n",
    "\n",
    "inference_df = df.drop('client_id', axis=1).to_numpy()"
   ]
  },
  {
   "cell_type": "markdown",
   "id": "81dba69b",
   "metadata": {},
   "source": [
    "# Inferência"
   ]
  },
  {
   "cell_type": "code",
   "execution_count": 3,
   "id": "77e151a2",
   "metadata": {
    "execution": {
     "iopub.execute_input": "2025-07-30T16:39:12.519654Z",
     "iopub.status.busy": "2025-07-30T16:39:12.519654Z",
     "iopub.status.idle": "2025-07-30T16:39:14.365662Z",
     "shell.execute_reply": "2025-07-30T16:39:14.365662Z"
    }
   },
   "outputs": [],
   "source": [
    "# Define experimento\n",
    "mlflow.set_experiment(\"clusterizacao_cliente\")\n",
    "\n",
    "model_name = \"clusterizacao_cliente\"\n",
    "\n",
    "champion_model = mlflow.pyfunc.load_model(f\"models:/{model_name}@champion\")"
   ]
  },
  {
   "cell_type": "code",
   "execution_count": 4,
   "id": "50acd09a",
   "metadata": {
    "execution": {
     "iopub.execute_input": "2025-07-30T16:39:14.365662Z",
     "iopub.status.busy": "2025-07-30T16:39:14.365662Z",
     "iopub.status.idle": "2025-07-30T16:39:14.428254Z",
     "shell.execute_reply": "2025-07-30T16:39:14.428254Z"
    }
   },
   "outputs": [],
   "source": [
    "y_pred = champion_model.predict(inference_df)"
   ]
  },
  {
   "cell_type": "code",
   "execution_count": 5,
   "id": "61597b0c",
   "metadata": {
    "execution": {
     "iopub.execute_input": "2025-07-30T16:39:14.428254Z",
     "iopub.status.busy": "2025-07-30T16:39:14.428254Z",
     "iopub.status.idle": "2025-07-30T16:39:14.434343Z",
     "shell.execute_reply": "2025-07-30T16:39:14.434343Z"
    }
   },
   "outputs": [],
   "source": [
    "df['cluster'] = y_pred\n",
    "\n",
    "df = df[['client_id', 'cluster']]"
   ]
  },
  {
   "cell_type": "markdown",
   "id": "373e2370",
   "metadata": {},
   "source": [
    "# Salvar resultados"
   ]
  },
  {
   "cell_type": "code",
   "execution_count": 6,
   "id": "2f4e757a",
   "metadata": {
    "execution": {
     "iopub.execute_input": "2025-07-30T16:39:14.435347Z",
     "iopub.status.busy": "2025-07-30T16:39:14.435347Z",
     "iopub.status.idle": "2025-07-30T16:39:14.445069Z",
     "shell.execute_reply": "2025-07-30T16:39:14.445069Z"
    }
   },
   "outputs": [
    {
     "data": {
      "text/plain": [
       "<duckdb.duckdb.DuckDBPyConnection at 0x24977443430>"
      ]
     },
     "execution_count": 6,
     "metadata": {},
     "output_type": "execute_result"
    }
   ],
   "source": [
    "con.execute(\"\"\"\n",
    "CREATE TABLE output.clusterizacao_cliente (\n",
    "    client_id VARCHAR,\n",
    "    cluster INTEGER\n",
    ")\n",
    "\"\"\")"
   ]
  },
  {
   "cell_type": "code",
   "execution_count": 7,
   "id": "52aebe5c",
   "metadata": {
    "execution": {
     "iopub.execute_input": "2025-07-30T16:39:14.447219Z",
     "iopub.status.busy": "2025-07-30T16:39:14.446370Z",
     "iopub.status.idle": "2025-07-30T16:39:14.452386Z",
     "shell.execute_reply": "2025-07-30T16:39:14.452386Z"
    }
   },
   "outputs": [
    {
     "data": {
      "text/plain": [
       "<duckdb.duckdb.DuckDBPyConnection at 0x24977443430>"
      ]
     },
     "execution_count": 7,
     "metadata": {},
     "output_type": "execute_result"
    }
   ],
   "source": [
    "# Limpa dados se as tabelas já existirem\n",
    "con.execute(\"DELETE FROM output.clusterizacao_cliente\")"
   ]
  },
  {
   "cell_type": "code",
   "execution_count": 8,
   "id": "fa521b78",
   "metadata": {
    "execution": {
     "iopub.execute_input": "2025-07-30T16:39:14.452386Z",
     "iopub.status.busy": "2025-07-30T16:39:14.452386Z",
     "iopub.status.idle": "2025-07-30T16:39:14.459950Z",
     "shell.execute_reply": "2025-07-30T16:39:14.459950Z"
    }
   },
   "outputs": [
    {
     "data": {
      "text/plain": [
       "<duckdb.duckdb.DuckDBPyConnection at 0x24977443430>"
      ]
     },
     "execution_count": 8,
     "metadata": {},
     "output_type": "execute_result"
    }
   ],
   "source": [
    "# Registra como tabelas temporárias\n",
    "con.register(\"df\", df)"
   ]
  },
  {
   "cell_type": "code",
   "execution_count": 9,
   "id": "90cda590",
   "metadata": {
    "execution": {
     "iopub.execute_input": "2025-07-30T16:39:14.459950Z",
     "iopub.status.busy": "2025-07-30T16:39:14.459950Z",
     "iopub.status.idle": "2025-07-30T16:39:14.469335Z",
     "shell.execute_reply": "2025-07-30T16:39:14.469335Z"
    }
   },
   "outputs": [
    {
     "data": {
      "text/plain": [
       "<duckdb.duckdb.DuckDBPyConnection at 0x24977443430>"
      ]
     },
     "execution_count": 9,
     "metadata": {},
     "output_type": "execute_result"
    }
   ],
   "source": [
    "# Insere os dados nas tabelas gold\n",
    "con.execute(\"INSERT INTO output.clusterizacao_cliente SELECT * FROM df\")"
   ]
  },
  {
   "cell_type": "code",
   "execution_count": 10,
   "id": "f2dcbc61",
   "metadata": {
    "execution": {
     "iopub.execute_input": "2025-07-30T16:39:14.469335Z",
     "iopub.status.busy": "2025-07-30T16:39:14.469335Z",
     "iopub.status.idle": "2025-07-30T16:39:14.486414Z",
     "shell.execute_reply": "2025-07-30T16:39:14.486414Z"
    }
   },
   "outputs": [],
   "source": [
    "con.close()"
   ]
  }
 ],
 "metadata": {
  "kernelspec": {
   "display_name": "venv (3.11.9)",
   "language": "python",
   "name": "python3"
  },
  "language_info": {
   "codemirror_mode": {
    "name": "ipython",
    "version": 3
   },
   "file_extension": ".py",
   "mimetype": "text/x-python",
   "name": "python",
   "nbconvert_exporter": "python",
   "pygments_lexer": "ipython3",
   "version": "3.11.9"
  }
 },
 "nbformat": 4,
 "nbformat_minor": 5
}
