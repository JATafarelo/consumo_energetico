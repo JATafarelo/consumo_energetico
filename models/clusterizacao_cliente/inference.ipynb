{
 "cells": [
  {
   "cell_type": "code",
   "execution_count": 4,
   "id": "8cb33de9",
   "metadata": {
    "execution": {
     "iopub.execute_input": "2025-07-29T23:53:50.109206Z",
     "iopub.status.busy": "2025-07-29T23:53:50.104982Z",
     "iopub.status.idle": "2025-07-29T23:53:53.021631Z",
     "shell.execute_reply": "2025-07-29T23:53:53.021631Z"
    }
   },
   "outputs": [],
   "source": [
    "import pandas as pd\n",
    "import duckdb\n",
    "\n",
    "import mlflow"
   ]
  },
  {
   "cell_type": "code",
   "execution_count": 5,
   "id": "c14d33e3",
   "metadata": {
    "execution": {
     "iopub.execute_input": "2025-07-29T23:53:53.021631Z",
     "iopub.status.busy": "2025-07-29T23:53:53.021631Z",
     "iopub.status.idle": "2025-07-29T23:53:53.055022Z",
     "shell.execute_reply": "2025-07-29T23:53:53.055022Z"
    }
   },
   "outputs": [],
   "source": [
    "# Caminho do banco\n",
    "db_path = \"../../data/duckdb/database.duckdb\"\n",
    "\n",
    "# Conexão com o banco DuckDB\n",
    "con = duckdb.connect(db_path)\n",
    "\n",
    "# Define raiz do projeto (ajuste conforme seu ambiente)\n",
    "mlflow.set_tracking_uri(uri=\"http://127.0.0.1:8080\")\n",
    "\n",
    "# Carrega os dados de feature engineering\n",
    "df = con.execute(\"SELECT * FROM feature.clusterizacao_cliente\").df()\n",
    "\n",
    "inference_df = df.drop('client_id', axis=1).to_numpy()"
   ]
  },
  {
   "cell_type": "markdown",
   "id": "81dba69b",
   "metadata": {},
   "source": [
    "# Inferência"
   ]
  },
  {
   "cell_type": "code",
   "execution_count": 6,
   "id": "77e151a2",
   "metadata": {
    "execution": {
     "iopub.execute_input": "2025-07-29T23:53:53.059093Z",
     "iopub.status.busy": "2025-07-29T23:53:53.059093Z",
     "iopub.status.idle": "2025-07-29T23:53:57.423739Z",
     "shell.execute_reply": "2025-07-29T23:53:57.423739Z"
    }
   },
   "outputs": [],
   "source": [
    "# Define experimento\n",
    "mlflow.set_experiment(\"clusterizacao_cliente\")\n",
    "\n",
    "model_name = \"clusterizacao_cliente\"\n",
    "\n",
    "champion_model = mlflow.pyfunc.load_model(f\"models:/{model_name}@champion\")"
   ]
  },
  {
   "cell_type": "code",
   "execution_count": 4,
   "id": "50acd09a",
   "metadata": {
    "execution": {
     "iopub.execute_input": "2025-07-29T23:53:57.429281Z",
     "iopub.status.busy": "2025-07-29T23:53:57.426775Z",
     "iopub.status.idle": "2025-07-29T23:53:57.533994Z",
     "shell.execute_reply": "2025-07-29T23:53:57.533994Z"
    }
   },
   "outputs": [],
   "source": [
    "y_pred = champion_model.predict(inference_df)"
   ]
  },
  {
   "cell_type": "code",
   "execution_count": 5,
   "id": "61597b0c",
   "metadata": {
    "execution": {
     "iopub.execute_input": "2025-07-29T23:53:57.533994Z",
     "iopub.status.busy": "2025-07-29T23:53:57.533994Z",
     "iopub.status.idle": "2025-07-29T23:53:57.543341Z",
     "shell.execute_reply": "2025-07-29T23:53:57.543341Z"
    }
   },
   "outputs": [],
   "source": [
    "df['cluster'] = y_pred\n",
    "\n",
    "df = df[['client_id', 'cluster']]"
   ]
  },
  {
   "cell_type": "markdown",
   "id": "373e2370",
   "metadata": {},
   "source": [
    "# Salvar resultados"
   ]
  },
  {
   "cell_type": "code",
   "execution_count": 7,
   "id": "2f4e757a",
   "metadata": {
    "execution": {
     "iopub.execute_input": "2025-07-29T23:53:57.565044Z",
     "iopub.status.busy": "2025-07-29T23:53:57.565044Z",
     "iopub.status.idle": "2025-07-29T23:53:57.589023Z",
     "shell.execute_reply": "2025-07-29T23:53:57.588000Z"
    }
   },
   "outputs": [
    {
     "data": {
      "text/plain": [
       "<duckdb.duckdb.DuckDBPyConnection at 0x29a379269f0>"
      ]
     },
     "execution_count": 7,
     "metadata": {},
     "output_type": "execute_result"
    }
   ],
   "source": [
    "con.execute(\"\"\"\n",
    "CREATE TABLE output.clusterizacao_cliente (\n",
    "    client_id VARCHAR,\n",
    "    cluster INTEGER\n",
    ")\n",
    "\"\"\")"
   ]
  },
  {
   "cell_type": "code",
   "execution_count": 8,
   "id": "52aebe5c",
   "metadata": {
    "execution": {
     "iopub.execute_input": "2025-07-29T23:53:57.592546Z",
     "iopub.status.busy": "2025-07-29T23:53:57.589990Z",
     "iopub.status.idle": "2025-07-29T23:53:57.599069Z",
     "shell.execute_reply": "2025-07-29T23:53:57.599069Z"
    }
   },
   "outputs": [
    {
     "data": {
      "text/plain": [
       "<duckdb.duckdb.DuckDBPyConnection at 0x29a379269f0>"
      ]
     },
     "execution_count": 8,
     "metadata": {},
     "output_type": "execute_result"
    }
   ],
   "source": [
    "# Limpa dados se as tabelas já existirem\n",
    "con.execute(\"DELETE FROM output.clusterizacao_cliente\")"
   ]
  },
  {
   "cell_type": "code",
   "execution_count": 9,
   "id": "fa521b78",
   "metadata": {
    "execution": {
     "iopub.execute_input": "2025-07-29T23:53:57.602324Z",
     "iopub.status.busy": "2025-07-29T23:53:57.602324Z",
     "iopub.status.idle": "2025-07-29T23:53:57.612414Z",
     "shell.execute_reply": "2025-07-29T23:53:57.612414Z"
    }
   },
   "outputs": [
    {
     "data": {
      "text/plain": [
       "<duckdb.duckdb.DuckDBPyConnection at 0x29a379269f0>"
      ]
     },
     "execution_count": 9,
     "metadata": {},
     "output_type": "execute_result"
    }
   ],
   "source": [
    "# Registra como tabelas temporárias\n",
    "con.register(\"df\", df)"
   ]
  },
  {
   "cell_type": "code",
   "execution_count": 10,
   "id": "90cda590",
   "metadata": {
    "execution": {
     "iopub.execute_input": "2025-07-29T23:53:57.614874Z",
     "iopub.status.busy": "2025-07-29T23:53:57.614874Z",
     "iopub.status.idle": "2025-07-29T23:53:57.627332Z",
     "shell.execute_reply": "2025-07-29T23:53:57.627332Z"
    }
   },
   "outputs": [
    {
     "data": {
      "text/plain": [
       "<duckdb.duckdb.DuckDBPyConnection at 0x29a379269f0>"
      ]
     },
     "execution_count": 10,
     "metadata": {},
     "output_type": "execute_result"
    }
   ],
   "source": [
    "# Insere os dados nas tabelas gold\n",
    "con.execute(\"INSERT INTO output.clusterizacao_cliente SELECT * FROM df\")"
   ]
  },
  {
   "cell_type": "code",
   "execution_count": 11,
   "id": "f2dcbc61",
   "metadata": {
    "execution": {
     "iopub.execute_input": "2025-07-29T23:53:57.629911Z",
     "iopub.status.busy": "2025-07-29T23:53:57.629911Z",
     "iopub.status.idle": "2025-07-29T23:53:57.655378Z",
     "shell.execute_reply": "2025-07-29T23:53:57.655378Z"
    }
   },
   "outputs": [],
   "source": [
    "con.close()"
   ]
  }
 ],
 "metadata": {
  "kernelspec": {
   "display_name": "venv (3.11.9)",
   "language": "python",
   "name": "python3"
  },
  "language_info": {
   "codemirror_mode": {
    "name": "ipython",
    "version": 3
   },
   "file_extension": ".py",
   "mimetype": "text/x-python",
   "name": "python",
   "nbconvert_exporter": "python",
   "pygments_lexer": "ipython3",
   "version": "3.11.9"
  }
 },
 "nbformat": 4,
 "nbformat_minor": 5
}
