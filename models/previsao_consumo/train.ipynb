{
 "cells": [
  {
   "cell_type": "code",
   "execution_count": 1,
   "id": "dc8ae76c",
   "metadata": {
    "execution": {
     "iopub.execute_input": "2025-07-30T16:39:23.993327Z",
     "iopub.status.busy": "2025-07-30T16:39:23.993327Z",
     "iopub.status.idle": "2025-07-30T16:39:26.188088Z",
     "shell.execute_reply": "2025-07-30T16:39:26.188088Z"
    }
   },
   "outputs": [],
   "source": [
    "import pandas as pd\n",
    "import numpy as np\n",
    "import duckdb\n",
    "\n",
    "from sklearn.linear_model import LinearRegression\n",
    "\n",
    "import xgboost as xgb\n",
    "from sklearn.model_selection import TimeSeriesSplit\n",
    "from sklearn.metrics import mean_absolute_error, root_mean_squared_error, r2_score\n",
    "\n",
    "import mlflow\n",
    "from mlflow.models import infer_signature"
   ]
  },
  {
   "cell_type": "code",
   "execution_count": 2,
   "id": "c69cd239",
   "metadata": {
    "execution": {
     "iopub.execute_input": "2025-07-30T16:39:26.190092Z",
     "iopub.status.busy": "2025-07-30T16:39:26.190092Z",
     "iopub.status.idle": "2025-07-30T16:39:26.245297Z",
     "shell.execute_reply": "2025-07-30T16:39:26.245297Z"
    }
   },
   "outputs": [],
   "source": [
    "# Caminho do banco\n",
    "db_path = \"../../data/duckdb/database.duckdb\"\n",
    "\n",
    "# Conexão com o banco DuckDB\n",
    "con = duckdb.connect(db_path)\n",
    "\n",
    "# Define raiz do projeto (ajuste conforme seu ambiente)\n",
    "mlflow.set_tracking_uri(uri=\"http://127.0.0.1:8080\")\n",
    "\n",
    "\n",
    "# Carrega os dados da camada bronze\n",
    "df = con.execute(\"\"\"\n",
    "    SELECT * FROM feature.previsao_consumo\n",
    "\"\"\").df()"
   ]
  },
  {
   "cell_type": "markdown",
   "id": "5a730b2a",
   "metadata": {},
   "source": [
    "# Treinamento de Modelo"
   ]
  },
  {
   "cell_type": "code",
   "execution_count": 3,
   "id": "cd84b574",
   "metadata": {
    "execution": {
     "iopub.execute_input": "2025-07-30T16:39:26.247300Z",
     "iopub.status.busy": "2025-07-30T16:39:26.247300Z",
     "iopub.status.idle": "2025-07-30T16:39:26.257748Z",
     "shell.execute_reply": "2025-07-30T16:39:26.257748Z"
    }
   },
   "outputs": [],
   "source": [
    "def calcular_metricas(y_true, y_pred):\n",
    "    mae = mean_absolute_error(y_true, y_pred)\n",
    "    rmse = root_mean_squared_error(y_true, y_pred)\n",
    "    nrmse = rmse / np.mean(y_true)\n",
    "    r2 = r2_score(y_true, y_pred)\n",
    "    return mae, rmse, nrmse, r2\n",
    "\n",
    "def treinar_modelos_xgb_por_grupo_cv(df, features):\n",
    "    df = df.copy()\n",
    "    df['date'] = pd.to_datetime(df['date'])\n",
    "    df.set_index('date', inplace=True)\n",
    "\n",
    "    resultados = []\n",
    "\n",
    "    grupos = df.groupby(['cluster', 'region'])\n",
    "\n",
    "    for (cluster, region), grupo_df in grupos:\n",
    "        print(f\"\\nTreinando modelo para Cluster {cluster} - Região {region}\")\n",
    "\n",
    "        # Define experimento\n",
    "        mlflow.set_experiment(f\"previsao_cliente_{region}_{cluster}\")\n",
    "        model_name = f\"previsao_cliente_{region}_{cluster}\"\n",
    "\n",
    "        X = grupo_df[features]\n",
    "        y = grupo_df['consumption_kwh']\n",
    "        tscv = TimeSeriesSplit(n_splits=5)\n",
    "\n",
    "        maes, rmses, nrmses, r2s = [], [], [], []\n",
    "\n",
    "        for fold, (train_idx, val_idx) in enumerate(tscv.split(X)):\n",
    "            X_train, X_val = X.iloc[train_idx], X.iloc[val_idx]\n",
    "            y_train, y_val = y.iloc[train_idx], y.iloc[val_idx]\n",
    "\n",
    "            model = xgb.XGBRegressor(\n",
    "                n_estimators=100,\n",
    "                learning_rate=0.05,\n",
    "                max_depth=3,\n",
    "                random_state=42,\n",
    "                n_jobs=-1\n",
    "            )\n",
    "\n",
    "            model.fit(X_train, y_train)\n",
    "            y_pred = model.predict(X_val)\n",
    "\n",
    "            mae, rmse, nrmse, r2 = calcular_metricas(y_val, y_pred)\n",
    "            maes.append(mae)\n",
    "            rmses.append(rmse)\n",
    "            nrmses.append(nrmse)\n",
    "            r2s.append(r2)\n",
    "\n",
    "        with mlflow.start_run() as run:\n",
    "            # Salvar o modelo final com todos os dados\n",
    "            modelo_final = xgb.XGBRegressor(\n",
    "                n_estimators=100,\n",
    "                learning_rate=0.05,\n",
    "                max_depth=3,\n",
    "                random_state=42,\n",
    "                n_jobs=-1\n",
    "            )\n",
    "\n",
    "            modelo_final.fit(X, y)\n",
    "\n",
    "            mae = np.mean(maes)\n",
    "            rmse = np.mean(rmses)\n",
    "            nrmse = np.mean(nrmses)\n",
    "            r2 = np.mean(r2s)\n",
    "\n",
    "            # Log no MLflow\n",
    "            mlflow.log_params({\n",
    "                  'n_estimators': 100\n",
    "                , 'learning_rate': 0.05\n",
    "                , 'max_depth': 3\n",
    "                , 'random_state': 42\n",
    "                , 'n_jobs': -1\n",
    "            })\n",
    "\n",
    "            mlflow.log_metrics({\n",
    "                  'mae': mae\n",
    "                , 'rmse': rmse\n",
    "                , 'nrmse': nrmse\n",
    "                , 'r2': r2\n",
    "            })\n",
    "\n",
    "            # Inferir a assinatura do modelo\n",
    "            signature = infer_signature(X, y)\n",
    "\n",
    "            # Log do modelo com registro direto\n",
    "            mlflow.sklearn.log_model(\n",
    "                sk_model=model,\n",
    "                artifact_path=\"model\",\n",
    "                signature=signature,\n",
    "                input_example=X[:5],  # usar amostra pequena\n",
    "                registered_model_name=model_name\n",
    "            )\n",
    "\n",
    "        resultados.append({\n",
    "            'cluster': cluster,\n",
    "            'region': region,\n",
    "            'mae': np.mean(maes),\n",
    "            'rmse': np.mean(rmses),\n",
    "            'nrmse': np.mean(nrmses),\n",
    "            'r2': np.mean(r2s)\n",
    "        })\n",
    "\n",
    "    return pd.DataFrame(resultados)\n"
   ]
  },
  {
   "cell_type": "code",
   "execution_count": 4,
   "id": "ce8fd4ce",
   "metadata": {
    "execution": {
     "iopub.execute_input": "2025-07-30T16:39:26.257748Z",
     "iopub.status.busy": "2025-07-30T16:39:26.257748Z",
     "iopub.status.idle": "2025-07-30T16:40:08.807644Z",
     "shell.execute_reply": "2025-07-30T16:40:08.807644Z"
    }
   },
   "outputs": [
    {
     "name": "stderr",
     "output_type": "stream",
     "text": [
      "2025/07/30 13:39:26 INFO mlflow.tracking.fluent: Experiment with name 'previsao_cliente_Leste_0' does not exist. Creating a new experiment.\n"
     ]
    },
    {
     "name": "stdout",
     "output_type": "stream",
     "text": [
      "\n",
      "Treinando modelo para Cluster 0 - Região Leste\n"
     ]
    },
    {
     "name": "stderr",
     "output_type": "stream",
     "text": [
      "C:\\Users\\JoaoGuelfi\\OneDrive - Analytics2Go\\Documentos\\teste_consumo\\consumo_energetico\\venv\\Lib\\site-packages\\mlflow\\types\\utils.py:452: UserWarning: Hint: Inferred schema contains integer column(s). Integer columns in Python cannot represent missing values. If your input data contains missing values at inference time, it will be encoded as floats and will cause a schema enforcement error. The best way to avoid this problem is to infer the model schema based on a realistic data sample (training dataset) that includes missing values. Alternatively, you can declare integer columns as doubles (float64) whenever these columns may have missing values. See `Handling Integers With Missing Values <https://www.mlflow.org/docs/latest/models.html#handling-integers-with-missing-values>`_ for more details.\n",
      "  warnings.warn(\n",
      "2025/07/30 13:39:27 WARNING mlflow.models.model: `artifact_path` is deprecated. Please use `name` instead.\n"
     ]
    },
    {
     "name": "stderr",
     "output_type": "stream",
     "text": [
      "Successfully registered model 'previsao_cliente_Leste_0'.\n",
      "2025/07/30 13:39:31 INFO mlflow.store.model_registry.abstract_store: Waiting up to 300 seconds for model version to finish creation. Model name: previsao_cliente_Leste_0, version 1\n"
     ]
    },
    {
     "name": "stderr",
     "output_type": "stream",
     "text": [
      "Created version '1' of model 'previsao_cliente_Leste_0'.\n"
     ]
    },
    {
     "name": "stderr",
     "output_type": "stream",
     "text": [
      "2025/07/30 13:39:32 INFO mlflow.tracking.fluent: Experiment with name 'previsao_cliente_Norte_0' does not exist. Creating a new experiment.\n"
     ]
    },
    {
     "name": "stdout",
     "output_type": "stream",
     "text": [
      "🏃 View run shivering-robin-649 at: http://127.0.0.1:8080/#/experiments/129153900224731881/runs/f9024ece413848e78c1eff6d1382fba5\n",
      "🧪 View experiment at: http://127.0.0.1:8080/#/experiments/129153900224731881\n",
      "\n",
      "Treinando modelo para Cluster 0 - Região Norte\n"
     ]
    },
    {
     "name": "stderr",
     "output_type": "stream",
     "text": [
      "C:\\Users\\JoaoGuelfi\\OneDrive - Analytics2Go\\Documentos\\teste_consumo\\consumo_energetico\\venv\\Lib\\site-packages\\mlflow\\types\\utils.py:452: UserWarning: Hint: Inferred schema contains integer column(s). Integer columns in Python cannot represent missing values. If your input data contains missing values at inference time, it will be encoded as floats and will cause a schema enforcement error. The best way to avoid this problem is to infer the model schema based on a realistic data sample (training dataset) that includes missing values. Alternatively, you can declare integer columns as doubles (float64) whenever these columns may have missing values. See `Handling Integers With Missing Values <https://www.mlflow.org/docs/latest/models.html#handling-integers-with-missing-values>`_ for more details.\n",
      "  warnings.warn(\n",
      "2025/07/30 13:39:33 WARNING mlflow.models.model: `artifact_path` is deprecated. Please use `name` instead.\n"
     ]
    },
    {
     "name": "stderr",
     "output_type": "stream",
     "text": [
      "Successfully registered model 'previsao_cliente_Norte_0'.\n",
      "2025/07/30 13:39:36 INFO mlflow.store.model_registry.abstract_store: Waiting up to 300 seconds for model version to finish creation. Model name: previsao_cliente_Norte_0, version 1\n"
     ]
    },
    {
     "name": "stderr",
     "output_type": "stream",
     "text": [
      "Created version '1' of model 'previsao_cliente_Norte_0'.\n"
     ]
    },
    {
     "name": "stderr",
     "output_type": "stream",
     "text": [
      "2025/07/30 13:39:36 INFO mlflow.tracking.fluent: Experiment with name 'previsao_cliente_Centro_1' does not exist. Creating a new experiment.\n"
     ]
    },
    {
     "name": "stdout",
     "output_type": "stream",
     "text": [
      "🏃 View run nosy-carp-386 at: http://127.0.0.1:8080/#/experiments/959656413999781364/runs/00534c2a4a734783ae3f402452db42f4\n",
      "🧪 View experiment at: http://127.0.0.1:8080/#/experiments/959656413999781364\n",
      "\n",
      "Treinando modelo para Cluster 1 - Região Centro\n"
     ]
    },
    {
     "name": "stderr",
     "output_type": "stream",
     "text": [
      "C:\\Users\\JoaoGuelfi\\OneDrive - Analytics2Go\\Documentos\\teste_consumo\\consumo_energetico\\venv\\Lib\\site-packages\\mlflow\\types\\utils.py:452: UserWarning: Hint: Inferred schema contains integer column(s). Integer columns in Python cannot represent missing values. If your input data contains missing values at inference time, it will be encoded as floats and will cause a schema enforcement error. The best way to avoid this problem is to infer the model schema based on a realistic data sample (training dataset) that includes missing values. Alternatively, you can declare integer columns as doubles (float64) whenever these columns may have missing values. See `Handling Integers With Missing Values <https://www.mlflow.org/docs/latest/models.html#handling-integers-with-missing-values>`_ for more details.\n",
      "  warnings.warn(\n",
      "2025/07/30 13:39:37 WARNING mlflow.models.model: `artifact_path` is deprecated. Please use `name` instead.\n"
     ]
    },
    {
     "name": "stderr",
     "output_type": "stream",
     "text": [
      "Successfully registered model 'previsao_cliente_Centro_1'.\n",
      "2025/07/30 13:39:41 INFO mlflow.store.model_registry.abstract_store: Waiting up to 300 seconds for model version to finish creation. Model name: previsao_cliente_Centro_1, version 1\n"
     ]
    },
    {
     "name": "stderr",
     "output_type": "stream",
     "text": [
      "Created version '1' of model 'previsao_cliente_Centro_1'.\n"
     ]
    },
    {
     "name": "stderr",
     "output_type": "stream",
     "text": [
      "2025/07/30 13:39:41 INFO mlflow.tracking.fluent: Experiment with name 'previsao_cliente_Oeste_1' does not exist. Creating a new experiment.\n"
     ]
    },
    {
     "name": "stdout",
     "output_type": "stream",
     "text": [
      "🏃 View run persistent-horse-416 at: http://127.0.0.1:8080/#/experiments/395457158260064073/runs/e9bba81c8b104a7989ef98dd8d9cf851\n",
      "🧪 View experiment at: http://127.0.0.1:8080/#/experiments/395457158260064073\n",
      "\n",
      "Treinando modelo para Cluster 1 - Região Oeste\n"
     ]
    },
    {
     "name": "stderr",
     "output_type": "stream",
     "text": [
      "C:\\Users\\JoaoGuelfi\\OneDrive - Analytics2Go\\Documentos\\teste_consumo\\consumo_energetico\\venv\\Lib\\site-packages\\mlflow\\types\\utils.py:452: UserWarning: Hint: Inferred schema contains integer column(s). Integer columns in Python cannot represent missing values. If your input data contains missing values at inference time, it will be encoded as floats and will cause a schema enforcement error. The best way to avoid this problem is to infer the model schema based on a realistic data sample (training dataset) that includes missing values. Alternatively, you can declare integer columns as doubles (float64) whenever these columns may have missing values. See `Handling Integers With Missing Values <https://www.mlflow.org/docs/latest/models.html#handling-integers-with-missing-values>`_ for more details.\n",
      "  warnings.warn(\n",
      "2025/07/30 13:39:42 WARNING mlflow.models.model: `artifact_path` is deprecated. Please use `name` instead.\n"
     ]
    },
    {
     "name": "stderr",
     "output_type": "stream",
     "text": [
      "Successfully registered model 'previsao_cliente_Oeste_1'.\n",
      "2025/07/30 13:39:45 INFO mlflow.store.model_registry.abstract_store: Waiting up to 300 seconds for model version to finish creation. Model name: previsao_cliente_Oeste_1, version 1\n"
     ]
    },
    {
     "name": "stderr",
     "output_type": "stream",
     "text": [
      "Created version '1' of model 'previsao_cliente_Oeste_1'.\n"
     ]
    },
    {
     "name": "stderr",
     "output_type": "stream",
     "text": [
      "2025/07/30 13:39:45 INFO mlflow.tracking.fluent: Experiment with name 'previsao_cliente_Leste_2' does not exist. Creating a new experiment.\n"
     ]
    },
    {
     "name": "stdout",
     "output_type": "stream",
     "text": [
      "🏃 View run caring-hog-344 at: http://127.0.0.1:8080/#/experiments/265871612882140850/runs/4b0be97a40c74a38bc9ee5079e3aeb5a\n",
      "🧪 View experiment at: http://127.0.0.1:8080/#/experiments/265871612882140850\n",
      "\n",
      "Treinando modelo para Cluster 2 - Região Leste\n"
     ]
    },
    {
     "name": "stderr",
     "output_type": "stream",
     "text": [
      "C:\\Users\\JoaoGuelfi\\OneDrive - Analytics2Go\\Documentos\\teste_consumo\\consumo_energetico\\venv\\Lib\\site-packages\\mlflow\\types\\utils.py:452: UserWarning: Hint: Inferred schema contains integer column(s). Integer columns in Python cannot represent missing values. If your input data contains missing values at inference time, it will be encoded as floats and will cause a schema enforcement error. The best way to avoid this problem is to infer the model schema based on a realistic data sample (training dataset) that includes missing values. Alternatively, you can declare integer columns as doubles (float64) whenever these columns may have missing values. See `Handling Integers With Missing Values <https://www.mlflow.org/docs/latest/models.html#handling-integers-with-missing-values>`_ for more details.\n",
      "  warnings.warn(\n",
      "2025/07/30 13:39:46 WARNING mlflow.models.model: `artifact_path` is deprecated. Please use `name` instead.\n"
     ]
    },
    {
     "name": "stderr",
     "output_type": "stream",
     "text": [
      "Successfully registered model 'previsao_cliente_Leste_2'.\n",
      "2025/07/30 13:39:50 INFO mlflow.store.model_registry.abstract_store: Waiting up to 300 seconds for model version to finish creation. Model name: previsao_cliente_Leste_2, version 1\n"
     ]
    },
    {
     "name": "stderr",
     "output_type": "stream",
     "text": [
      "Created version '1' of model 'previsao_cliente_Leste_2'.\n"
     ]
    },
    {
     "name": "stderr",
     "output_type": "stream",
     "text": [
      "2025/07/30 13:39:50 INFO mlflow.tracking.fluent: Experiment with name 'previsao_cliente_Norte_2' does not exist. Creating a new experiment.\n"
     ]
    },
    {
     "name": "stdout",
     "output_type": "stream",
     "text": [
      "🏃 View run legendary-seal-262 at: http://127.0.0.1:8080/#/experiments/316847630448806260/runs/5a02844cf6994664b2254975163c9697\n",
      "🧪 View experiment at: http://127.0.0.1:8080/#/experiments/316847630448806260\n",
      "\n",
      "Treinando modelo para Cluster 2 - Região Norte\n"
     ]
    },
    {
     "name": "stderr",
     "output_type": "stream",
     "text": [
      "C:\\Users\\JoaoGuelfi\\OneDrive - Analytics2Go\\Documentos\\teste_consumo\\consumo_energetico\\venv\\Lib\\site-packages\\mlflow\\types\\utils.py:452: UserWarning: Hint: Inferred schema contains integer column(s). Integer columns in Python cannot represent missing values. If your input data contains missing values at inference time, it will be encoded as floats and will cause a schema enforcement error. The best way to avoid this problem is to infer the model schema based on a realistic data sample (training dataset) that includes missing values. Alternatively, you can declare integer columns as doubles (float64) whenever these columns may have missing values. See `Handling Integers With Missing Values <https://www.mlflow.org/docs/latest/models.html#handling-integers-with-missing-values>`_ for more details.\n",
      "  warnings.warn(\n",
      "2025/07/30 13:39:51 WARNING mlflow.models.model: `artifact_path` is deprecated. Please use `name` instead.\n"
     ]
    },
    {
     "name": "stderr",
     "output_type": "stream",
     "text": [
      "Successfully registered model 'previsao_cliente_Norte_2'.\n",
      "2025/07/30 13:39:54 INFO mlflow.store.model_registry.abstract_store: Waiting up to 300 seconds for model version to finish creation. Model name: previsao_cliente_Norte_2, version 1\n"
     ]
    },
    {
     "name": "stderr",
     "output_type": "stream",
     "text": [
      "Created version '1' of model 'previsao_cliente_Norte_2'.\n"
     ]
    },
    {
     "name": "stderr",
     "output_type": "stream",
     "text": [
      "2025/07/30 13:39:54 INFO mlflow.tracking.fluent: Experiment with name 'previsao_cliente_Sul_3' does not exist. Creating a new experiment.\n"
     ]
    },
    {
     "name": "stdout",
     "output_type": "stream",
     "text": [
      "🏃 View run persistent-cod-473 at: http://127.0.0.1:8080/#/experiments/727146017675202939/runs/d52f0b9e5907412c87d538eca0691a11\n",
      "🧪 View experiment at: http://127.0.0.1:8080/#/experiments/727146017675202939\n",
      "\n",
      "Treinando modelo para Cluster 3 - Região Sul\n"
     ]
    },
    {
     "name": "stderr",
     "output_type": "stream",
     "text": [
      "C:\\Users\\JoaoGuelfi\\OneDrive - Analytics2Go\\Documentos\\teste_consumo\\consumo_energetico\\venv\\Lib\\site-packages\\mlflow\\types\\utils.py:452: UserWarning: Hint: Inferred schema contains integer column(s). Integer columns in Python cannot represent missing values. If your input data contains missing values at inference time, it will be encoded as floats and will cause a schema enforcement error. The best way to avoid this problem is to infer the model schema based on a realistic data sample (training dataset) that includes missing values. Alternatively, you can declare integer columns as doubles (float64) whenever these columns may have missing values. See `Handling Integers With Missing Values <https://www.mlflow.org/docs/latest/models.html#handling-integers-with-missing-values>`_ for more details.\n",
      "  warnings.warn(\n",
      "2025/07/30 13:39:56 WARNING mlflow.models.model: `artifact_path` is deprecated. Please use `name` instead.\n"
     ]
    },
    {
     "name": "stderr",
     "output_type": "stream",
     "text": [
      "Successfully registered model 'previsao_cliente_Sul_3'.\n",
      "2025/07/30 13:39:59 INFO mlflow.store.model_registry.abstract_store: Waiting up to 300 seconds for model version to finish creation. Model name: previsao_cliente_Sul_3, version 1\n"
     ]
    },
    {
     "name": "stderr",
     "output_type": "stream",
     "text": [
      "Created version '1' of model 'previsao_cliente_Sul_3'.\n"
     ]
    },
    {
     "name": "stderr",
     "output_type": "stream",
     "text": [
      "2025/07/30 13:39:59 INFO mlflow.tracking.fluent: Experiment with name 'previsao_cliente_Centro_4' does not exist. Creating a new experiment.\n"
     ]
    },
    {
     "name": "stdout",
     "output_type": "stream",
     "text": [
      "🏃 View run treasured-chimp-85 at: http://127.0.0.1:8080/#/experiments/734325788788891594/runs/f1d4e9c9a0f843e18db6bc33d1e214bf\n",
      "🧪 View experiment at: http://127.0.0.1:8080/#/experiments/734325788788891594\n",
      "\n",
      "Treinando modelo para Cluster 4 - Região Centro\n"
     ]
    },
    {
     "name": "stderr",
     "output_type": "stream",
     "text": [
      "C:\\Users\\JoaoGuelfi\\OneDrive - Analytics2Go\\Documentos\\teste_consumo\\consumo_energetico\\venv\\Lib\\site-packages\\mlflow\\types\\utils.py:452: UserWarning: Hint: Inferred schema contains integer column(s). Integer columns in Python cannot represent missing values. If your input data contains missing values at inference time, it will be encoded as floats and will cause a schema enforcement error. The best way to avoid this problem is to infer the model schema based on a realistic data sample (training dataset) that includes missing values. Alternatively, you can declare integer columns as doubles (float64) whenever these columns may have missing values. See `Handling Integers With Missing Values <https://www.mlflow.org/docs/latest/models.html#handling-integers-with-missing-values>`_ for more details.\n",
      "  warnings.warn(\n",
      "2025/07/30 13:40:00 WARNING mlflow.models.model: `artifact_path` is deprecated. Please use `name` instead.\n"
     ]
    },
    {
     "name": "stderr",
     "output_type": "stream",
     "text": [
      "Successfully registered model 'previsao_cliente_Centro_4'.\n",
      "2025/07/30 13:40:04 INFO mlflow.store.model_registry.abstract_store: Waiting up to 300 seconds for model version to finish creation. Model name: previsao_cliente_Centro_4, version 1\n"
     ]
    },
    {
     "name": "stderr",
     "output_type": "stream",
     "text": [
      "Created version '1' of model 'previsao_cliente_Centro_4'.\n"
     ]
    },
    {
     "name": "stderr",
     "output_type": "stream",
     "text": [
      "2025/07/30 13:40:04 INFO mlflow.tracking.fluent: Experiment with name 'previsao_cliente_Oeste_4' does not exist. Creating a new experiment.\n"
     ]
    },
    {
     "name": "stdout",
     "output_type": "stream",
     "text": [
      "🏃 View run victorious-shrew-192 at: http://127.0.0.1:8080/#/experiments/255249810038885859/runs/c51fa6ae5f4945ce8ac182d7cd6c5644\n",
      "🧪 View experiment at: http://127.0.0.1:8080/#/experiments/255249810038885859\n",
      "\n",
      "Treinando modelo para Cluster 4 - Região Oeste\n"
     ]
    },
    {
     "name": "stderr",
     "output_type": "stream",
     "text": [
      "C:\\Users\\JoaoGuelfi\\OneDrive - Analytics2Go\\Documentos\\teste_consumo\\consumo_energetico\\venv\\Lib\\site-packages\\mlflow\\types\\utils.py:452: UserWarning: Hint: Inferred schema contains integer column(s). Integer columns in Python cannot represent missing values. If your input data contains missing values at inference time, it will be encoded as floats and will cause a schema enforcement error. The best way to avoid this problem is to infer the model schema based on a realistic data sample (training dataset) that includes missing values. Alternatively, you can declare integer columns as doubles (float64) whenever these columns may have missing values. See `Handling Integers With Missing Values <https://www.mlflow.org/docs/latest/models.html#handling-integers-with-missing-values>`_ for more details.\n",
      "  warnings.warn(\n",
      "2025/07/30 13:40:05 WARNING mlflow.models.model: `artifact_path` is deprecated. Please use `name` instead.\n"
     ]
    },
    {
     "name": "stderr",
     "output_type": "stream",
     "text": [
      "Successfully registered model 'previsao_cliente_Oeste_4'.\n",
      "2025/07/30 13:40:08 INFO mlflow.store.model_registry.abstract_store: Waiting up to 300 seconds for model version to finish creation. Model name: previsao_cliente_Oeste_4, version 1\n"
     ]
    },
    {
     "name": "stderr",
     "output_type": "stream",
     "text": [
      "Created version '1' of model 'previsao_cliente_Oeste_4'.\n"
     ]
    },
    {
     "name": "stdout",
     "output_type": "stream",
     "text": [
      "🏃 View run upbeat-rat-498 at: http://127.0.0.1:8080/#/experiments/469050175248156224/runs/8313b7dfa372473e86a506bb491da073\n",
      "🧪 View experiment at: http://127.0.0.1:8080/#/experiments/469050175248156224\n",
      "   cluster  region       mae      rmse     nrmse        r2\n",
      "4        2   Leste  1.861938  2.313929  0.127730  0.117633\n",
      "3        1   Oeste  1.875786  2.331130  0.128934 -0.045105\n",
      "2        1  Centro  1.933846  2.381785  0.136966  0.003101\n",
      "5        2   Norte  1.931608  2.411411  0.141453  0.150073\n",
      "6        3     Sul  1.929341  2.424028  0.165003  0.571880\n",
      "7        4  Centro  1.858881  2.342252  0.179350  0.244100\n",
      "8        4   Oeste  1.896679  2.409500  0.183050  0.273973\n",
      "0        0   Leste  1.885971  2.347685  0.199208  0.277638\n",
      "1        0   Norte  1.858294  2.321190  0.199500  0.255714\n"
     ]
    }
   ],
   "source": [
    "# Excluir colunas que não são features\n",
    "features = [col for col in df.columns if col not in ['client_id', 'date', 'consumption_kwh', 'cluster', 'region','humidity','temperature']]\n",
    "\n",
    "# Treinar modelos\n",
    "resultados = treinar_modelos_xgb_por_grupo_cv(df, features)\n",
    "\n",
    "# Exibir resultados\n",
    "print(resultados.sort_values(by='nrmse'))\n"
   ]
  },
  {
   "cell_type": "code",
   "execution_count": 5,
   "id": "be2be9a8",
   "metadata": {
    "execution": {
     "iopub.execute_input": "2025-07-30T16:40:08.807644Z",
     "iopub.status.busy": "2025-07-30T16:40:08.807644Z",
     "iopub.status.idle": "2025-07-30T16:40:08.821749Z",
     "shell.execute_reply": "2025-07-30T16:40:08.821749Z"
    }
   },
   "outputs": [
    {
     "data": {
      "text/plain": [
       "<duckdb.duckdb.DuckDBPyConnection at 0x26113b75a70>"
      ]
     },
     "execution_count": 5,
     "metadata": {},
     "output_type": "execute_result"
    }
   ],
   "source": [
    "con.execute(\"\"\"\n",
    "CREATE TABLE IF NOT EXISTS output.previsao_consumo_metricas (\n",
    "    cluster INTEGER,\n",
    "    region VARCHAR,\n",
    "    mae DOUBLE,\n",
    "    rmse DOUBLE,\n",
    "    nrmse DOUBLE,\n",
    "    r2 DOUBLE,\n",
    ")\n",
    "\"\"\")"
   ]
  },
  {
   "cell_type": "code",
   "execution_count": 6,
   "id": "6c94cdd4",
   "metadata": {
    "execution": {
     "iopub.execute_input": "2025-07-30T16:40:08.823756Z",
     "iopub.status.busy": "2025-07-30T16:40:08.823756Z",
     "iopub.status.idle": "2025-07-30T16:40:08.830817Z",
     "shell.execute_reply": "2025-07-30T16:40:08.830817Z"
    }
   },
   "outputs": [
    {
     "data": {
      "text/plain": [
       "<duckdb.duckdb.DuckDBPyConnection at 0x26113b75a70>"
      ]
     },
     "execution_count": 6,
     "metadata": {},
     "output_type": "execute_result"
    }
   ],
   "source": [
    "# Limpa dados se as tabelas já existirem\n",
    "con.execute(\"DELETE FROM output.previsao_consumo_metricas\")"
   ]
  },
  {
   "cell_type": "code",
   "execution_count": 7,
   "id": "b8ad2243",
   "metadata": {
    "execution": {
     "iopub.execute_input": "2025-07-30T16:40:08.832827Z",
     "iopub.status.busy": "2025-07-30T16:40:08.832827Z",
     "iopub.status.idle": "2025-07-30T16:40:08.840104Z",
     "shell.execute_reply": "2025-07-30T16:40:08.840104Z"
    }
   },
   "outputs": [
    {
     "data": {
      "text/plain": [
       "<duckdb.duckdb.DuckDBPyConnection at 0x26113b75a70>"
      ]
     },
     "execution_count": 7,
     "metadata": {},
     "output_type": "execute_result"
    }
   ],
   "source": [
    "# Registra como tabelas temporárias\n",
    "con.register(\"resultados\", resultados)"
   ]
  },
  {
   "cell_type": "code",
   "execution_count": 8,
   "id": "0c68545d",
   "metadata": {
    "execution": {
     "iopub.execute_input": "2025-07-30T16:40:08.842108Z",
     "iopub.status.busy": "2025-07-30T16:40:08.842108Z",
     "iopub.status.idle": "2025-07-30T16:40:08.851435Z",
     "shell.execute_reply": "2025-07-30T16:40:08.851435Z"
    }
   },
   "outputs": [
    {
     "data": {
      "text/plain": [
       "<duckdb.duckdb.DuckDBPyConnection at 0x26113b75a70>"
      ]
     },
     "execution_count": 8,
     "metadata": {},
     "output_type": "execute_result"
    }
   ],
   "source": [
    "# Insere os dados nas tabelas gold\n",
    "con.execute(\"INSERT INTO output.previsao_consumo_metricas SELECT * FROM resultados\")"
   ]
  },
  {
   "cell_type": "code",
   "execution_count": 9,
   "id": "2da71aeb",
   "metadata": {
    "execution": {
     "iopub.execute_input": "2025-07-30T16:40:08.855476Z",
     "iopub.status.busy": "2025-07-30T16:40:08.855476Z",
     "iopub.status.idle": "2025-07-30T16:40:08.880930Z",
     "shell.execute_reply": "2025-07-30T16:40:08.880930Z"
    }
   },
   "outputs": [],
   "source": [
    "con.close()"
   ]
  },
  {
   "cell_type": "code",
   "execution_count": null,
   "id": "1a8cb6e2",
   "metadata": {},
   "outputs": [],
   "source": []
  }
 ],
 "metadata": {
  "kernelspec": {
   "display_name": "venv (3.11.9)",
   "language": "python",
   "name": "python3"
  },
  "language_info": {
   "codemirror_mode": {
    "name": "ipython",
    "version": 3
   },
   "file_extension": ".py",
   "mimetype": "text/x-python",
   "name": "python",
   "nbconvert_exporter": "python",
   "pygments_lexer": "ipython3",
   "version": "3.11.9"
  }
 },
 "nbformat": 4,
 "nbformat_minor": 5
}
