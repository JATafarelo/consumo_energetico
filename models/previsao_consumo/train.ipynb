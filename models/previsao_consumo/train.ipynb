{
 "cells": [
  {
   "cell_type": "code",
   "execution_count": 1,
   "id": "dc8ae76c",
   "metadata": {
    "execution": {
     "iopub.execute_input": "2025-07-29T23:55:28.256400Z",
     "iopub.status.busy": "2025-07-29T23:55:28.256400Z",
     "iopub.status.idle": "2025-07-29T23:55:33.356814Z",
     "shell.execute_reply": "2025-07-29T23:55:33.356814Z"
    }
   },
   "outputs": [],
   "source": [
    "import pandas as pd\n",
    "import numpy as np\n",
    "import duckdb\n",
    "\n",
    "from sklearn.linear_model import LinearRegression\n",
    "\n",
    "import xgboost as xgb\n",
    "from sklearn.model_selection import TimeSeriesSplit\n",
    "from sklearn.metrics import mean_absolute_error, root_mean_squared_error, r2_score\n",
    "\n",
    "import mlflow\n",
    "from mlflow.models import infer_signature"
   ]
  },
  {
   "cell_type": "code",
   "execution_count": null,
   "id": "c69cd239",
   "metadata": {
    "execution": {
     "iopub.execute_input": "2025-07-29T23:55:33.358846Z",
     "iopub.status.busy": "2025-07-29T23:55:33.358846Z",
     "iopub.status.idle": "2025-07-29T23:55:33.441037Z",
     "shell.execute_reply": "2025-07-29T23:55:33.441037Z"
    }
   },
   "outputs": [],
   "source": [
    "# Caminho do banco\n",
    "db_path = \"../../data/duckdb/database.duckdb\"\n",
    "\n",
    "# Conexão com o banco DuckDB\n",
    "con = duckdb.connect(db_path)\n",
    "\n",
    "# Define raiz do projeto (ajuste conforme seu ambiente)\n",
    "mlflow.set_tracking_uri(uri=\"http://127.0.0.1:8080\")\n",
    "\n",
    "\n",
    "# Carrega os dados da camada bronze\n",
    "df = con.execute(\"\"\"\n",
    "    SELECT * FROM feature.previsao_consumo\n",
    "\"\"\").df()"
   ]
  },
  {
   "cell_type": "markdown",
   "id": "5a730b2a",
   "metadata": {},
   "source": [
    "# Treinamento de Modelo"
   ]
  },
  {
   "cell_type": "code",
   "execution_count": 3,
   "id": "cd84b574",
   "metadata": {
    "execution": {
     "iopub.execute_input": "2025-07-29T23:55:33.446023Z",
     "iopub.status.busy": "2025-07-29T23:55:33.446023Z",
     "iopub.status.idle": "2025-07-29T23:55:33.463361Z",
     "shell.execute_reply": "2025-07-29T23:55:33.463361Z"
    }
   },
   "outputs": [],
   "source": [
    "def calcular_metricas(y_true, y_pred):\n",
    "    mae = mean_absolute_error(y_true, y_pred)\n",
    "    rmse = root_mean_squared_error(y_true, y_pred)\n",
    "    nrmse = rmse / np.mean(y_true)\n",
    "    r2 = r2_score(y_true, y_pred)\n",
    "    return mae, rmse, nrmse, r2\n",
    "\n",
    "def treinar_modelos_xgb_por_grupo_cv(df, features):\n",
    "    df = df.copy()\n",
    "    df['date'] = pd.to_datetime(df['date'])\n",
    "    df.set_index('date', inplace=True)\n",
    "\n",
    "    resultados = []\n",
    "\n",
    "    grupos = df.groupby(['cluster', 'region'])\n",
    "\n",
    "    for (cluster, region), grupo_df in grupos:\n",
    "        print(f\"\\nTreinando modelo para Cluster {cluster} - Região {region}\")\n",
    "\n",
    "        # Define experimento\n",
    "        mlflow.set_experiment(f\"clusterizacao_cliente_{region}_{cluster}\")\n",
    "        model_name = f\"clusterizacao_cliente_{region}_{cluster}\"\n",
    "\n",
    "        X = grupo_df[features]\n",
    "        y = grupo_df['consumption_kwh']\n",
    "        tscv = TimeSeriesSplit(n_splits=5)\n",
    "\n",
    "        maes, rmses, nrmses, r2s = [], [], [], []\n",
    "\n",
    "        for fold, (train_idx, val_idx) in enumerate(tscv.split(X)):\n",
    "            X_train, X_val = X.iloc[train_idx], X.iloc[val_idx]\n",
    "            y_train, y_val = y.iloc[train_idx], y.iloc[val_idx]\n",
    "\n",
    "            model = xgb.XGBRegressor(\n",
    "                n_estimators=100,\n",
    "                learning_rate=0.05,\n",
    "                max_depth=3,\n",
    "                random_state=42,\n",
    "                n_jobs=-1\n",
    "            )\n",
    "\n",
    "            model.fit(X_train, y_train)\n",
    "            y_pred = model.predict(X_val)\n",
    "\n",
    "            mae, rmse, nrmse, r2 = calcular_metricas(y_val, y_pred)\n",
    "            maes.append(mae)\n",
    "            rmses.append(rmse)\n",
    "            nrmses.append(nrmse)\n",
    "            r2s.append(r2)\n",
    "\n",
    "        with mlflow.start_run() as run:\n",
    "            # Salvar o modelo final com todos os dados\n",
    "            modelo_final = xgb.XGBRegressor(\n",
    "                n_estimators=100,\n",
    "                learning_rate=0.05,\n",
    "                max_depth=3,\n",
    "                random_state=42,\n",
    "                n_jobs=-1\n",
    "            )\n",
    "\n",
    "            modelo_final.fit(X, y)\n",
    "\n",
    "            mae = np.mean(maes)\n",
    "            rmse = np.mean(rmses)\n",
    "            nrmse = np.mean(nrmses)\n",
    "            r2 = np.mean(r2s)\n",
    "\n",
    "            # Log no MLflow\n",
    "            mlflow.log_params({\n",
    "                  'n_estimators': 100\n",
    "                , 'learning_rate': 0.05\n",
    "                , 'max_depth': 3\n",
    "                , 'random_state': 42\n",
    "                , 'n_jobs': -1\n",
    "            })\n",
    "\n",
    "            mlflow.log_metrics({\n",
    "                  'mae': mae\n",
    "                , 'rmse': rmse\n",
    "                , 'nrmse': nrmse\n",
    "                , 'r2': r2\n",
    "            })\n",
    "\n",
    "            # Inferir a assinatura do modelo\n",
    "            signature = infer_signature(X, y)\n",
    "\n",
    "            # Log do modelo com registro direto\n",
    "            mlflow.sklearn.log_model(\n",
    "                sk_model=model,\n",
    "                artifact_path=\"model\",\n",
    "                signature=signature,\n",
    "                input_example=X[:5],  # usar amostra pequena\n",
    "                registered_model_name=model_name\n",
    "            )\n",
    "\n",
    "        resultados.append({\n",
    "            'cluster': cluster,\n",
    "            'region': region,\n",
    "            'mae': np.mean(maes),\n",
    "            'rmse': np.mean(rmses),\n",
    "            'nrmse': np.mean(nrmses),\n",
    "            'r2': np.mean(r2s)\n",
    "        })\n",
    "\n",
    "    return pd.DataFrame(resultados)\n"
   ]
  },
  {
   "cell_type": "code",
   "execution_count": 4,
   "id": "ce8fd4ce",
   "metadata": {
    "execution": {
     "iopub.execute_input": "2025-07-29T23:55:33.466130Z",
     "iopub.status.busy": "2025-07-29T23:55:33.466130Z",
     "iopub.status.idle": "2025-07-29T23:56:54.234898Z",
     "shell.execute_reply": "2025-07-29T23:56:54.234898Z"
    }
   },
   "outputs": [
    {
     "name": "stdout",
     "output_type": "stream",
     "text": [
      "\n",
      "Treinando modelo para Cluster 0 - Região Leste\n"
     ]
    },
    {
     "name": "stderr",
     "output_type": "stream",
     "text": [
      "C:\\Users\\JoaoGuelfi\\OneDrive - Analytics2Go\\Documentos\\consumo_energetico\\venv\\Lib\\site-packages\\mlflow\\types\\utils.py:452: UserWarning: Hint: Inferred schema contains integer column(s). Integer columns in Python cannot represent missing values. If your input data contains missing values at inference time, it will be encoded as floats and will cause a schema enforcement error. The best way to avoid this problem is to infer the model schema based on a realistic data sample (training dataset) that includes missing values. Alternatively, you can declare integer columns as doubles (float64) whenever these columns may have missing values. See `Handling Integers With Missing Values <https://www.mlflow.org/docs/latest/models.html#handling-integers-with-missing-values>`_ for more details.\n",
      "  warnings.warn(\n",
      "2025/07/29 20:55:35 WARNING mlflow.models.model: `artifact_path` is deprecated. Please use `name` instead.\n"
     ]
    },
    {
     "name": "stderr",
     "output_type": "stream",
     "text": [
      "Registered model 'clusterizacao_cliente_Leste_0' already exists. Creating a new version of this model...\n",
      "2025/07/29 20:55:44 INFO mlflow.store.model_registry.abstract_store: Waiting up to 300 seconds for model version to finish creation. Model name: clusterizacao_cliente_Leste_0, version 3\n"
     ]
    },
    {
     "name": "stderr",
     "output_type": "stream",
     "text": [
      "Created version '3' of model 'clusterizacao_cliente_Leste_0'.\n"
     ]
    },
    {
     "name": "stdout",
     "output_type": "stream",
     "text": [
      "🏃 View run wise-turtle-894 at: http://127.0.0.1:8080/#/experiments/403428675149349317/runs/fb89a7eba53a4304a448e6439cd515a2\n",
      "🧪 View experiment at: http://127.0.0.1:8080/#/experiments/403428675149349317\n",
      "\n",
      "Treinando modelo para Cluster 0 - Região Norte\n"
     ]
    },
    {
     "name": "stderr",
     "output_type": "stream",
     "text": [
      "C:\\Users\\JoaoGuelfi\\OneDrive - Analytics2Go\\Documentos\\consumo_energetico\\venv\\Lib\\site-packages\\mlflow\\types\\utils.py:452: UserWarning: Hint: Inferred schema contains integer column(s). Integer columns in Python cannot represent missing values. If your input data contains missing values at inference time, it will be encoded as floats and will cause a schema enforcement error. The best way to avoid this problem is to infer the model schema based on a realistic data sample (training dataset) that includes missing values. Alternatively, you can declare integer columns as doubles (float64) whenever these columns may have missing values. See `Handling Integers With Missing Values <https://www.mlflow.org/docs/latest/models.html#handling-integers-with-missing-values>`_ for more details.\n",
      "  warnings.warn(\n",
      "2025/07/29 20:55:45 WARNING mlflow.models.model: `artifact_path` is deprecated. Please use `name` instead.\n"
     ]
    },
    {
     "name": "stderr",
     "output_type": "stream",
     "text": [
      "Registered model 'clusterizacao_cliente_Norte_0' already exists. Creating a new version of this model...\n",
      "2025/07/29 20:55:53 INFO mlflow.store.model_registry.abstract_store: Waiting up to 300 seconds for model version to finish creation. Model name: clusterizacao_cliente_Norte_0, version 3\n"
     ]
    },
    {
     "name": "stderr",
     "output_type": "stream",
     "text": [
      "Created version '3' of model 'clusterizacao_cliente_Norte_0'.\n"
     ]
    },
    {
     "name": "stdout",
     "output_type": "stream",
     "text": [
      "🏃 View run whimsical-doe-403 at: http://127.0.0.1:8080/#/experiments/915273099384433581/runs/06ff5db2af6d4c5195dbd78495dc59d8\n",
      "🧪 View experiment at: http://127.0.0.1:8080/#/experiments/915273099384433581\n",
      "\n",
      "Treinando modelo para Cluster 1 - Região Centro\n"
     ]
    },
    {
     "name": "stderr",
     "output_type": "stream",
     "text": [
      "C:\\Users\\JoaoGuelfi\\OneDrive - Analytics2Go\\Documentos\\consumo_energetico\\venv\\Lib\\site-packages\\mlflow\\types\\utils.py:452: UserWarning: Hint: Inferred schema contains integer column(s). Integer columns in Python cannot represent missing values. If your input data contains missing values at inference time, it will be encoded as floats and will cause a schema enforcement error. The best way to avoid this problem is to infer the model schema based on a realistic data sample (training dataset) that includes missing values. Alternatively, you can declare integer columns as doubles (float64) whenever these columns may have missing values. See `Handling Integers With Missing Values <https://www.mlflow.org/docs/latest/models.html#handling-integers-with-missing-values>`_ for more details.\n",
      "  warnings.warn(\n",
      "2025/07/29 20:55:54 WARNING mlflow.models.model: `artifact_path` is deprecated. Please use `name` instead.\n"
     ]
    },
    {
     "name": "stderr",
     "output_type": "stream",
     "text": [
      "Registered model 'clusterizacao_cliente_Centro_1' already exists. Creating a new version of this model...\n",
      "2025/07/29 20:56:01 INFO mlflow.store.model_registry.abstract_store: Waiting up to 300 seconds for model version to finish creation. Model name: clusterizacao_cliente_Centro_1, version 3\n"
     ]
    },
    {
     "name": "stderr",
     "output_type": "stream",
     "text": [
      "Created version '3' of model 'clusterizacao_cliente_Centro_1'.\n"
     ]
    },
    {
     "name": "stdout",
     "output_type": "stream",
     "text": [
      "🏃 View run fortunate-shrew-141 at: http://127.0.0.1:8080/#/experiments/300217457269050798/runs/281e20bcc8c2487bbd4a3740fa82affd\n",
      "🧪 View experiment at: http://127.0.0.1:8080/#/experiments/300217457269050798\n",
      "\n",
      "Treinando modelo para Cluster 1 - Região Oeste\n"
     ]
    },
    {
     "name": "stderr",
     "output_type": "stream",
     "text": [
      "C:\\Users\\JoaoGuelfi\\OneDrive - Analytics2Go\\Documentos\\consumo_energetico\\venv\\Lib\\site-packages\\mlflow\\types\\utils.py:452: UserWarning: Hint: Inferred schema contains integer column(s). Integer columns in Python cannot represent missing values. If your input data contains missing values at inference time, it will be encoded as floats and will cause a schema enforcement error. The best way to avoid this problem is to infer the model schema based on a realistic data sample (training dataset) that includes missing values. Alternatively, you can declare integer columns as doubles (float64) whenever these columns may have missing values. See `Handling Integers With Missing Values <https://www.mlflow.org/docs/latest/models.html#handling-integers-with-missing-values>`_ for more details.\n",
      "  warnings.warn(\n",
      "2025/07/29 20:56:03 WARNING mlflow.models.model: `artifact_path` is deprecated. Please use `name` instead.\n"
     ]
    },
    {
     "name": "stderr",
     "output_type": "stream",
     "text": [
      "Registered model 'clusterizacao_cliente_Oeste_1' already exists. Creating a new version of this model...\n",
      "2025/07/29 20:56:10 INFO mlflow.store.model_registry.abstract_store: Waiting up to 300 seconds for model version to finish creation. Model name: clusterizacao_cliente_Oeste_1, version 3\n"
     ]
    },
    {
     "name": "stderr",
     "output_type": "stream",
     "text": [
      "Created version '3' of model 'clusterizacao_cliente_Oeste_1'.\n"
     ]
    },
    {
     "name": "stdout",
     "output_type": "stream",
     "text": [
      "🏃 View run traveling-moth-426 at: http://127.0.0.1:8080/#/experiments/813322908940726570/runs/9793aa62e7894fa882a1f3a8ecc7d0c4\n",
      "🧪 View experiment at: http://127.0.0.1:8080/#/experiments/813322908940726570\n",
      "\n",
      "Treinando modelo para Cluster 2 - Região Leste\n"
     ]
    },
    {
     "name": "stderr",
     "output_type": "stream",
     "text": [
      "C:\\Users\\JoaoGuelfi\\OneDrive - Analytics2Go\\Documentos\\consumo_energetico\\venv\\Lib\\site-packages\\mlflow\\types\\utils.py:452: UserWarning: Hint: Inferred schema contains integer column(s). Integer columns in Python cannot represent missing values. If your input data contains missing values at inference time, it will be encoded as floats and will cause a schema enforcement error. The best way to avoid this problem is to infer the model schema based on a realistic data sample (training dataset) that includes missing values. Alternatively, you can declare integer columns as doubles (float64) whenever these columns may have missing values. See `Handling Integers With Missing Values <https://www.mlflow.org/docs/latest/models.html#handling-integers-with-missing-values>`_ for more details.\n",
      "  warnings.warn(\n",
      "2025/07/29 20:56:12 WARNING mlflow.models.model: `artifact_path` is deprecated. Please use `name` instead.\n"
     ]
    },
    {
     "name": "stderr",
     "output_type": "stream",
     "text": [
      "Registered model 'clusterizacao_cliente_Leste_2' already exists. Creating a new version of this model...\n",
      "2025/07/29 20:56:19 INFO mlflow.store.model_registry.abstract_store: Waiting up to 300 seconds for model version to finish creation. Model name: clusterizacao_cliente_Leste_2, version 3\n"
     ]
    },
    {
     "name": "stderr",
     "output_type": "stream",
     "text": [
      "Created version '3' of model 'clusterizacao_cliente_Leste_2'.\n"
     ]
    },
    {
     "name": "stdout",
     "output_type": "stream",
     "text": [
      "🏃 View run colorful-slug-736 at: http://127.0.0.1:8080/#/experiments/912641830259411455/runs/610bf7a38af94341942cf5a4858fe012\n",
      "🧪 View experiment at: http://127.0.0.1:8080/#/experiments/912641830259411455\n",
      "\n",
      "Treinando modelo para Cluster 2 - Região Norte\n"
     ]
    },
    {
     "name": "stderr",
     "output_type": "stream",
     "text": [
      "C:\\Users\\JoaoGuelfi\\OneDrive - Analytics2Go\\Documentos\\consumo_energetico\\venv\\Lib\\site-packages\\mlflow\\types\\utils.py:452: UserWarning: Hint: Inferred schema contains integer column(s). Integer columns in Python cannot represent missing values. If your input data contains missing values at inference time, it will be encoded as floats and will cause a schema enforcement error. The best way to avoid this problem is to infer the model schema based on a realistic data sample (training dataset) that includes missing values. Alternatively, you can declare integer columns as doubles (float64) whenever these columns may have missing values. See `Handling Integers With Missing Values <https://www.mlflow.org/docs/latest/models.html#handling-integers-with-missing-values>`_ for more details.\n",
      "  warnings.warn(\n",
      "2025/07/29 20:56:20 WARNING mlflow.models.model: `artifact_path` is deprecated. Please use `name` instead.\n"
     ]
    },
    {
     "name": "stderr",
     "output_type": "stream",
     "text": [
      "Registered model 'clusterizacao_cliente_Norte_2' already exists. Creating a new version of this model...\n",
      "2025/07/29 20:56:28 INFO mlflow.store.model_registry.abstract_store: Waiting up to 300 seconds for model version to finish creation. Model name: clusterizacao_cliente_Norte_2, version 3\n"
     ]
    },
    {
     "name": "stderr",
     "output_type": "stream",
     "text": [
      "Created version '3' of model 'clusterizacao_cliente_Norte_2'.\n"
     ]
    },
    {
     "name": "stdout",
     "output_type": "stream",
     "text": [
      "🏃 View run awesome-seal-257 at: http://127.0.0.1:8080/#/experiments/759063953876893680/runs/294ded3807d24d9e8e1f1772b68dfac4\n",
      "🧪 View experiment at: http://127.0.0.1:8080/#/experiments/759063953876893680\n",
      "\n",
      "Treinando modelo para Cluster 3 - Região Sul\n"
     ]
    },
    {
     "name": "stderr",
     "output_type": "stream",
     "text": [
      "C:\\Users\\JoaoGuelfi\\OneDrive - Analytics2Go\\Documentos\\consumo_energetico\\venv\\Lib\\site-packages\\mlflow\\types\\utils.py:452: UserWarning: Hint: Inferred schema contains integer column(s). Integer columns in Python cannot represent missing values. If your input data contains missing values at inference time, it will be encoded as floats and will cause a schema enforcement error. The best way to avoid this problem is to infer the model schema based on a realistic data sample (training dataset) that includes missing values. Alternatively, you can declare integer columns as doubles (float64) whenever these columns may have missing values. See `Handling Integers With Missing Values <https://www.mlflow.org/docs/latest/models.html#handling-integers-with-missing-values>`_ for more details.\n",
      "  warnings.warn(\n",
      "2025/07/29 20:56:29 WARNING mlflow.models.model: `artifact_path` is deprecated. Please use `name` instead.\n"
     ]
    },
    {
     "name": "stderr",
     "output_type": "stream",
     "text": [
      "Registered model 'clusterizacao_cliente_Sul_3' already exists. Creating a new version of this model...\n",
      "2025/07/29 20:56:36 INFO mlflow.store.model_registry.abstract_store: Waiting up to 300 seconds for model version to finish creation. Model name: clusterizacao_cliente_Sul_3, version 3\n"
     ]
    },
    {
     "name": "stderr",
     "output_type": "stream",
     "text": [
      "Created version '3' of model 'clusterizacao_cliente_Sul_3'.\n"
     ]
    },
    {
     "name": "stdout",
     "output_type": "stream",
     "text": [
      "🏃 View run angry-bug-403 at: http://127.0.0.1:8080/#/experiments/899589497225334334/runs/c2e49da122dd4f42af6e912cc002c03b\n",
      "🧪 View experiment at: http://127.0.0.1:8080/#/experiments/899589497225334334\n",
      "\n",
      "Treinando modelo para Cluster 4 - Região Centro\n"
     ]
    },
    {
     "name": "stderr",
     "output_type": "stream",
     "text": [
      "C:\\Users\\JoaoGuelfi\\OneDrive - Analytics2Go\\Documentos\\consumo_energetico\\venv\\Lib\\site-packages\\mlflow\\types\\utils.py:452: UserWarning: Hint: Inferred schema contains integer column(s). Integer columns in Python cannot represent missing values. If your input data contains missing values at inference time, it will be encoded as floats and will cause a schema enforcement error. The best way to avoid this problem is to infer the model schema based on a realistic data sample (training dataset) that includes missing values. Alternatively, you can declare integer columns as doubles (float64) whenever these columns may have missing values. See `Handling Integers With Missing Values <https://www.mlflow.org/docs/latest/models.html#handling-integers-with-missing-values>`_ for more details.\n",
      "  warnings.warn(\n",
      "2025/07/29 20:56:38 WARNING mlflow.models.model: `artifact_path` is deprecated. Please use `name` instead.\n"
     ]
    },
    {
     "name": "stderr",
     "output_type": "stream",
     "text": [
      "Registered model 'clusterizacao_cliente_Centro_4' already exists. Creating a new version of this model...\n",
      "2025/07/29 20:56:45 INFO mlflow.store.model_registry.abstract_store: Waiting up to 300 seconds for model version to finish creation. Model name: clusterizacao_cliente_Centro_4, version 3\n"
     ]
    },
    {
     "name": "stderr",
     "output_type": "stream",
     "text": [
      "Created version '3' of model 'clusterizacao_cliente_Centro_4'.\n"
     ]
    },
    {
     "name": "stdout",
     "output_type": "stream",
     "text": [
      "🏃 View run likeable-shrike-723 at: http://127.0.0.1:8080/#/experiments/756877896251165727/runs/e22d32b82c3940d7b601671eb517b6c8\n",
      "🧪 View experiment at: http://127.0.0.1:8080/#/experiments/756877896251165727\n",
      "\n",
      "Treinando modelo para Cluster 4 - Região Oeste\n"
     ]
    },
    {
     "name": "stderr",
     "output_type": "stream",
     "text": [
      "C:\\Users\\JoaoGuelfi\\OneDrive - Analytics2Go\\Documentos\\consumo_energetico\\venv\\Lib\\site-packages\\mlflow\\types\\utils.py:452: UserWarning: Hint: Inferred schema contains integer column(s). Integer columns in Python cannot represent missing values. If your input data contains missing values at inference time, it will be encoded as floats and will cause a schema enforcement error. The best way to avoid this problem is to infer the model schema based on a realistic data sample (training dataset) that includes missing values. Alternatively, you can declare integer columns as doubles (float64) whenever these columns may have missing values. See `Handling Integers With Missing Values <https://www.mlflow.org/docs/latest/models.html#handling-integers-with-missing-values>`_ for more details.\n",
      "  warnings.warn(\n",
      "2025/07/29 20:56:46 WARNING mlflow.models.model: `artifact_path` is deprecated. Please use `name` instead.\n"
     ]
    },
    {
     "name": "stderr",
     "output_type": "stream",
     "text": [
      "Registered model 'clusterizacao_cliente_Oeste_4' already exists. Creating a new version of this model...\n",
      "2025/07/29 20:56:54 INFO mlflow.store.model_registry.abstract_store: Waiting up to 300 seconds for model version to finish creation. Model name: clusterizacao_cliente_Oeste_4, version 3\n"
     ]
    },
    {
     "name": "stderr",
     "output_type": "stream",
     "text": [
      "Created version '3' of model 'clusterizacao_cliente_Oeste_4'.\n"
     ]
    },
    {
     "name": "stdout",
     "output_type": "stream",
     "text": [
      "🏃 View run indecisive-shoat-544 at: http://127.0.0.1:8080/#/experiments/227549993923931794/runs/68156dda1e1a44258509f1931dcb52bf\n",
      "🧪 View experiment at: http://127.0.0.1:8080/#/experiments/227549993923931794\n",
      "   cluster  region       mae      rmse     nrmse        r2\n",
      "4        2   Leste  1.861938  2.313929  0.127730  0.117633\n",
      "3        1   Oeste  1.875786  2.331130  0.128934 -0.045105\n",
      "2        1  Centro  1.933846  2.381785  0.136966  0.003101\n",
      "5        2   Norte  1.931608  2.411411  0.141453  0.150073\n",
      "6        3     Sul  1.929341  2.424028  0.165003  0.571880\n",
      "7        4  Centro  1.858881  2.342252  0.179350  0.244100\n",
      "8        4   Oeste  1.896679  2.409500  0.183050  0.273973\n",
      "0        0   Leste  1.885971  2.347685  0.199208  0.277638\n",
      "1        0   Norte  1.858294  2.321190  0.199500  0.255714\n"
     ]
    }
   ],
   "source": [
    "# Excluir colunas que não são features\n",
    "features = [col for col in df.columns if col not in ['client_id', 'date', 'consumption_kwh', 'cluster', 'region','humidity','temperature']]\n",
    "\n",
    "# Treinar modelos\n",
    "resultados = treinar_modelos_xgb_por_grupo_cv(df, features)\n",
    "\n",
    "# Exibir resultados\n",
    "print(resultados.sort_values(by='nrmse'))\n"
   ]
  },
  {
   "cell_type": "code",
   "execution_count": null,
   "id": "be2be9a8",
   "metadata": {},
   "outputs": [],
   "source": []
  }
 ],
 "metadata": {
  "kernelspec": {
   "display_name": "venv (3.11.9)",
   "language": "python",
   "name": "python3"
  },
  "language_info": {
   "codemirror_mode": {
    "name": "ipython",
    "version": 3
   },
   "file_extension": ".py",
   "mimetype": "text/x-python",
   "name": "python",
   "nbconvert_exporter": "python",
   "pygments_lexer": "ipython3",
   "version": "3.11.9"
  }
 },
 "nbformat": 4,
 "nbformat_minor": 5
}
