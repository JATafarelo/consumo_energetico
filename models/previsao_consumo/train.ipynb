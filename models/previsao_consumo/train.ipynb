{
 "cells": [
  {
   "cell_type": "code",
   "execution_count": 1,
   "id": "dc8ae76c",
   "metadata": {
    "execution": {
     "iopub.execute_input": "2025-07-29T23:55:28.256400Z",
     "iopub.status.busy": "2025-07-29T23:55:28.256400Z",
     "iopub.status.idle": "2025-07-29T23:55:33.356814Z",
     "shell.execute_reply": "2025-07-29T23:55:33.356814Z"
    }
   },
   "outputs": [],
   "source": [
    "import pandas as pd\n",
    "import numpy as np\n",
    "import duckdb\n",
    "\n",
    "from sklearn.linear_model import LinearRegression\n",
    "\n",
    "import xgboost as xgb\n",
    "from sklearn.model_selection import TimeSeriesSplit\n",
    "from sklearn.metrics import mean_absolute_error, root_mean_squared_error, r2_score\n",
    "\n",
    "import mlflow\n",
    "from mlflow.models import infer_signature"
   ]
  },
  {
   "cell_type": "code",
   "execution_count": 2,
   "id": "c69cd239",
   "metadata": {
    "execution": {
     "iopub.execute_input": "2025-07-29T23:55:33.358846Z",
     "iopub.status.busy": "2025-07-29T23:55:33.358846Z",
     "iopub.status.idle": "2025-07-29T23:55:33.441037Z",
     "shell.execute_reply": "2025-07-29T23:55:33.441037Z"
    }
   },
   "outputs": [],
   "source": [
    "# Caminho do banco\n",
    "db_path = \"../../data/duckdb/database.duckdb\"\n",
    "\n",
    "# Conexão com o banco DuckDB\n",
    "con = duckdb.connect(db_path)\n",
    "\n",
    "# Define raiz do projeto (ajuste conforme seu ambiente)\n",
    "mlflow.set_tracking_uri(uri=\"http://127.0.0.1:8080\")\n",
    "\n",
    "\n",
    "# Carrega os dados da camada bronze\n",
    "df = con.execute(\"\"\"\n",
    "    SELECT * FROM feature.previsao_consumo\n",
    "\"\"\").df()"
   ]
  },
  {
   "cell_type": "markdown",
   "id": "5a730b2a",
   "metadata": {},
   "source": [
    "# Treinamento de Modelo"
   ]
  },
  {
   "cell_type": "code",
   "execution_count": 3,
   "id": "cd84b574",
   "metadata": {
    "execution": {
     "iopub.execute_input": "2025-07-29T23:55:33.446023Z",
     "iopub.status.busy": "2025-07-29T23:55:33.446023Z",
     "iopub.status.idle": "2025-07-29T23:55:33.463361Z",
     "shell.execute_reply": "2025-07-29T23:55:33.463361Z"
    }
   },
   "outputs": [],
   "source": [
    "def calcular_metricas(y_true, y_pred):\n",
    "    mae = mean_absolute_error(y_true, y_pred)\n",
    "    rmse = root_mean_squared_error(y_true, y_pred)\n",
    "    nrmse = rmse / np.mean(y_true)\n",
    "    r2 = r2_score(y_true, y_pred)\n",
    "    return mae, rmse, nrmse, r2\n",
    "\n",
    "def treinar_modelos_xgb_por_grupo_cv(df, features):\n",
    "    df = df.copy()\n",
    "    df['date'] = pd.to_datetime(df['date'])\n",
    "    df.set_index('date', inplace=True)\n",
    "\n",
    "    resultados = []\n",
    "\n",
    "    grupos = df.groupby(['cluster', 'region'])\n",
    "\n",
    "    for (cluster, region), grupo_df in grupos:\n",
    "        print(f\"\\nTreinando modelo para Cluster {cluster} - Região {region}\")\n",
    "\n",
    "        # Define experimento\n",
    "        mlflow.set_experiment(f\"previsao_cliente_{region}_{cluster}\")\n",
    "        model_name = f\"previsao_cliente_{region}_{cluster}\"\n",
    "\n",
    "        X = grupo_df[features]\n",
    "        y = grupo_df['consumption_kwh']\n",
    "        tscv = TimeSeriesSplit(n_splits=5)\n",
    "\n",
    "        maes, rmses, nrmses, r2s = [], [], [], []\n",
    "\n",
    "        for fold, (train_idx, val_idx) in enumerate(tscv.split(X)):\n",
    "            X_train, X_val = X.iloc[train_idx], X.iloc[val_idx]\n",
    "            y_train, y_val = y.iloc[train_idx], y.iloc[val_idx]\n",
    "\n",
    "            model = xgb.XGBRegressor(\n",
    "                n_estimators=100,\n",
    "                learning_rate=0.05,\n",
    "                max_depth=3,\n",
    "                random_state=42,\n",
    "                n_jobs=-1\n",
    "            )\n",
    "\n",
    "            model.fit(X_train, y_train)\n",
    "            y_pred = model.predict(X_val)\n",
    "\n",
    "            mae, rmse, nrmse, r2 = calcular_metricas(y_val, y_pred)\n",
    "            maes.append(mae)\n",
    "            rmses.append(rmse)\n",
    "            nrmses.append(nrmse)\n",
    "            r2s.append(r2)\n",
    "\n",
    "        with mlflow.start_run() as run:\n",
    "            # Salvar o modelo final com todos os dados\n",
    "            modelo_final = xgb.XGBRegressor(\n",
    "                n_estimators=100,\n",
    "                learning_rate=0.05,\n",
    "                max_depth=3,\n",
    "                random_state=42,\n",
    "                n_jobs=-1\n",
    "            )\n",
    "\n",
    "            modelo_final.fit(X, y)\n",
    "\n",
    "            mae = np.mean(maes)\n",
    "            rmse = np.mean(rmses)\n",
    "            nrmse = np.mean(nrmses)\n",
    "            r2 = np.mean(r2s)\n",
    "\n",
    "            # Log no MLflow\n",
    "            mlflow.log_params({\n",
    "                  'n_estimators': 100\n",
    "                , 'learning_rate': 0.05\n",
    "                , 'max_depth': 3\n",
    "                , 'random_state': 42\n",
    "                , 'n_jobs': -1\n",
    "            })\n",
    "\n",
    "            mlflow.log_metrics({\n",
    "                  'mae': mae\n",
    "                , 'rmse': rmse\n",
    "                , 'nrmse': nrmse\n",
    "                , 'r2': r2\n",
    "            })\n",
    "\n",
    "            # Inferir a assinatura do modelo\n",
    "            signature = infer_signature(X, y)\n",
    "\n",
    "            # Log do modelo com registro direto\n",
    "            mlflow.sklearn.log_model(\n",
    "                sk_model=model,\n",
    "                artifact_path=\"model\",\n",
    "                signature=signature,\n",
    "                input_example=X[:5],  # usar amostra pequena\n",
    "                registered_model_name=model_name\n",
    "            )\n",
    "\n",
    "        resultados.append({\n",
    "            'cluster': cluster,\n",
    "            'region': region,\n",
    "            'mae': np.mean(maes),\n",
    "            'rmse': np.mean(rmses),\n",
    "            'nrmse': np.mean(nrmses),\n",
    "            'r2': np.mean(r2s)\n",
    "        })\n",
    "\n",
    "    return pd.DataFrame(resultados)\n"
   ]
  },
  {
   "cell_type": "code",
   "execution_count": 4,
   "id": "ce8fd4ce",
   "metadata": {
    "execution": {
     "iopub.execute_input": "2025-07-29T23:55:33.466130Z",
     "iopub.status.busy": "2025-07-29T23:55:33.466130Z",
     "iopub.status.idle": "2025-07-29T23:56:54.234898Z",
     "shell.execute_reply": "2025-07-29T23:56:54.234898Z"
    }
   },
   "outputs": [
    {
     "name": "stderr",
     "output_type": "stream",
     "text": [
      "2025/07/29 23:41:56 INFO mlflow.tracking.fluent: Experiment with name 'previsao_cliente_Leste_0' does not exist. Creating a new experiment.\n"
     ]
    },
    {
     "name": "stdout",
     "output_type": "stream",
     "text": [
      "\n",
      "Treinando modelo para Cluster 0 - Região Leste\n"
     ]
    },
    {
     "name": "stderr",
     "output_type": "stream",
     "text": [
      "c:\\Users\\JoaoGuelfi\\OneDrive - Analytics2Go\\Documentos\\consumo_energetico\\venv\\Lib\\site-packages\\mlflow\\types\\utils.py:452: UserWarning: Hint: Inferred schema contains integer column(s). Integer columns in Python cannot represent missing values. If your input data contains missing values at inference time, it will be encoded as floats and will cause a schema enforcement error. The best way to avoid this problem is to infer the model schema based on a realistic data sample (training dataset) that includes missing values. Alternatively, you can declare integer columns as doubles (float64) whenever these columns may have missing values. See `Handling Integers With Missing Values <https://www.mlflow.org/docs/latest/models.html#handling-integers-with-missing-values>`_ for more details.\n",
      "  warnings.warn(\n",
      "2025/07/29 23:41:59 WARNING mlflow.models.model: `artifact_path` is deprecated. Please use `name` instead.\n",
      "Successfully registered model 'previsao_cliente_Leste_0'.\n",
      "2025/07/29 23:42:07 INFO mlflow.store.model_registry.abstract_store: Waiting up to 300 seconds for model version to finish creation. Model name: previsao_cliente_Leste_0, version 1\n",
      "Created version '1' of model 'previsao_cliente_Leste_0'.\n",
      "2025/07/29 23:42:07 INFO mlflow.tracking.fluent: Experiment with name 'previsao_cliente_Norte_0' does not exist. Creating a new experiment.\n"
     ]
    },
    {
     "name": "stdout",
     "output_type": "stream",
     "text": [
      "🏃 View run bold-deer-305 at: http://127.0.0.1:8080/#/experiments/181723807580388407/runs/3fb12651ae4f40dbbdfbc8aecb65a22a\n",
      "🧪 View experiment at: http://127.0.0.1:8080/#/experiments/181723807580388407\n",
      "\n",
      "Treinando modelo para Cluster 0 - Região Norte\n"
     ]
    },
    {
     "name": "stderr",
     "output_type": "stream",
     "text": [
      "c:\\Users\\JoaoGuelfi\\OneDrive - Analytics2Go\\Documentos\\consumo_energetico\\venv\\Lib\\site-packages\\mlflow\\types\\utils.py:452: UserWarning: Hint: Inferred schema contains integer column(s). Integer columns in Python cannot represent missing values. If your input data contains missing values at inference time, it will be encoded as floats and will cause a schema enforcement error. The best way to avoid this problem is to infer the model schema based on a realistic data sample (training dataset) that includes missing values. Alternatively, you can declare integer columns as doubles (float64) whenever these columns may have missing values. See `Handling Integers With Missing Values <https://www.mlflow.org/docs/latest/models.html#handling-integers-with-missing-values>`_ for more details.\n",
      "  warnings.warn(\n",
      "2025/07/29 23:42:08 WARNING mlflow.models.model: `artifact_path` is deprecated. Please use `name` instead.\n",
      "Successfully registered model 'previsao_cliente_Norte_0'.\n",
      "2025/07/29 23:42:14 INFO mlflow.store.model_registry.abstract_store: Waiting up to 300 seconds for model version to finish creation. Model name: previsao_cliente_Norte_0, version 1\n",
      "Created version '1' of model 'previsao_cliente_Norte_0'.\n",
      "2025/07/29 23:42:14 INFO mlflow.tracking.fluent: Experiment with name 'previsao_cliente_Centro_1' does not exist. Creating a new experiment.\n"
     ]
    },
    {
     "name": "stdout",
     "output_type": "stream",
     "text": [
      "🏃 View run defiant-cat-286 at: http://127.0.0.1:8080/#/experiments/825935221266741500/runs/7aae730fd81a45928145aca7af05fd6c\n",
      "🧪 View experiment at: http://127.0.0.1:8080/#/experiments/825935221266741500\n",
      "\n",
      "Treinando modelo para Cluster 1 - Região Centro\n"
     ]
    },
    {
     "name": "stderr",
     "output_type": "stream",
     "text": [
      "c:\\Users\\JoaoGuelfi\\OneDrive - Analytics2Go\\Documentos\\consumo_energetico\\venv\\Lib\\site-packages\\mlflow\\types\\utils.py:452: UserWarning: Hint: Inferred schema contains integer column(s). Integer columns in Python cannot represent missing values. If your input data contains missing values at inference time, it will be encoded as floats and will cause a schema enforcement error. The best way to avoid this problem is to infer the model schema based on a realistic data sample (training dataset) that includes missing values. Alternatively, you can declare integer columns as doubles (float64) whenever these columns may have missing values. See `Handling Integers With Missing Values <https://www.mlflow.org/docs/latest/models.html#handling-integers-with-missing-values>`_ for more details.\n",
      "  warnings.warn(\n",
      "2025/07/29 23:42:15 WARNING mlflow.models.model: `artifact_path` is deprecated. Please use `name` instead.\n",
      "Successfully registered model 'previsao_cliente_Centro_1'.\n",
      "2025/07/29 23:42:21 INFO mlflow.store.model_registry.abstract_store: Waiting up to 300 seconds for model version to finish creation. Model name: previsao_cliente_Centro_1, version 1\n",
      "Created version '1' of model 'previsao_cliente_Centro_1'.\n",
      "2025/07/29 23:42:21 INFO mlflow.tracking.fluent: Experiment with name 'previsao_cliente_Oeste_1' does not exist. Creating a new experiment.\n"
     ]
    },
    {
     "name": "stdout",
     "output_type": "stream",
     "text": [
      "🏃 View run able-lark-34 at: http://127.0.0.1:8080/#/experiments/862157862662557369/runs/d16a62f80077412482529dccdab82709\n",
      "🧪 View experiment at: http://127.0.0.1:8080/#/experiments/862157862662557369\n",
      "\n",
      "Treinando modelo para Cluster 1 - Região Oeste\n"
     ]
    },
    {
     "name": "stderr",
     "output_type": "stream",
     "text": [
      "c:\\Users\\JoaoGuelfi\\OneDrive - Analytics2Go\\Documentos\\consumo_energetico\\venv\\Lib\\site-packages\\mlflow\\types\\utils.py:452: UserWarning: Hint: Inferred schema contains integer column(s). Integer columns in Python cannot represent missing values. If your input data contains missing values at inference time, it will be encoded as floats and will cause a schema enforcement error. The best way to avoid this problem is to infer the model schema based on a realistic data sample (training dataset) that includes missing values. Alternatively, you can declare integer columns as doubles (float64) whenever these columns may have missing values. See `Handling Integers With Missing Values <https://www.mlflow.org/docs/latest/models.html#handling-integers-with-missing-values>`_ for more details.\n",
      "  warnings.warn(\n",
      "2025/07/29 23:42:23 WARNING mlflow.models.model: `artifact_path` is deprecated. Please use `name` instead.\n",
      "Successfully registered model 'previsao_cliente_Oeste_1'.\n",
      "2025/07/29 23:42:28 INFO mlflow.store.model_registry.abstract_store: Waiting up to 300 seconds for model version to finish creation. Model name: previsao_cliente_Oeste_1, version 1\n",
      "Created version '1' of model 'previsao_cliente_Oeste_1'.\n",
      "2025/07/29 23:42:28 INFO mlflow.tracking.fluent: Experiment with name 'previsao_cliente_Leste_2' does not exist. Creating a new experiment.\n"
     ]
    },
    {
     "name": "stdout",
     "output_type": "stream",
     "text": [
      "🏃 View run redolent-shrimp-850 at: http://127.0.0.1:8080/#/experiments/648411782877859868/runs/a3c532098f534e9ca8c8046b58c670c2\n",
      "🧪 View experiment at: http://127.0.0.1:8080/#/experiments/648411782877859868\n",
      "\n",
      "Treinando modelo para Cluster 2 - Região Leste\n"
     ]
    },
    {
     "name": "stderr",
     "output_type": "stream",
     "text": [
      "c:\\Users\\JoaoGuelfi\\OneDrive - Analytics2Go\\Documentos\\consumo_energetico\\venv\\Lib\\site-packages\\mlflow\\types\\utils.py:452: UserWarning: Hint: Inferred schema contains integer column(s). Integer columns in Python cannot represent missing values. If your input data contains missing values at inference time, it will be encoded as floats and will cause a schema enforcement error. The best way to avoid this problem is to infer the model schema based on a realistic data sample (training dataset) that includes missing values. Alternatively, you can declare integer columns as doubles (float64) whenever these columns may have missing values. See `Handling Integers With Missing Values <https://www.mlflow.org/docs/latest/models.html#handling-integers-with-missing-values>`_ for more details.\n",
      "  warnings.warn(\n",
      "2025/07/29 23:42:30 WARNING mlflow.models.model: `artifact_path` is deprecated. Please use `name` instead.\n",
      "Successfully registered model 'previsao_cliente_Leste_2'.\n",
      "2025/07/29 23:42:35 INFO mlflow.store.model_registry.abstract_store: Waiting up to 300 seconds for model version to finish creation. Model name: previsao_cliente_Leste_2, version 1\n",
      "Created version '1' of model 'previsao_cliente_Leste_2'.\n",
      "2025/07/29 23:42:35 INFO mlflow.tracking.fluent: Experiment with name 'previsao_cliente_Norte_2' does not exist. Creating a new experiment.\n"
     ]
    },
    {
     "name": "stdout",
     "output_type": "stream",
     "text": [
      "🏃 View run nimble-ox-694 at: http://127.0.0.1:8080/#/experiments/116403162939354388/runs/27040fbcb0214ffd9814a13c8cbd71ad\n",
      "🧪 View experiment at: http://127.0.0.1:8080/#/experiments/116403162939354388\n",
      "\n",
      "Treinando modelo para Cluster 2 - Região Norte\n"
     ]
    },
    {
     "name": "stderr",
     "output_type": "stream",
     "text": [
      "c:\\Users\\JoaoGuelfi\\OneDrive - Analytics2Go\\Documentos\\consumo_energetico\\venv\\Lib\\site-packages\\mlflow\\types\\utils.py:452: UserWarning: Hint: Inferred schema contains integer column(s). Integer columns in Python cannot represent missing values. If your input data contains missing values at inference time, it will be encoded as floats and will cause a schema enforcement error. The best way to avoid this problem is to infer the model schema based on a realistic data sample (training dataset) that includes missing values. Alternatively, you can declare integer columns as doubles (float64) whenever these columns may have missing values. See `Handling Integers With Missing Values <https://www.mlflow.org/docs/latest/models.html#handling-integers-with-missing-values>`_ for more details.\n",
      "  warnings.warn(\n",
      "2025/07/29 23:42:37 WARNING mlflow.models.model: `artifact_path` is deprecated. Please use `name` instead.\n",
      "Successfully registered model 'previsao_cliente_Norte_2'.\n",
      "2025/07/29 23:42:42 INFO mlflow.store.model_registry.abstract_store: Waiting up to 300 seconds for model version to finish creation. Model name: previsao_cliente_Norte_2, version 1\n",
      "Created version '1' of model 'previsao_cliente_Norte_2'.\n",
      "2025/07/29 23:42:42 INFO mlflow.tracking.fluent: Experiment with name 'previsao_cliente_Sul_3' does not exist. Creating a new experiment.\n"
     ]
    },
    {
     "name": "stdout",
     "output_type": "stream",
     "text": [
      "🏃 View run dazzling-gnat-753 at: http://127.0.0.1:8080/#/experiments/519968340848773227/runs/d8d709f20f554caeb1f98297a1948017\n",
      "🧪 View experiment at: http://127.0.0.1:8080/#/experiments/519968340848773227\n",
      "\n",
      "Treinando modelo para Cluster 3 - Região Sul\n"
     ]
    },
    {
     "name": "stderr",
     "output_type": "stream",
     "text": [
      "c:\\Users\\JoaoGuelfi\\OneDrive - Analytics2Go\\Documentos\\consumo_energetico\\venv\\Lib\\site-packages\\mlflow\\types\\utils.py:452: UserWarning: Hint: Inferred schema contains integer column(s). Integer columns in Python cannot represent missing values. If your input data contains missing values at inference time, it will be encoded as floats and will cause a schema enforcement error. The best way to avoid this problem is to infer the model schema based on a realistic data sample (training dataset) that includes missing values. Alternatively, you can declare integer columns as doubles (float64) whenever these columns may have missing values. See `Handling Integers With Missing Values <https://www.mlflow.org/docs/latest/models.html#handling-integers-with-missing-values>`_ for more details.\n",
      "  warnings.warn(\n",
      "2025/07/29 23:42:43 WARNING mlflow.models.model: `artifact_path` is deprecated. Please use `name` instead.\n",
      "Successfully registered model 'previsao_cliente_Sul_3'.\n",
      "2025/07/29 23:42:50 INFO mlflow.store.model_registry.abstract_store: Waiting up to 300 seconds for model version to finish creation. Model name: previsao_cliente_Sul_3, version 1\n",
      "Created version '1' of model 'previsao_cliente_Sul_3'.\n",
      "2025/07/29 23:42:50 INFO mlflow.tracking.fluent: Experiment with name 'previsao_cliente_Centro_4' does not exist. Creating a new experiment.\n"
     ]
    },
    {
     "name": "stdout",
     "output_type": "stream",
     "text": [
      "🏃 View run victorious-mouse-822 at: http://127.0.0.1:8080/#/experiments/165097559475770323/runs/56f083a28f804326afe387d361886b8b\n",
      "🧪 View experiment at: http://127.0.0.1:8080/#/experiments/165097559475770323\n",
      "\n",
      "Treinando modelo para Cluster 4 - Região Centro\n"
     ]
    },
    {
     "name": "stderr",
     "output_type": "stream",
     "text": [
      "c:\\Users\\JoaoGuelfi\\OneDrive - Analytics2Go\\Documentos\\consumo_energetico\\venv\\Lib\\site-packages\\mlflow\\types\\utils.py:452: UserWarning: Hint: Inferred schema contains integer column(s). Integer columns in Python cannot represent missing values. If your input data contains missing values at inference time, it will be encoded as floats and will cause a schema enforcement error. The best way to avoid this problem is to infer the model schema based on a realistic data sample (training dataset) that includes missing values. Alternatively, you can declare integer columns as doubles (float64) whenever these columns may have missing values. See `Handling Integers With Missing Values <https://www.mlflow.org/docs/latest/models.html#handling-integers-with-missing-values>`_ for more details.\n",
      "  warnings.warn(\n",
      "2025/07/29 23:42:51 WARNING mlflow.models.model: `artifact_path` is deprecated. Please use `name` instead.\n",
      "Successfully registered model 'previsao_cliente_Centro_4'.\n",
      "2025/07/29 23:42:58 INFO mlflow.store.model_registry.abstract_store: Waiting up to 300 seconds for model version to finish creation. Model name: previsao_cliente_Centro_4, version 1\n",
      "Created version '1' of model 'previsao_cliente_Centro_4'.\n",
      "2025/07/29 23:42:58 INFO mlflow.tracking.fluent: Experiment with name 'previsao_cliente_Oeste_4' does not exist. Creating a new experiment.\n"
     ]
    },
    {
     "name": "stdout",
     "output_type": "stream",
     "text": [
      "🏃 View run colorful-loon-526 at: http://127.0.0.1:8080/#/experiments/353735827113454424/runs/df9c193cc9cc4f37ac308bb02c868632\n",
      "🧪 View experiment at: http://127.0.0.1:8080/#/experiments/353735827113454424\n",
      "\n",
      "Treinando modelo para Cluster 4 - Região Oeste\n"
     ]
    },
    {
     "name": "stderr",
     "output_type": "stream",
     "text": [
      "c:\\Users\\JoaoGuelfi\\OneDrive - Analytics2Go\\Documentos\\consumo_energetico\\venv\\Lib\\site-packages\\mlflow\\types\\utils.py:452: UserWarning: Hint: Inferred schema contains integer column(s). Integer columns in Python cannot represent missing values. If your input data contains missing values at inference time, it will be encoded as floats and will cause a schema enforcement error. The best way to avoid this problem is to infer the model schema based on a realistic data sample (training dataset) that includes missing values. Alternatively, you can declare integer columns as doubles (float64) whenever these columns may have missing values. See `Handling Integers With Missing Values <https://www.mlflow.org/docs/latest/models.html#handling-integers-with-missing-values>`_ for more details.\n",
      "  warnings.warn(\n",
      "2025/07/29 23:42:59 WARNING mlflow.models.model: `artifact_path` is deprecated. Please use `name` instead.\n",
      "Successfully registered model 'previsao_cliente_Oeste_4'.\n",
      "2025/07/29 23:43:06 INFO mlflow.store.model_registry.abstract_store: Waiting up to 300 seconds for model version to finish creation. Model name: previsao_cliente_Oeste_4, version 1\n",
      "Created version '1' of model 'previsao_cliente_Oeste_4'.\n"
     ]
    },
    {
     "name": "stdout",
     "output_type": "stream",
     "text": [
      "🏃 View run bold-ram-623 at: http://127.0.0.1:8080/#/experiments/810257922335493444/runs/34f8719ada3d4300a0fb42d0f3519fee\n",
      "🧪 View experiment at: http://127.0.0.1:8080/#/experiments/810257922335493444\n",
      "   cluster  region       mae      rmse     nrmse        r2\n",
      "4        2   Leste  1.861938  2.313929  0.127730  0.117633\n",
      "3        1   Oeste  1.875786  2.331130  0.128934 -0.045105\n",
      "2        1  Centro  1.933846  2.381785  0.136966  0.003101\n",
      "5        2   Norte  1.931608  2.411411  0.141453  0.150073\n",
      "6        3     Sul  1.929341  2.424028  0.165003  0.571880\n",
      "7        4  Centro  1.858881  2.342252  0.179350  0.244100\n",
      "8        4   Oeste  1.896679  2.409500  0.183050  0.273973\n",
      "0        0   Leste  1.885971  2.347685  0.199208  0.277638\n",
      "1        0   Norte  1.858294  2.321190  0.199500  0.255714\n"
     ]
    }
   ],
   "source": [
    "# Excluir colunas que não são features\n",
    "features = [col for col in df.columns if col not in ['client_id', 'date', 'consumption_kwh', 'cluster', 'region','humidity','temperature']]\n",
    "\n",
    "# Treinar modelos\n",
    "resultados = treinar_modelos_xgb_por_grupo_cv(df, features)\n",
    "\n",
    "# Exibir resultados\n",
    "print(resultados.sort_values(by='nrmse'))\n"
   ]
  },
  {
   "cell_type": "code",
   "execution_count": 5,
   "id": "be2be9a8",
   "metadata": {},
   "outputs": [
    {
     "data": {
      "text/plain": [
       "<duckdb.duckdb.DuckDBPyConnection at 0x1c312653af0>"
      ]
     },
     "execution_count": 5,
     "metadata": {},
     "output_type": "execute_result"
    }
   ],
   "source": [
    "con.execute(\"\"\"\n",
    "CREATE TABLE IF NOT EXISTS output.previsao_consumo_metricas (\n",
    "    cluster INTEGER,\n",
    "    region VARCHAR,\n",
    "    mae DOUBLE,\n",
    "    rmse DOUBLE,\n",
    "    nrmse DOUBLE,\n",
    "    r2 DOUBLE,\n",
    ")\n",
    "\"\"\")"
   ]
  },
  {
   "cell_type": "code",
   "execution_count": 6,
   "id": "6c94cdd4",
   "metadata": {},
   "outputs": [
    {
     "data": {
      "text/plain": [
       "<duckdb.duckdb.DuckDBPyConnection at 0x1c312653af0>"
      ]
     },
     "execution_count": 6,
     "metadata": {},
     "output_type": "execute_result"
    }
   ],
   "source": [
    "# Limpa dados se as tabelas já existirem\n",
    "con.execute(\"DELETE FROM output.previsao_consumo_metricas\")"
   ]
  },
  {
   "cell_type": "code",
   "execution_count": 7,
   "id": "b8ad2243",
   "metadata": {},
   "outputs": [
    {
     "data": {
      "text/plain": [
       "<duckdb.duckdb.DuckDBPyConnection at 0x1c312653af0>"
      ]
     },
     "execution_count": 7,
     "metadata": {},
     "output_type": "execute_result"
    }
   ],
   "source": [
    "# Registra como tabelas temporárias\n",
    "con.register(\"resultados\", resultados)"
   ]
  },
  {
   "cell_type": "code",
   "execution_count": 8,
   "id": "0c68545d",
   "metadata": {},
   "outputs": [
    {
     "data": {
      "text/plain": [
       "<duckdb.duckdb.DuckDBPyConnection at 0x1c312653af0>"
      ]
     },
     "execution_count": 8,
     "metadata": {},
     "output_type": "execute_result"
    }
   ],
   "source": [
    "# Insere os dados nas tabelas gold\n",
    "con.execute(\"INSERT INTO output.previsao_consumo_metricas SELECT * FROM resultados\")"
   ]
  },
  {
   "cell_type": "code",
   "execution_count": 9,
   "id": "2da71aeb",
   "metadata": {},
   "outputs": [],
   "source": [
    "con.close()"
   ]
  },
  {
   "cell_type": "code",
   "execution_count": null,
   "id": "1a8cb6e2",
   "metadata": {},
   "outputs": [],
   "source": []
  }
 ],
 "metadata": {
  "kernelspec": {
   "display_name": "venv (3.11.9)",
   "language": "python",
   "name": "python3"
  },
  "language_info": {
   "codemirror_mode": {
    "name": "ipython",
    "version": 3
   },
   "file_extension": ".py",
   "mimetype": "text/x-python",
   "name": "python",
   "nbconvert_exporter": "python",
   "pygments_lexer": "ipython3",
   "version": "3.11.9"
  }
 },
 "nbformat": 4,
 "nbformat_minor": 5
}
