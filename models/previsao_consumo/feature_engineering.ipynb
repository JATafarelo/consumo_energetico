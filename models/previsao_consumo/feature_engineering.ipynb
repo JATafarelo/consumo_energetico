{
 "cells": [
  {
   "cell_type": "code",
   "execution_count": 1,
   "id": "dc8ae76c",
   "metadata": {
    "execution": {
     "iopub.execute_input": "2025-07-30T19:22:08.809526Z",
     "iopub.status.busy": "2025-07-30T19:22:08.809526Z",
     "iopub.status.idle": "2025-07-30T19:22:28.323543Z",
     "shell.execute_reply": "2025-07-30T19:22:28.323543Z"
    }
   },
   "outputs": [],
   "source": [
    "import pandas as pd\n",
    "import numpy as np\n",
    "import duckdb\n",
    "from sklearn.linear_model import LinearRegression"
   ]
  },
  {
   "cell_type": "code",
   "execution_count": 2,
   "id": "c69cd239",
   "metadata": {
    "execution": {
     "iopub.execute_input": "2025-07-30T19:22:28.323543Z",
     "iopub.status.busy": "2025-07-30T19:22:28.323543Z",
     "iopub.status.idle": "2025-07-30T19:22:28.379239Z",
     "shell.execute_reply": "2025-07-30T19:22:28.379239Z"
    }
   },
   "outputs": [],
   "source": [
    "# Caminho do banco\n",
    "db_path = \"../../data/duckdb/database.duckdb\"\n",
    "\n",
    "# Conexão com o banco DuckDB\n",
    "con = duckdb.connect(db_path)\n",
    "\n",
    "\n",
    "# Carrega os dados da camada bronze\n",
    "df = con.execute(\"\"\"\n",
    "    SELECT \n",
    "          CG.*\n",
    "        , CC.cluster\n",
    "                 \n",
    "    FROM gold.consumo_geral AS CG\n",
    "    \n",
    "    INNER JOIN output.clusterizacao_cliente AS CC ON\n",
    "        CG.client_id = CC.client_id\n",
    "\"\"\").df()"
   ]
  },
  {
   "cell_type": "markdown",
   "id": "18d3d1b8",
   "metadata": {},
   "source": [
    "# Feature Engineering"
   ]
  },
  {
   "cell_type": "code",
   "execution_count": 3,
   "id": "ec3175ba",
   "metadata": {
    "execution": {
     "iopub.execute_input": "2025-07-30T19:22:28.379239Z",
     "iopub.status.busy": "2025-07-30T19:22:28.379239Z",
     "iopub.status.idle": "2025-07-30T19:22:28.392365Z",
     "shell.execute_reply": "2025-07-30T19:22:28.392365Z"
    }
   },
   "outputs": [],
   "source": [
    "def gerar_lag_features(df: pd.DataFrame, coluna_alvo: str, num_lags: int) -> pd.DataFrame:\n",
    "    \"\"\"\n",
    "    Gera lag features para a coluna alvo em um DataFrame.\n",
    "\n",
    "    Parâmetros:\n",
    "    df (pd.DataFrame): DataFrame original.\n",
    "    coluna_alvo (str): Nome da coluna alvo para gerar os lags.\n",
    "    num_lags (int): Quantidade de lags a serem geradas (ex: 12 gera lag_1 até lag_12).\n",
    "\n",
    "    Retorna:\n",
    "    pd.DataFrame: DataFrame com as novas colunas de lag adicionadas.\n",
    "    \"\"\"\n",
    "    df_copy = df.copy()\n",
    "    for lag in range(1, num_lags + 1):\n",
    "        df_copy[f'{coluna_alvo}_lag_{lag}'] = df_copy[coluna_alvo].shift(lag)\n",
    "    return df_copy\n",
    "\n",
    "def criar_features_climaticas(df):\n",
    "    \"\"\"\n",
    "    Cria colunas de amplitude térmica, faixa de temperatura e faixa de umidade em um DataFrame.\n",
    "\n",
    "    Espera que o DataFrame tenha colunas:\n",
    "        - temperature_max\n",
    "        - temperature_min\n",
    "        - temperature\n",
    "        - humidity\n",
    "    \"\"\"\n",
    "    df = df.copy()\n",
    "\n",
    "    df['temperature_max'] = df['temperature'].max()\n",
    "    df['temperature_min'] = df['temperature'].min()\n",
    "\n",
    "    # Amplitude térmica\n",
    "    df['amplitude_termica'] = df['temperature_max'] - df['temperature_min']\n",
    "\n",
    "    # Faixa de temperatura média\n",
    "    def classificar_temp(temp):\n",
    "        if temp < 24.356250:\n",
    "            return 'baixa'\n",
    "        elif temp <= 25.813333:\n",
    "            return 'media'\n",
    "        else:\n",
    "            return 'alta'\n",
    "\n",
    "    df['faixa_temperatura'] = df['temperature'].apply(classificar_temp)\n",
    "\n",
    "    # Faixa de umidade\n",
    "    def classificar_umidade(h):\n",
    "        if h < 58.623529:\n",
    "            return 'baixa'\n",
    "        elif h <= 61.540625:\n",
    "            return 'media'\n",
    "        else:\n",
    "            return 'alta'\n",
    "\n",
    "    df['faixa_umidade'] = df['humidity'].apply(classificar_umidade)\n",
    "\n",
    "    return df\n",
    "\n",
    "def criar_features_clientes(df):\n",
    "    \"\"\"\n",
    "    Espera DataFrame com colunas: client_id, date (datetime) e consumption_kwh.\n",
    "    Retorna um novo DataFrame com client_id, variabilidade_consumo_cliente e tendencia_consumo_cliente.\n",
    "    \"\"\"\n",
    "    df = df.copy()\n",
    "    df['date_ordinal'] = df['date'].apply(lambda x: x.toordinal())  # Facilita a regressão linear\n",
    "    \n",
    "    resultados = []\n",
    "\n",
    "    for client, grupo in df.groupby('client_id'):\n",
    "        # Variabilidade do consumo\n",
    "        variabilidade = grupo['consumption_kwh'].std()\n",
    "\n",
    "        # Tendência (regressão linear)\n",
    "        if len(grupo) >= 2:\n",
    "            X = grupo[['date_ordinal']]\n",
    "            y = grupo['consumption_kwh']\n",
    "            modelo = LinearRegression().fit(X, y)\n",
    "            tendencia = modelo.coef_[0]  # Inclinação da reta\n",
    "        else:\n",
    "            tendencia = np.nan\n",
    "\n",
    "        resultados.append({\n",
    "            'client_id': client,\n",
    "            'variabilidade_consumo_cliente': variabilidade,\n",
    "            'tendencia_consumo_cliente': tendencia\n",
    "        })\n",
    "\n",
    "    return pd.DataFrame(resultados)\n"
   ]
  },
  {
   "cell_type": "code",
   "execution_count": 4,
   "id": "f4b80f8d",
   "metadata": {
    "execution": {
     "iopub.execute_input": "2025-07-30T19:22:28.392365Z",
     "iopub.status.busy": "2025-07-30T19:22:28.392365Z",
     "iopub.status.idle": "2025-07-30T19:22:28.572604Z",
     "shell.execute_reply": "2025-07-30T19:22:28.572604Z"
    }
   },
   "outputs": [],
   "source": [
    "df = criar_features_climaticas(df)\n",
    "\n",
    "# 1. Geração das features por cliente\n",
    "df_features_clientes = criar_features_clientes(df)\n",
    "\n",
    "# 2. Merge com o dataframe original de consumo\n",
    "df = df.merge(\n",
    "    df_features_clientes,\n",
    "    on='client_id',\n",
    "    how='left'\n",
    ")"
   ]
  },
  {
   "cell_type": "code",
   "execution_count": 5,
   "id": "0c20d70f",
   "metadata": {
    "execution": {
     "iopub.execute_input": "2025-07-30T19:22:28.576301Z",
     "iopub.status.busy": "2025-07-30T19:22:28.576301Z",
     "iopub.status.idle": "2025-07-30T19:22:28.594834Z",
     "shell.execute_reply": "2025-07-30T19:22:28.594834Z"
    }
   },
   "outputs": [],
   "source": [
    "faixa_temperatura = [f'temperatura_{temp}' for temp in df['faixa_temperatura'].unique().tolist()]\n",
    "\n",
    "# Codificação da variável categórica\n",
    "df = pd.get_dummies(df, columns=['faixa_temperatura'], prefix='temperatura', prefix_sep='_')\n",
    "\n",
    "df[faixa_temperatura] = df[faixa_temperatura].astype(int)\n",
    "\n",
    "faixa_umidade = [f'umidade_{temp}' for temp in df['faixa_umidade'].unique().tolist()]\n",
    "\n",
    "# Codificação da variável categórica\n",
    "df = pd.get_dummies(df, columns=['faixa_umidade'], prefix='umidade', prefix_sep='_')\n",
    "\n",
    "df[faixa_umidade] = df[faixa_umidade].astype(int)"
   ]
  },
  {
   "cell_type": "code",
   "execution_count": 6,
   "id": "39e46a62",
   "metadata": {
    "execution": {
     "iopub.execute_input": "2025-07-30T19:22:28.596341Z",
     "iopub.status.busy": "2025-07-30T19:22:28.596341Z",
     "iopub.status.idle": "2025-07-30T19:22:28.627732Z",
     "shell.execute_reply": "2025-07-30T19:22:28.626724Z"
    }
   },
   "outputs": [],
   "source": [
    "df = gerar_lag_features(df, 'temperature', 14)\n",
    "df = gerar_lag_features(df, 'humidity', 14)\n",
    "df = gerar_lag_features(df, 'consumption_kwh', 14)\n",
    "\n",
    "df = df.fillna(0)"
   ]
  },
  {
   "cell_type": "markdown",
   "id": "d1fd8e2e",
   "metadata": {},
   "source": [
    "# Salvar Features"
   ]
  },
  {
   "cell_type": "code",
   "execution_count": 7,
   "id": "210beecd",
   "metadata": {
    "execution": {
     "iopub.execute_input": "2025-07-30T19:22:28.627732Z",
     "iopub.status.busy": "2025-07-30T19:22:28.627732Z",
     "iopub.status.idle": "2025-07-30T19:22:28.637281Z",
     "shell.execute_reply": "2025-07-30T19:22:28.637281Z"
    }
   },
   "outputs": [],
   "source": [
    "def gerar_ddl_duckdb(df: pd.DataFrame, nome_tabela: str, schema: str = \"feature\") -> str:\n",
    "    \"\"\"\n",
    "    Gera uma string SQL para criar uma tabela no DuckDB com base em um DataFrame Pandas.\n",
    "\n",
    "    Parâmetros:\n",
    "        df (pd.DataFrame): DataFrame de entrada.\n",
    "        nome_tabela (str): Nome da tabela a ser criada.\n",
    "        schema (str): Nome do schema (default = \"feature\").\n",
    "\n",
    "    Retorna:\n",
    "        str: Comando CREATE OR REPLACE TABLE no formato DuckDB.\n",
    "    \"\"\"\n",
    "    tipo_duckdb = {\n",
    "        \"int64\": \"BIGINT\",\n",
    "        \"int32\": \"INTEGER\",\n",
    "        \"float64\": \"DOUBLE\",\n",
    "        \"float32\": \"FLOAT\",\n",
    "        \"object\": \"VARCHAR\",\n",
    "        \"bool\": \"BOOLEAN\",\n",
    "        \"datetime64[ns]\": \"TIMESTAMP\"\n",
    "    }\n",
    "\n",
    "    colunas_sql = []\n",
    "\n",
    "    for col in df.columns:\n",
    "        tipo_pandas = str(df[col].dtype)\n",
    "        tipo_sql = tipo_duckdb.get(tipo_pandas, \"VARCHAR\")  # default: VARCHAR\n",
    "        colunas_sql.append(f\"    {col} {tipo_sql}\")\n",
    "\n",
    "    colunas_str = \",\\n\".join(colunas_sql)\n",
    "\n",
    "    ddl = f\"\"\"CREATE OR REPLACE TABLE {schema}.{nome_tabela} (\\n{colunas_str}\\n);\"\"\"\n",
    "    return ddl\n"
   ]
  },
  {
   "cell_type": "code",
   "execution_count": 8,
   "id": "504180a2",
   "metadata": {
    "execution": {
     "iopub.execute_input": "2025-07-30T19:22:28.637281Z",
     "iopub.status.busy": "2025-07-30T19:22:28.637281Z",
     "iopub.status.idle": "2025-07-30T19:22:28.646853Z",
     "shell.execute_reply": "2025-07-30T19:22:28.646853Z"
    }
   },
   "outputs": [],
   "source": [
    "ddl_sql = gerar_ddl_duckdb(df, nome_tabela=\"previsao_consumo\", schema=\"feature\")"
   ]
  },
  {
   "cell_type": "code",
   "execution_count": 9,
   "id": "6c5f173e",
   "metadata": {
    "execution": {
     "iopub.execute_input": "2025-07-30T19:22:28.650748Z",
     "iopub.status.busy": "2025-07-30T19:22:28.650748Z",
     "iopub.status.idle": "2025-07-30T19:22:28.663892Z",
     "shell.execute_reply": "2025-07-30T19:22:28.663892Z"
    }
   },
   "outputs": [
    {
     "data": {
      "text/plain": [
       "<duckdb.duckdb.DuckDBPyConnection at 0x1f38eae8f70>"
      ]
     },
     "execution_count": 9,
     "metadata": {},
     "output_type": "execute_result"
    }
   ],
   "source": [
    "con.execute(ddl_sql)"
   ]
  },
  {
   "cell_type": "code",
   "execution_count": 10,
   "id": "be3574d3",
   "metadata": {
    "execution": {
     "iopub.execute_input": "2025-07-30T19:22:28.663892Z",
     "iopub.status.busy": "2025-07-30T19:22:28.663892Z",
     "iopub.status.idle": "2025-07-30T19:22:28.674655Z",
     "shell.execute_reply": "2025-07-30T19:22:28.674655Z"
    }
   },
   "outputs": [
    {
     "data": {
      "text/plain": [
       "<duckdb.duckdb.DuckDBPyConnection at 0x1f38eae8f70>"
      ]
     },
     "execution_count": 10,
     "metadata": {},
     "output_type": "execute_result"
    }
   ],
   "source": [
    "# Limpa dados se as tabelas já existirem\n",
    "con.execute(\"DELETE FROM feature.previsao_consumo\")"
   ]
  },
  {
   "cell_type": "code",
   "execution_count": 11,
   "id": "26fe2f13",
   "metadata": {
    "execution": {
     "iopub.execute_input": "2025-07-30T19:22:28.678594Z",
     "iopub.status.busy": "2025-07-30T19:22:28.675824Z",
     "iopub.status.idle": "2025-07-30T19:22:28.696149Z",
     "shell.execute_reply": "2025-07-30T19:22:28.695229Z"
    }
   },
   "outputs": [
    {
     "data": {
      "text/plain": [
       "<duckdb.duckdb.DuckDBPyConnection at 0x1f38eae8f70>"
      ]
     },
     "execution_count": 11,
     "metadata": {},
     "output_type": "execute_result"
    }
   ],
   "source": [
    "# Registra como tabelas temporárias\n",
    "con.register(\"df\", df)"
   ]
  },
  {
   "cell_type": "code",
   "execution_count": 12,
   "id": "acbf6b67",
   "metadata": {
    "execution": {
     "iopub.execute_input": "2025-07-30T19:22:28.696149Z",
     "iopub.status.busy": "2025-07-30T19:22:28.696149Z",
     "iopub.status.idle": "2025-07-30T19:22:28.762902Z",
     "shell.execute_reply": "2025-07-30T19:22:28.762902Z"
    }
   },
   "outputs": [
    {
     "data": {
      "text/plain": [
       "<duckdb.duckdb.DuckDBPyConnection at 0x1f38eae8f70>"
      ]
     },
     "execution_count": 12,
     "metadata": {},
     "output_type": "execute_result"
    }
   ],
   "source": [
    "# Insere os dados nas tabelas gold\n",
    "con.execute(\"INSERT INTO feature.previsao_consumo SELECT * FROM df\")"
   ]
  },
  {
   "cell_type": "code",
   "execution_count": 13,
   "id": "a4c00000",
   "metadata": {
    "execution": {
     "iopub.execute_input": "2025-07-30T19:22:28.762902Z",
     "iopub.status.busy": "2025-07-30T19:22:28.762902Z",
     "iopub.status.idle": "2025-07-30T19:22:28.832002Z",
     "shell.execute_reply": "2025-07-30T19:22:28.832002Z"
    }
   },
   "outputs": [],
   "source": [
    "con.close()"
   ]
  }
 ],
 "metadata": {
  "kernelspec": {
   "display_name": "venv (3.11.9)",
   "language": "python",
   "name": "python3"
  },
  "language_info": {
   "codemirror_mode": {
    "name": "ipython",
    "version": 3
   },
   "file_extension": ".py",
   "mimetype": "text/x-python",
   "name": "python",
   "nbconvert_exporter": "python",
   "pygments_lexer": "ipython3",
   "version": "3.11.9"
  }
 },
 "nbformat": 4,
 "nbformat_minor": 5
}
