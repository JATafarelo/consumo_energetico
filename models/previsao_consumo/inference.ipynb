{
 "cells": [
  {
   "cell_type": "code",
   "execution_count": 1,
   "id": "dc8ae76c",
   "metadata": {
    "execution": {
     "iopub.execute_input": "2025-07-30T19:24:03.846052Z",
     "iopub.status.busy": "2025-07-30T19:24:03.846052Z",
     "iopub.status.idle": "2025-07-30T19:24:05.895125Z",
     "shell.execute_reply": "2025-07-30T19:24:05.895125Z"
    }
   },
   "outputs": [],
   "source": [
    "import pandas as pd\n",
    "import numpy as np\n",
    "import duckdb\n",
    "\n",
    "import mlflow"
   ]
  },
  {
   "cell_type": "code",
   "execution_count": 2,
   "id": "c69cd239",
   "metadata": {
    "execution": {
     "iopub.execute_input": "2025-07-30T19:24:05.895125Z",
     "iopub.status.busy": "2025-07-30T19:24:05.895125Z",
     "iopub.status.idle": "2025-07-30T19:24:05.974584Z",
     "shell.execute_reply": "2025-07-30T19:24:05.974584Z"
    }
   },
   "outputs": [],
   "source": [
    "# Caminho do banco\n",
    "db_path = \"../../data/duckdb/database.duckdb\"\n",
    "\n",
    "# Conexão com o banco DuckDB\n",
    "con = duckdb.connect(db_path)\n",
    "\n",
    "# Define raiz do projeto (ajuste conforme seu ambiente)\n",
    "mlflow.set_tracking_uri(uri=\"http://127.0.0.1:8080\")\n",
    "\n",
    "# Carrega os dados da camada bronze\n",
    "df = con.execute(\"\"\"\n",
    "    SELECT * FROM feature.previsao_consumo\n",
    "\"\"\").df()"
   ]
  },
  {
   "cell_type": "markdown",
   "id": "973b2215",
   "metadata": {},
   "source": [
    "# Gerar dados de inferência"
   ]
  },
  {
   "cell_type": "code",
   "execution_count": 3,
   "id": "ae6ea4d7",
   "metadata": {
    "execution": {
     "iopub.execute_input": "2025-07-30T19:24:05.979005Z",
     "iopub.status.busy": "2025-07-30T19:24:05.979005Z",
     "iopub.status.idle": "2025-07-30T19:24:05.990602Z",
     "shell.execute_reply": "2025-07-30T19:24:05.990602Z"
    }
   },
   "outputs": [],
   "source": [
    "max_date = df['date'].max()\n",
    "\n",
    "df = df[df['date'] == max_date]"
   ]
  },
  {
   "cell_type": "code",
   "execution_count": 4,
   "id": "af92ac1a",
   "metadata": {
    "execution": {
     "iopub.execute_input": "2025-07-30T19:24:05.994780Z",
     "iopub.status.busy": "2025-07-30T19:24:05.994780Z",
     "iopub.status.idle": "2025-07-30T19:24:06.001195Z",
     "shell.execute_reply": "2025-07-30T19:24:06.000157Z"
    }
   },
   "outputs": [],
   "source": [
    "def atualizar_colunas_lag(df: pd.DataFrame, coluna_alvo: str, prefixo_lag: str, num_lags: int) -> pd.DataFrame:\n",
    "    \"\"\"\n",
    "    Atualiza as colunas de lag:\n",
    "        lag_{n-1} -> lag_n\n",
    "        ...\n",
    "        lag_1 -> lag_2\n",
    "        coluna_alvo -> lag_1\n",
    "\n",
    "    Parâmetros:\n",
    "        df (pd.DataFrame): DataFrame com a coluna alvo e colunas de lag.\n",
    "        coluna_alvo (str): Nome da coluna atual (ex: 'consumption_kwh').\n",
    "        prefixo_lag (str): Prefixo usado nas colunas de lag (ex: 'consumption_kwh_lag').\n",
    "        num_lags (int): Quantidade total de lags (ex: 3 cria lag_1 até lag_3).\n",
    "\n",
    "    Retorna:\n",
    "        pd.DataFrame atualizado com as colunas de lag movidas.\n",
    "    \"\"\"\n",
    "    df = df.copy()\n",
    "\n",
    "    # Move de trás para frente\n",
    "    for i in range(num_lags, 1, -1):\n",
    "        df[f\"{prefixo_lag}_{i}\"] = df[f\"{prefixo_lag}_{i-1}\"]\n",
    "\n",
    "    # lag_1 recebe o valor atual da coluna alvo\n",
    "    df[f\"{prefixo_lag}_1\"] = df[coluna_alvo]\n",
    "\n",
    "    return df"
   ]
  },
  {
   "cell_type": "code",
   "execution_count": 5,
   "id": "9cd684b2",
   "metadata": {
    "execution": {
     "iopub.execute_input": "2025-07-30T19:24:06.002369Z",
     "iopub.status.busy": "2025-07-30T19:24:06.002369Z",
     "iopub.status.idle": "2025-07-30T19:24:06.014219Z",
     "shell.execute_reply": "2025-07-30T19:24:06.014219Z"
    }
   },
   "outputs": [],
   "source": [
    "df = atualizar_colunas_lag(df, coluna_alvo='consumption_kwh', prefixo_lag='consumption_kwh_lag', num_lags=14)\n",
    "df = atualizar_colunas_lag(df, coluna_alvo='temperature', prefixo_lag='temperature_lag', num_lags=14)\n",
    "df = atualizar_colunas_lag(df, coluna_alvo='humidity', prefixo_lag='humidity_lag', num_lags=14)"
   ]
  },
  {
   "cell_type": "markdown",
   "id": "5a730b2a",
   "metadata": {},
   "source": [
    "# Inferência de Modelo"
   ]
  },
  {
   "cell_type": "code",
   "execution_count": 6,
   "id": "df749c2a",
   "metadata": {
    "execution": {
     "iopub.execute_input": "2025-07-30T19:24:06.015956Z",
     "iopub.status.busy": "2025-07-30T19:24:06.015956Z",
     "iopub.status.idle": "2025-07-30T19:24:06.021069Z",
     "shell.execute_reply": "2025-07-30T19:24:06.021069Z"
    }
   },
   "outputs": [],
   "source": [
    "def carregar_ultimo_modelo(model_name: str):\n",
    "    \"\"\"\n",
    "    Carrega o modelo mais recente registrado no MLflow Model Registry com o nome fornecido.\n",
    "\n",
    "    Parâmetros:\n",
    "        model_name (str): Nome do modelo registrado no MLflow (ex: 'previsao_consumo_SP_0')\n",
    "\n",
    "    Retorna:\n",
    "        modelo carregado (usualmente um XGBoostRegressor ou PyFunc)\n",
    "    \"\"\"\n",
    "    # Caminho padrão para o último modelo em produção (você pode usar 'latest' também)\n",
    "    model_uri = f\"models:/{model_name}/latest\"\n",
    "\n",
    "    # Carrega o modelo\n",
    "    model = mlflow.sklearn.load_model(model_uri)\n",
    "\n",
    "    return model"
   ]
  },
  {
   "cell_type": "code",
   "execution_count": 7,
   "id": "848de9d1",
   "metadata": {
    "execution": {
     "iopub.execute_input": "2025-07-30T19:24:06.021069Z",
     "iopub.status.busy": "2025-07-30T19:24:06.021069Z",
     "iopub.status.idle": "2025-07-30T19:24:09.984642Z",
     "shell.execute_reply": "2025-07-30T19:24:09.984135Z"
    }
   },
   "outputs": [
    {
     "name": "stderr",
     "output_type": "stream",
     "text": [
      "C:\\Users\\JoaoGuelfi\\AppData\\Local\\Temp\\ipykernel_24412\\1377235826.py:18: SettingWithCopyWarning: \n",
      "A value is trying to be set on a copy of a slice from a DataFrame.\n",
      "Try using .loc[row_indexer,col_indexer] = value instead\n",
      "\n",
      "See the caveats in the documentation: https://pandas.pydata.org/pandas-docs/stable/user_guide/indexing.html#returning-a-view-versus-a-copy\n",
      "  output_df['region'] = region\n",
      "C:\\Users\\JoaoGuelfi\\AppData\\Local\\Temp\\ipykernel_24412\\1377235826.py:19: SettingWithCopyWarning: \n",
      "A value is trying to be set on a copy of a slice from a DataFrame.\n",
      "Try using .loc[row_indexer,col_indexer] = value instead\n",
      "\n",
      "See the caveats in the documentation: https://pandas.pydata.org/pandas-docs/stable/user_guide/indexing.html#returning-a-view-versus-a-copy\n",
      "  output_df['forecast'] = y_pred\n"
     ]
    },
    {
     "name": "stderr",
     "output_type": "stream",
     "text": [
      "C:\\Users\\JoaoGuelfi\\AppData\\Local\\Temp\\ipykernel_24412\\1377235826.py:18: SettingWithCopyWarning: \n",
      "A value is trying to be set on a copy of a slice from a DataFrame.\n",
      "Try using .loc[row_indexer,col_indexer] = value instead\n",
      "\n",
      "See the caveats in the documentation: https://pandas.pydata.org/pandas-docs/stable/user_guide/indexing.html#returning-a-view-versus-a-copy\n",
      "  output_df['region'] = region\n",
      "C:\\Users\\JoaoGuelfi\\AppData\\Local\\Temp\\ipykernel_24412\\1377235826.py:19: SettingWithCopyWarning: \n",
      "A value is trying to be set on a copy of a slice from a DataFrame.\n",
      "Try using .loc[row_indexer,col_indexer] = value instead\n",
      "\n",
      "See the caveats in the documentation: https://pandas.pydata.org/pandas-docs/stable/user_guide/indexing.html#returning-a-view-versus-a-copy\n",
      "  output_df['forecast'] = y_pred\n"
     ]
    },
    {
     "name": "stderr",
     "output_type": "stream",
     "text": [
      "C:\\Users\\JoaoGuelfi\\AppData\\Local\\Temp\\ipykernel_24412\\1377235826.py:18: SettingWithCopyWarning: \n",
      "A value is trying to be set on a copy of a slice from a DataFrame.\n",
      "Try using .loc[row_indexer,col_indexer] = value instead\n",
      "\n",
      "See the caveats in the documentation: https://pandas.pydata.org/pandas-docs/stable/user_guide/indexing.html#returning-a-view-versus-a-copy\n",
      "  output_df['region'] = region\n",
      "C:\\Users\\JoaoGuelfi\\AppData\\Local\\Temp\\ipykernel_24412\\1377235826.py:19: SettingWithCopyWarning: \n",
      "A value is trying to be set on a copy of a slice from a DataFrame.\n",
      "Try using .loc[row_indexer,col_indexer] = value instead\n",
      "\n",
      "See the caveats in the documentation: https://pandas.pydata.org/pandas-docs/stable/user_guide/indexing.html#returning-a-view-versus-a-copy\n",
      "  output_df['forecast'] = y_pred\n"
     ]
    },
    {
     "name": "stderr",
     "output_type": "stream",
     "text": [
      "C:\\Users\\JoaoGuelfi\\AppData\\Local\\Temp\\ipykernel_24412\\1377235826.py:18: SettingWithCopyWarning: \n",
      "A value is trying to be set on a copy of a slice from a DataFrame.\n",
      "Try using .loc[row_indexer,col_indexer] = value instead\n",
      "\n",
      "See the caveats in the documentation: https://pandas.pydata.org/pandas-docs/stable/user_guide/indexing.html#returning-a-view-versus-a-copy\n",
      "  output_df['region'] = region\n",
      "C:\\Users\\JoaoGuelfi\\AppData\\Local\\Temp\\ipykernel_24412\\1377235826.py:19: SettingWithCopyWarning: \n",
      "A value is trying to be set on a copy of a slice from a DataFrame.\n",
      "Try using .loc[row_indexer,col_indexer] = value instead\n",
      "\n",
      "See the caveats in the documentation: https://pandas.pydata.org/pandas-docs/stable/user_guide/indexing.html#returning-a-view-versus-a-copy\n",
      "  output_df['forecast'] = y_pred\n"
     ]
    },
    {
     "name": "stderr",
     "output_type": "stream",
     "text": [
      "C:\\Users\\JoaoGuelfi\\AppData\\Local\\Temp\\ipykernel_24412\\1377235826.py:18: SettingWithCopyWarning: \n",
      "A value is trying to be set on a copy of a slice from a DataFrame.\n",
      "Try using .loc[row_indexer,col_indexer] = value instead\n",
      "\n",
      "See the caveats in the documentation: https://pandas.pydata.org/pandas-docs/stable/user_guide/indexing.html#returning-a-view-versus-a-copy\n",
      "  output_df['region'] = region\n",
      "C:\\Users\\JoaoGuelfi\\AppData\\Local\\Temp\\ipykernel_24412\\1377235826.py:19: SettingWithCopyWarning: \n",
      "A value is trying to be set on a copy of a slice from a DataFrame.\n",
      "Try using .loc[row_indexer,col_indexer] = value instead\n",
      "\n",
      "See the caveats in the documentation: https://pandas.pydata.org/pandas-docs/stable/user_guide/indexing.html#returning-a-view-versus-a-copy\n",
      "  output_df['forecast'] = y_pred\n"
     ]
    },
    {
     "name": "stderr",
     "output_type": "stream",
     "text": [
      "C:\\Users\\JoaoGuelfi\\AppData\\Local\\Temp\\ipykernel_24412\\1377235826.py:18: SettingWithCopyWarning: \n",
      "A value is trying to be set on a copy of a slice from a DataFrame.\n",
      "Try using .loc[row_indexer,col_indexer] = value instead\n",
      "\n",
      "See the caveats in the documentation: https://pandas.pydata.org/pandas-docs/stable/user_guide/indexing.html#returning-a-view-versus-a-copy\n",
      "  output_df['region'] = region\n",
      "C:\\Users\\JoaoGuelfi\\AppData\\Local\\Temp\\ipykernel_24412\\1377235826.py:19: SettingWithCopyWarning: \n",
      "A value is trying to be set on a copy of a slice from a DataFrame.\n",
      "Try using .loc[row_indexer,col_indexer] = value instead\n",
      "\n",
      "See the caveats in the documentation: https://pandas.pydata.org/pandas-docs/stable/user_guide/indexing.html#returning-a-view-versus-a-copy\n",
      "  output_df['forecast'] = y_pred\n"
     ]
    },
    {
     "name": "stderr",
     "output_type": "stream",
     "text": [
      "C:\\Users\\JoaoGuelfi\\AppData\\Local\\Temp\\ipykernel_24412\\1377235826.py:18: SettingWithCopyWarning: \n",
      "A value is trying to be set on a copy of a slice from a DataFrame.\n",
      "Try using .loc[row_indexer,col_indexer] = value instead\n",
      "\n",
      "See the caveats in the documentation: https://pandas.pydata.org/pandas-docs/stable/user_guide/indexing.html#returning-a-view-versus-a-copy\n",
      "  output_df['region'] = region\n",
      "C:\\Users\\JoaoGuelfi\\AppData\\Local\\Temp\\ipykernel_24412\\1377235826.py:19: SettingWithCopyWarning: \n",
      "A value is trying to be set on a copy of a slice from a DataFrame.\n",
      "Try using .loc[row_indexer,col_indexer] = value instead\n",
      "\n",
      "See the caveats in the documentation: https://pandas.pydata.org/pandas-docs/stable/user_guide/indexing.html#returning-a-view-versus-a-copy\n",
      "  output_df['forecast'] = y_pred\n"
     ]
    },
    {
     "name": "stderr",
     "output_type": "stream",
     "text": [
      "C:\\Users\\JoaoGuelfi\\AppData\\Local\\Temp\\ipykernel_24412\\1377235826.py:18: SettingWithCopyWarning: \n",
      "A value is trying to be set on a copy of a slice from a DataFrame.\n",
      "Try using .loc[row_indexer,col_indexer] = value instead\n",
      "\n",
      "See the caveats in the documentation: https://pandas.pydata.org/pandas-docs/stable/user_guide/indexing.html#returning-a-view-versus-a-copy\n",
      "  output_df['region'] = region\n",
      "C:\\Users\\JoaoGuelfi\\AppData\\Local\\Temp\\ipykernel_24412\\1377235826.py:19: SettingWithCopyWarning: \n",
      "A value is trying to be set on a copy of a slice from a DataFrame.\n",
      "Try using .loc[row_indexer,col_indexer] = value instead\n",
      "\n",
      "See the caveats in the documentation: https://pandas.pydata.org/pandas-docs/stable/user_guide/indexing.html#returning-a-view-versus-a-copy\n",
      "  output_df['forecast'] = y_pred\n"
     ]
    },
    {
     "name": "stderr",
     "output_type": "stream",
     "text": [
      "C:\\Users\\JoaoGuelfi\\AppData\\Local\\Temp\\ipykernel_24412\\1377235826.py:18: SettingWithCopyWarning: \n",
      "A value is trying to be set on a copy of a slice from a DataFrame.\n",
      "Try using .loc[row_indexer,col_indexer] = value instead\n",
      "\n",
      "See the caveats in the documentation: https://pandas.pydata.org/pandas-docs/stable/user_guide/indexing.html#returning-a-view-versus-a-copy\n",
      "  output_df['region'] = region\n",
      "C:\\Users\\JoaoGuelfi\\AppData\\Local\\Temp\\ipykernel_24412\\1377235826.py:19: SettingWithCopyWarning: \n",
      "A value is trying to be set on a copy of a slice from a DataFrame.\n",
      "Try using .loc[row_indexer,col_indexer] = value instead\n",
      "\n",
      "See the caveats in the documentation: https://pandas.pydata.org/pandas-docs/stable/user_guide/indexing.html#returning-a-view-versus-a-copy\n",
      "  output_df['forecast'] = y_pred\n"
     ]
    }
   ],
   "source": [
    "df['date'] = pd.to_datetime(df['date'])\n",
    "df.set_index('date', inplace=True)\n",
    "\n",
    "resultados = []\n",
    "features = [col for col in df.columns if col not in ['client_id', 'date', 'consumption_kwh', 'cluster', 'region','humidity','temperature']]\n",
    "\n",
    "\n",
    "grupos = df.groupby(['cluster', 'region'])\n",
    "\n",
    "for (cluster, region), grupo_df in grupos:\n",
    "\n",
    "    nome_modelo = f\"previsao_cliente_{region}_{cluster}\"\n",
    "    modelo = carregar_ultimo_modelo(nome_modelo)\n",
    "\n",
    "    y_pred = modelo.predict(grupo_df[features])\n",
    "\n",
    "    output_df = grupo_df[['client_id']]\n",
    "    output_df['region'] = region\n",
    "    output_df['forecast'] = y_pred\n",
    "\n",
    "    resultados.append(output_df)\n",
    "\n",
    "resultados = pd.concat(resultados)"
   ]
  },
  {
   "cell_type": "markdown",
   "id": "57286427",
   "metadata": {},
   "source": [
    "# Salvar Previsões"
   ]
  },
  {
   "cell_type": "code",
   "execution_count": 8,
   "id": "edd17f90",
   "metadata": {
    "execution": {
     "iopub.execute_input": "2025-07-30T19:24:09.989121Z",
     "iopub.status.busy": "2025-07-30T19:24:09.988069Z",
     "iopub.status.idle": "2025-07-30T19:24:10.004927Z",
     "shell.execute_reply": "2025-07-30T19:24:10.004927Z"
    }
   },
   "outputs": [
    {
     "data": {
      "text/plain": [
       "<duckdb.duckdb.DuckDBPyConnection at 0x2eb2e575270>"
      ]
     },
     "execution_count": 8,
     "metadata": {},
     "output_type": "execute_result"
    }
   ],
   "source": [
    "con.execute(\"\"\"\n",
    "CREATE TABLE IF NOT EXISTS output.previsao_consumo (\n",
    "    client_id VARCHAR,\n",
    "    region VARCHAR,\n",
    "    forecast DOUBLE\n",
    ")\n",
    "\"\"\")"
   ]
  },
  {
   "cell_type": "code",
   "execution_count": 9,
   "id": "e650815e",
   "metadata": {
    "execution": {
     "iopub.execute_input": "2025-07-30T19:24:10.009351Z",
     "iopub.status.busy": "2025-07-30T19:24:10.007345Z",
     "iopub.status.idle": "2025-07-30T19:24:10.016324Z",
     "shell.execute_reply": "2025-07-30T19:24:10.016324Z"
    }
   },
   "outputs": [
    {
     "data": {
      "text/plain": [
       "<duckdb.duckdb.DuckDBPyConnection at 0x2eb2e575270>"
      ]
     },
     "execution_count": 9,
     "metadata": {},
     "output_type": "execute_result"
    }
   ],
   "source": [
    "# Limpa dados se as tabelas já existirem\n",
    "con.execute(\"DELETE FROM output.previsao_consumo\")"
   ]
  },
  {
   "cell_type": "code",
   "execution_count": 10,
   "id": "338aae40",
   "metadata": {
    "execution": {
     "iopub.execute_input": "2025-07-30T19:24:10.019794Z",
     "iopub.status.busy": "2025-07-30T19:24:10.019794Z",
     "iopub.status.idle": "2025-07-30T19:24:10.029935Z",
     "shell.execute_reply": "2025-07-30T19:24:10.029935Z"
    }
   },
   "outputs": [
    {
     "data": {
      "text/plain": [
       "<duckdb.duckdb.DuckDBPyConnection at 0x2eb2e575270>"
      ]
     },
     "execution_count": 10,
     "metadata": {},
     "output_type": "execute_result"
    }
   ],
   "source": [
    "# Registra como tabelas temporárias\n",
    "con.register(\"resultados\", resultados)"
   ]
  },
  {
   "cell_type": "code",
   "execution_count": 11,
   "id": "ed9f5af0",
   "metadata": {
    "execution": {
     "iopub.execute_input": "2025-07-30T19:24:10.033736Z",
     "iopub.status.busy": "2025-07-30T19:24:10.031730Z",
     "iopub.status.idle": "2025-07-30T19:24:10.045296Z",
     "shell.execute_reply": "2025-07-30T19:24:10.044341Z"
    }
   },
   "outputs": [
    {
     "data": {
      "text/plain": [
       "<duckdb.duckdb.DuckDBPyConnection at 0x2eb2e575270>"
      ]
     },
     "execution_count": 11,
     "metadata": {},
     "output_type": "execute_result"
    }
   ],
   "source": [
    "# Insere os dados nas tabelas gold\n",
    "con.execute(\"INSERT INTO output.previsao_consumo SELECT * FROM resultados\")"
   ]
  },
  {
   "cell_type": "code",
   "execution_count": 12,
   "id": "8228340b",
   "metadata": {
    "execution": {
     "iopub.execute_input": "2025-07-30T19:24:10.047931Z",
     "iopub.status.busy": "2025-07-30T19:24:10.047931Z",
     "iopub.status.idle": "2025-07-30T19:24:10.087518Z",
     "shell.execute_reply": "2025-07-30T19:24:10.087518Z"
    }
   },
   "outputs": [],
   "source": [
    "con.close()"
   ]
  },
  {
   "cell_type": "code",
   "execution_count": null,
   "id": "0b0b7a71",
   "metadata": {},
   "outputs": [],
   "source": []
  }
 ],
 "metadata": {
  "kernelspec": {
   "display_name": "venv (3.11.9)",
   "language": "python",
   "name": "python3"
  },
  "language_info": {
   "codemirror_mode": {
    "name": "ipython",
    "version": 3
   },
   "file_extension": ".py",
   "mimetype": "text/x-python",
   "name": "python",
   "nbconvert_exporter": "python",
   "pygments_lexer": "ipython3",
   "version": "3.11.9"
  }
 },
 "nbformat": 4,
 "nbformat_minor": 5
}
